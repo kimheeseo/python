{
  "nbformat": 4,
  "nbformat_minor": 0,
  "metadata": {
    "colab": {
      "provenance": [],
      "authorship_tag": "ABX9TyO6f6PIifGUTJHUQR/9VEgi",
      "include_colab_link": true
    },
    "kernelspec": {
      "name": "python3",
      "display_name": "Python 3"
    },
    "language_info": {
      "name": "python"
    }
  },
  "cells": [
    {
      "cell_type": "markdown",
      "metadata": {
        "id": "view-in-github",
        "colab_type": "text"
      },
      "source": [
        "<a href=\"https://colab.research.google.com/github/kimheeseo/python/blob/main/13237_Binary_tree.ipynb\" target=\"_parent\"><img src=\"https://colab.research.google.com/assets/colab-badge.svg\" alt=\"Open In Colab\"/></a>"
      ]
    },
    {
      "cell_type": "code",
      "execution_count": 1,
      "metadata": {
        "colab": {
          "base_uri": "https://localhost:8080/"
        },
        "id": "QHnq-P86JQ-K",
        "outputId": "35f365f7-79a7-4936-c0f8-5de87b4d8fe0"
      },
      "outputs": [
        {
          "output_type": "stream",
          "name": "stdout",
          "text": [
            "7\n",
            "-1\n",
            "1\n",
            "1\n",
            "2\n",
            "2\n",
            "3\n",
            "3\n",
            "parent값: [-1, 1, 1, 2, 2, 3, 3]\n",
            "high 값: [0, 0, 0, 0, 0, 0, 0]\n"
          ]
        }
      ],
      "source": [
        "n=int(input())\n",
        "parent=[int(input()) for i in range(n)]\n",
        "print('parent값:', parent)\n",
        "\n",
        "high=[0 for i in range(n)]\n",
        "print('high 값:',high)"
      ]
    },
    {
      "cell_type": "code",
      "source": [
        "for i in range(n):\n",
        "  if parent[i]==-1:\n",
        "    continue #root\n",
        "  high[i]=high[parent[i]-1]+1\n",
        "print('high값:', high)"
      ],
      "metadata": {
        "colab": {
          "base_uri": "https://localhost:8080/"
        },
        "id": "oeK6kpnXKTJl",
        "outputId": "c64fe060-c7c8-43ab-df58-cffa7f8f1f63"
      },
      "execution_count": 2,
      "outputs": [
        {
          "output_type": "stream",
          "name": "stdout",
          "text": [
            "high값: [0, 1, 1, 2, 2, 2, 2]\n"
          ]
        }
      ]
    }
  ]
}