{
  "nbformat": 4,
  "nbformat_minor": 0,
  "metadata": {
    "colab": {
      "provenance": [],
      "authorship_tag": "ABX9TyPM2uxaQwlWGID7Us+rIFUb",
      "include_colab_link": true
    },
    "kernelspec": {
      "name": "python3",
      "display_name": "Python 3"
    },
    "language_info": {
      "name": "python"
    }
  },
  "cells": [
    {
      "cell_type": "markdown",
      "metadata": {
        "id": "view-in-github",
        "colab_type": "text"
      },
      "source": [
        "<a href=\"https://colab.research.google.com/github/kimheeseo/python/blob/main/2775%EB%B2%88.ipynb\" target=\"_parent\"><img src=\"https://colab.research.google.com/assets/colab-badge.svg\" alt=\"Open In Colab\"/></a>"
      ]
    },
    {
      "cell_type": "markdown",
      "source": [
        "**2775번**"
      ],
      "metadata": {
        "id": "zIpPxKPEDC8c"
      }
    },
    {
      "cell_type": "code",
      "source": [
        "t = int(input())\n",
        "for _ in range(t):\n",
        "    floor = int(input())\n",
        "    num = int(input())\n",
        "\n",
        "    f0 = list(range(1, num + 1))  # 0층 초기화\n",
        "    print(\"f0:\", f0)              # ← 추가\n",
        "\n",
        "    for _ in range(floor):\n",
        "        for i in range(1, num):\n",
        "            f0[i] += f0[i - 1]\n",
        "    print(f0[-1])"
      ],
      "metadata": {
        "colab": {
          "base_uri": "https://localhost:8080/"
        },
        "id": "C8KAdIZ4DlAb",
        "outputId": "c1fdd50d-7914-4bd6-f590-3b0207b2055a"
      },
      "execution_count": 6,
      "outputs": [
        {
          "output_type": "stream",
          "name": "stdout",
          "text": [
            "2\n",
            "1\n",
            "3\n",
            "f0: [1, 2, 3]\n",
            "6\n",
            "2\n",
            "3\n",
            "f0: [1, 2, 3]\n",
            "10\n"
          ]
        }
      ]
    }
  ]
}