{
  "nbformat": 4,
  "nbformat_minor": 0,
  "metadata": {
    "colab": {
      "provenance": [],
      "gpuType": "T4",
      "mount_file_id": "1AzFn3IJ9WLTzl_OAIlTuqrhkLGE52FIp",
      "authorship_tag": "ABX9TyMb96wxiuGW0yZIqwKz91mc",
      "include_colab_link": true
    },
    "kernelspec": {
      "name": "python3",
      "display_name": "Python 3"
    },
    "language_info": {
      "name": "python"
    },
    "accelerator": "GPU"
  },
  "cells": [
    {
      "cell_type": "markdown",
      "metadata": {
        "id": "view-in-github",
        "colab_type": "text"
      },
      "source": [
        "<a href=\"https://colab.research.google.com/github/kimheeseo/python/blob/main/cha4_01.ipynb\" target=\"_parent\"><img src=\"https://colab.research.google.com/assets/colab-badge.svg\" alt=\"Open In Colab\"/></a>"
      ]
    },
    {
      "cell_type": "markdown",
      "source": [
        "**chatper 4. 이미지 처리와 합성곱 신경망**"
      ],
      "metadata": {
        "id": "4tHKvaPAS2bE"
      }
    },
    {
      "cell_type": "code",
      "execution_count": 1,
      "metadata": {
        "id": "MXOIyo-qSunT"
      },
      "outputs": [],
      "source": [
        "# 이미지 분야에서 합성곱(convolution)이란, 이미지 위에 작은 커널 행렬을 이동시켜 가면서\n",
        "# 각 요소의 곱을 계산해 가는 방식.\n",
        "\n",
        "# 커널의 계수를 변경하면 이미지를 날카롭게 만든다든가 경계선을 추출하는 등 다양한 처리가 가능하다."
      ]
    },
    {
      "cell_type": "markdown",
      "source": [
        "**CNN을 사용한 이미지 분류**"
      ],
      "metadata": {
        "id": "-GxSlAB7VhTr"
      }
    },
    {
      "cell_type": "code",
      "source": [
        "# CNN을 사용한 이미지 분류는 기본적으로 합성곱으로부터 ReLU 등의\n",
        "# 활성화 함수를 적용하는 과정을 여러 번 실시하면 된다.\n",
        "\n",
        "# 이미지 데이터: (C,H,W) 형식\n",
        "# H, W: 이미지의 세로, 가로 크기, C: 색수 또는 채널\n",
        "\n",
        "# 이 처리를 통해 얻은 특이량을 MLP에 넣어서 최종적인 분류를 판별하게 된다.\n",
        "# 합성곱 처리 후에는 위치 감도를 높이는 pooling을 적용하거나, dropout, batch normalization을\n",
        "# 함께 사용하는 경우도 많다."
      ],
      "metadata": {
        "id": "uG0tQlGoS6pl"
      },
      "execution_count": 2,
      "outputs": []
    },
    {
      "cell_type": "markdown",
      "source": [
        "**Fashion-MNIST**"
      ],
      "metadata": {
        "id": "kPX7bcvGWale"
      }
    },
    {
      "cell_type": "code",
      "source": [
        "# MNIST: 28 x 28 픽셀의 흑백 손글씨 숫자 데이터.\n",
        "# 이 MNIST가 너무 간단하다는 지적도 있어서 손글씨 문자 대신에 10가지 분류의 옷 및 액세서리를\n",
        "# 이미지 데이터로 이루어진 Fashion-MNIST가 고안됐다.\n",
        "\n",
        "# Fahion-MNIST: 28 x 28 픽셀 크기의 흑백 이미지."
      ],
      "metadata": {
        "id": "uDZHklvGS6sA"
      },
      "execution_count": 3,
      "outputs": []
    },
    {
      "cell_type": "code",
      "source": [
        "# 파이토치의 확장 기능인 torchvision이라는 라이브러리를 사용하면, Fashion-MNIST 데이터 다운로드부터,\n",
        "# Dataset으로 변환, DataLoader 작성까지 할 수 있다."
      ],
      "metadata": {
        "id": "H7k-2vTTS6ue"
      },
      "execution_count": 4,
      "outputs": []
    },
    {
      "cell_type": "code",
      "source": [
        "import torch\n",
        "from torch import nn, optim\n",
        "from torch.utils.data import (Dataset, DataLoader, TensorDataset)\n",
        "import tqdm\n",
        "\n",
        "from torchvision.datasets import FashionMNIST\n",
        "from torchvision import transforms"
      ],
      "metadata": {
        "id": "97hzAswUXyfn"
      },
      "execution_count": 5,
      "outputs": []
    },
    {
      "cell_type": "code",
      "source": [
        "# 훈련용 데이터 가져오기\n",
        "# 초기 상태에선 PIL(Python Imaging Library) 이미지 형식으로 Dataset를 만들어 버린다.\n",
        "# transfroms.ToTensor를 사용해 텐서로 변환한다.\n",
        "fashion_mnist_train=FashionMNIST(\"/content/drive/MyDrive/Colab Notebooks/파이토치첫걸음/FashionMNIST\",train=True, download=True, transform=transforms.ToTensor())"
      ],
      "metadata": {
        "id": "FboFWsrDS6w6"
      },
      "execution_count": 6,
      "outputs": []
    },
    {
      "cell_type": "code",
      "source": [
        "# 검증용 데이터 가져오기\n",
        "fashion_mnist_test=FashionMNIST(\"/content/drive/MyDrive/Colab Notebooks/파이토치첫걸음/FashionMNIST\",train=False, download=True, transform=transforms.ToTensor())"
      ],
      "metadata": {
        "id": "ZOJwOecpS6zf"
      },
      "execution_count": 7,
      "outputs": []
    },
    {
      "cell_type": "code",
      "source": [
        "# 배치 크기 128인 DataLoader를 각각 작성\n",
        "batch_size=128\n",
        "train_loader=DataLoader(fashion_mnist_train, batch_size=batch_size, shuffle=True)\n",
        "test_loader=DataLoader(fashion_mnist_test, batch_size=batch_size, shuffle=False)"
      ],
      "metadata": {
        "id": "HR9FSc_xS62C"
      },
      "execution_count": 8,
      "outputs": []
    },
    {
      "cell_type": "markdown",
      "source": [
        "**CNN 구축과 학습**"
      ],
      "metadata": {
        "id": "swEzE6hJcOr2"
      }
    },
    {
      "cell_type": "code",
      "source": [
        "# 파이토치 이미지의 합성곱 처리를 위한 nn.Conv2d나 풀링을 위한 nn.MaxPool2d 등을 제공하므로 바로 CNN을 구축할 수 있다.\n",
        "# 2계층 합성곱과 2계층 MLP를 연결한 CNN 작성\n",
        "\n",
        "# 2층 합성곱과 2층 MLP를 연결한 CNN작성\n",
        "# 합성곱 출력을 MLP에 전달할 때 필요\n",
        "\n",
        "class FlattenLayer(nn.Module):\n",
        "  def forward(self, x):\n",
        "    sizes=x.size()\n",
        "    return x.view(sizes[0], -1)\n",
        "\n",
        "# 5x5의 커널을 사용해서 처음에 32개, 다음에 64개의 채널 작성\n",
        "# BatchNorm2d: 이미지용 Batch Normalization\n",
        "# Dropout2d: 이미지용 Dropout\n",
        "# 마지막으로 FlattenLayer 적용\n",
        "\n",
        "conv_net=nn.Sequential(\n",
        "    nn.Conv2d(1,32,5),\n",
        "    nn.MaxPool2d(2),\n",
        "    nn.ReLU(),\n",
        "    nn.BatchNorm2d(32),\n",
        "    nn.Dropout2d(0.25),\n",
        "\n",
        "    nn.Conv2d(32,64,5),\n",
        "    nn.MaxPool2d(2),\n",
        "    nn.ReLU(),\n",
        "    nn.BatchNorm2d(64),\n",
        "    nn.Dropout2d(0.25),\n",
        "    FlattenLayer()\n",
        ")\n",
        "\n",
        "# 합성곱에 의해 최종적으로 이미지 크기가 어떤지를 더미 데이터에 넣어서 확인한다.\n",
        "test_input=torch.ones(1,1,28,28)\n",
        "conv_output_size=conv_net(test_input).size()[-1]\n",
        "\n",
        "# 2층 MLP\n",
        "mlp=nn.Sequential(\n",
        "    nn.Linear(conv_output_size,200),\n",
        "    nn.ReLU(),\n",
        "    nn.BatchNorm1d(200),\n",
        "    nn.Dropout(0.25),\n",
        "    nn.Linear(200,10)\n",
        ")\n",
        "\n",
        "# 최종 CNN\n",
        "net=nn.Sequential(\n",
        "    conv_net,\n",
        "    mlp\n",
        ")"
      ],
      "metadata": {
        "id": "Ituq5xYbS64k"
      },
      "execution_count": 9,
      "outputs": []
    },
    {
      "cell_type": "code",
      "source": [
        "test_input=torch.ones(1,1,28,28)\n",
        "conv_output_size=conv_net(test_input).size()[-1]\n",
        "\n",
        "print('test_input.size():',test_input.size())\n",
        "print('conv_output_size값:',conv_output_size)"
      ],
      "metadata": {
        "colab": {
          "base_uri": "https://localhost:8080/"
        },
        "id": "QA2Q2Si7S669",
        "outputId": "6c6e142d-03c2-4119-cba9-c2d9305c80bc"
      },
      "execution_count": 10,
      "outputs": [
        {
          "output_type": "stream",
          "name": "stdout",
          "text": [
            "test_input.size(): torch.Size([1, 1, 28, 28])\n",
            "conv_output_size값: 1024\n"
          ]
        }
      ]
    },
    {
      "cell_type": "code",
      "source": [
        "conv_net(test_input).size()"
      ],
      "metadata": {
        "colab": {
          "base_uri": "https://localhost:8080/"
        },
        "id": "sFwP8nmbpQXe",
        "outputId": "dee51b9b-7ff5-474d-aedb-feb3a74e5a80"
      },
      "execution_count": 11,
      "outputs": [
        {
          "output_type": "execute_result",
          "data": {
            "text/plain": [
              "torch.Size([1, 1024])"
            ]
          },
          "metadata": {},
          "execution_count": 11
        }
      ]
    },
    {
      "cell_type": "markdown",
      "source": [
        "**평가와 훈련용 헬퍼 함수 작성**"
      ],
      "metadata": {
        "id": "ohDLAkiTtfLd"
      }
    },
    {
      "cell_type": "code",
      "source": [
        "# 평가용 헬퍼 함수\n",
        "def eval_net(net, data_loader):\n",
        "  # dropout 및 batchnorm을 무효화\n",
        "  net.eval()\n",
        "  ys=[]\n",
        "  ypreds=[]\n",
        "\n",
        "  for x, y in data_loader:\n",
        "    with torch.no_grad():\n",
        "      _, y_pred=net(x).max(1)\n",
        "    ys.append(y)\n",
        "    ypreds.append(y_pred)\n",
        "\n",
        "  # 미니 배치 단위의 예측 결과 등을 하나로 묶는다.\n",
        "  ys=torch.cat(ys)\n",
        "  ypreds=torch.cat(ypreds)\n",
        "\n",
        "  # 예측 정확도 계산\n",
        "  acc=(ys==ypreds).float().sum()/len(ys)\n",
        "  return acc.item()"
      ],
      "metadata": {
        "id": "HUltH3wHthL3"
      },
      "execution_count": 12,
      "outputs": []
    },
    {
      "cell_type": "markdown",
      "source": [
        "![스크린샷 2024-08-13 124646.png](data:image/png;base64,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)"
      ],
      "metadata": {
        "id": "eDN7oupE2HIb"
      }
    },
    {
      "cell_type": "code",
      "source": [
        "# 훈련용 헬퍼 함수\n",
        "def train_net(net, train_loader, test_loader, optimizer_cls=optim.Adam, loss_fn=nn.CrossEntropyLoss(), n_iter=20):\n",
        "  train_losses=[]\n",
        "  train_acc=[]\n",
        "  val_acc=[]\n",
        "  optimizer=optimizer_cls(net.parameters())\n",
        "\n",
        "  for epoch in range(n_iter):\n",
        "    running_loss=0.0\n",
        "\n",
        "    net.train() # 신경망을 훈련 모드로 설정\n",
        "    n=0\n",
        "    n_acc=0\n",
        "\n",
        "    for i, (xx,yy) in tqdm.tqdm(enumerate(train_loader), total=len(train_loader)):\n",
        "      h=net(xx)\n",
        "      loss=loss_fn(h,yy)\n",
        "      optimizer.zero_grad()\n",
        "      loss.backward()\n",
        "      optimizer.step()\n",
        "      running_loss+=loss.item()\n",
        "      n+=len(xx)\n",
        "      _,y_pred=h.max(1)\n",
        "      n_acc+=(yy==y_pred).float().sum().item()\n",
        "\n",
        "    train_losses.append(running_loss/i)\n",
        "    train_acc.append(n_acc/n)\n",
        "\n",
        "    # 검증 데이터의 예측 정확도\n",
        "    val_acc.append(eval_net(net, test_loader))\n",
        "\n",
        "    # epoch의 결과 표시\n",
        "    print(epoch, train_losses[-1], train_acc[-1], val_acc[-1], flush=True)\n",
        "  return train_acc, val_acc, train_losses"
      ],
      "metadata": {
        "id": "iG-ZVUG9thOf"
      },
      "execution_count": 37,
      "outputs": []
    },
    {
      "cell_type": "code",
      "source": [
        "# 훈련 실행\n",
        "(train_acc, val_acc,train_losses)=train_net(net, train_loader, test_loader, n_iter=20)"
      ],
      "metadata": {
        "colab": {
          "base_uri": "https://localhost:8080/"
        },
        "id": "M2ClmqYXthRF",
        "outputId": "19cc95e8-d8d7-4755-ca96-0fea29803246"
      },
      "execution_count": 38,
      "outputs": [
        {
          "output_type": "stream",
          "name": "stderr",
          "text": [
            "100%|██████████| 469/469 [01:10<00:00,  6.61it/s]\n"
          ]
        },
        {
          "output_type": "stream",
          "name": "stdout",
          "text": [
            "0 0.2461852280693686 0.9106833333333333 0.9092000126838684\n"
          ]
        },
        {
          "output_type": "stream",
          "name": "stderr",
          "text": [
            "100%|██████████| 469/469 [01:03<00:00,  7.38it/s]\n"
          ]
        },
        {
          "output_type": "stream",
          "name": "stdout",
          "text": [
            "1 0.23517826887277457 0.9140833333333334 0.9103000164031982\n"
          ]
        },
        {
          "output_type": "stream",
          "name": "stderr",
          "text": [
            "100%|██████████| 469/469 [01:02<00:00,  7.44it/s]\n"
          ]
        },
        {
          "output_type": "stream",
          "name": "stdout",
          "text": [
            "2 0.2193103650600737 0.9193 0.9178000092506409\n"
          ]
        },
        {
          "output_type": "stream",
          "name": "stderr",
          "text": [
            "100%|██████████| 469/469 [01:02<00:00,  7.53it/s]\n"
          ]
        },
        {
          "output_type": "stream",
          "name": "stdout",
          "text": [
            "3 0.209343901843342 0.92205 0.9126999974250793\n"
          ]
        },
        {
          "output_type": "stream",
          "name": "stderr",
          "text": [
            "100%|██████████| 469/469 [01:02<00:00,  7.55it/s]\n"
          ]
        },
        {
          "output_type": "stream",
          "name": "stdout",
          "text": [
            "4 0.20381760098931626 0.9242333333333334 0.9193000197410583\n"
          ]
        },
        {
          "output_type": "stream",
          "name": "stderr",
          "text": [
            "100%|██████████| 469/469 [01:02<00:00,  7.56it/s]\n"
          ]
        },
        {
          "output_type": "stream",
          "name": "stdout",
          "text": [
            "5 0.1951379061350201 0.92765 0.9157000184059143\n"
          ]
        },
        {
          "output_type": "stream",
          "name": "stderr",
          "text": [
            "100%|██████████| 469/469 [01:02<00:00,  7.55it/s]\n"
          ]
        },
        {
          "output_type": "stream",
          "name": "stdout",
          "text": [
            "6 0.18961052743033466 0.9299833333333334 0.9139000177383423\n"
          ]
        },
        {
          "output_type": "stream",
          "name": "stderr",
          "text": [
            "100%|██████████| 469/469 [01:02<00:00,  7.49it/s]\n"
          ]
        },
        {
          "output_type": "stream",
          "name": "stdout",
          "text": [
            "7 0.18329144641757011 0.9322333333333334 0.919700026512146\n"
          ]
        },
        {
          "output_type": "stream",
          "name": "stderr",
          "text": [
            "100%|██████████| 469/469 [01:02<00:00,  7.48it/s]\n"
          ]
        },
        {
          "output_type": "stream",
          "name": "stdout",
          "text": [
            "8 0.17886113638902068 0.9329 0.9154000282287598\n"
          ]
        },
        {
          "output_type": "stream",
          "name": "stderr",
          "text": [
            "100%|██████████| 469/469 [01:02<00:00,  7.47it/s]\n"
          ]
        },
        {
          "output_type": "stream",
          "name": "stdout",
          "text": [
            "9 0.17374510262320694 0.9350666666666667 0.919700026512146\n"
          ]
        },
        {
          "output_type": "stream",
          "name": "stderr",
          "text": [
            "100%|██████████| 469/469 [01:02<00:00,  7.53it/s]\n"
          ]
        },
        {
          "output_type": "stream",
          "name": "stdout",
          "text": [
            "10 0.1676331270390596 0.9376333333333333 0.919700026512146\n"
          ]
        },
        {
          "output_type": "stream",
          "name": "stderr",
          "text": [
            "100%|██████████| 469/469 [01:02<00:00,  7.48it/s]\n"
          ]
        },
        {
          "output_type": "stream",
          "name": "stdout",
          "text": [
            "11 0.16489884652929682 0.93845 0.9218000173568726\n"
          ]
        },
        {
          "output_type": "stream",
          "name": "stderr",
          "text": [
            "100%|██████████| 469/469 [01:02<00:00,  7.45it/s]\n"
          ]
        },
        {
          "output_type": "stream",
          "name": "stdout",
          "text": [
            "12 0.15936957090360743 0.9404166666666667 0.9221000075340271\n"
          ]
        },
        {
          "output_type": "stream",
          "name": "stderr",
          "text": [
            "100%|██████████| 469/469 [01:03<00:00,  7.40it/s]\n"
          ]
        },
        {
          "output_type": "stream",
          "name": "stdout",
          "text": [
            "13 0.15827326376277667 0.9407666666666666 0.92330002784729\n"
          ]
        },
        {
          "output_type": "stream",
          "name": "stderr",
          "text": [
            "100%|██████████| 469/469 [01:03<00:00,  7.41it/s]\n"
          ]
        },
        {
          "output_type": "stream",
          "name": "stdout",
          "text": [
            "14 0.15202391996947873 0.9432666666666667 0.9243999719619751\n"
          ]
        },
        {
          "output_type": "stream",
          "name": "stderr",
          "text": [
            "100%|██████████| 469/469 [01:03<00:00,  7.43it/s]\n"
          ]
        },
        {
          "output_type": "stream",
          "name": "stdout",
          "text": [
            "15 0.15167097510913244 0.9430166666666666 0.92330002784729\n"
          ]
        },
        {
          "output_type": "stream",
          "name": "stderr",
          "text": [
            "100%|██████████| 469/469 [01:03<00:00,  7.44it/s]\n"
          ]
        },
        {
          "output_type": "stream",
          "name": "stdout",
          "text": [
            "16 0.15035599587946877 0.94395 0.9215999841690063\n"
          ]
        },
        {
          "output_type": "stream",
          "name": "stderr",
          "text": [
            "100%|██████████| 469/469 [01:03<00:00,  7.43it/s]\n"
          ]
        },
        {
          "output_type": "stream",
          "name": "stdout",
          "text": [
            "17 0.14528485524476084 0.9459333333333333 0.9243000149726868\n"
          ]
        },
        {
          "output_type": "stream",
          "name": "stderr",
          "text": [
            "100%|██████████| 469/469 [01:02<00:00,  7.45it/s]\n"
          ]
        },
        {
          "output_type": "stream",
          "name": "stdout",
          "text": [
            "18 0.14324469834916356 0.9461666666666667 0.9223999977111816\n"
          ]
        },
        {
          "output_type": "stream",
          "name": "stderr",
          "text": [
            "100%|██████████| 469/469 [01:02<00:00,  7.46it/s]\n"
          ]
        },
        {
          "output_type": "stream",
          "name": "stdout",
          "text": [
            "19 0.14169660445430085 0.9468833333333333 0.925000011920929\n"
          ]
        }
      ]
    },
    {
      "cell_type": "code",
      "source": [
        "val_acc"
      ],
      "metadata": {
        "colab": {
          "base_uri": "https://localhost:8080/"
        },
        "id": "BPCeNqHRthWR",
        "outputId": "774ff8f8-eb34-4040-f755-19536cf5c3b9"
      },
      "execution_count": 39,
      "outputs": [
        {
          "output_type": "execute_result",
          "data": {
            "text/plain": [
              "[0.9092000126838684,\n",
              " 0.9103000164031982,\n",
              " 0.9178000092506409,\n",
              " 0.9126999974250793,\n",
              " 0.9193000197410583,\n",
              " 0.9157000184059143,\n",
              " 0.9139000177383423,\n",
              " 0.919700026512146,\n",
              " 0.9154000282287598,\n",
              " 0.919700026512146,\n",
              " 0.919700026512146,\n",
              " 0.9218000173568726,\n",
              " 0.9221000075340271,\n",
              " 0.92330002784729,\n",
              " 0.9243999719619751,\n",
              " 0.92330002784729,\n",
              " 0.9215999841690063,\n",
              " 0.9243000149726868,\n",
              " 0.9223999977111816,\n",
              " 0.925000011920929]"
            ]
          },
          "metadata": {},
          "execution_count": 39
        }
      ]
    },
    {
      "cell_type": "code",
      "source": [
        "from matplotlib import pyplot as plt\n",
        "plt.bar('train', train_acc,label='train')\n",
        "plt.bar('val', val_acc,label='val')\n",
        "plt.legend()\n",
        "plt.show()"
      ],
      "metadata": {
        "colab": {
          "base_uri": "https://localhost:8080/",
          "height": 430
        },
        "id": "NK0R6HPathTp",
        "outputId": "1e2556bc-6ed6-4f37-fe2f-e8a42212373f"
      },
      "execution_count": 40,
      "outputs": [
        {
          "output_type": "display_data",
          "data": {
            "text/plain": [
              "<Figure size 640x480 with 1 Axes>"
            ],
            "image/png": "[encoded data removed]"
          },
          "metadata": {}
        }
      ]
    },
    {
      "cell_type": "code",
      "source": [
        "from matplotlib import pyplot as plt\n",
        "plt.plot(train_losses,label='train')\n",
        "plt.legend()\n",
        "plt.show()"
      ],
      "metadata": {
        "colab": {
          "base_uri": "https://localhost:8080/",
          "height": 430
        },
        "id": "p2vFt9c1thYy",
        "outputId": "b23e0298-bf36-4b97-ae92-5ff228d447db"
      },
      "execution_count": 45,
      "outputs": [
        {
          "output_type": "display_data",
          "data": {
            "text/plain": [
              "<Figure size 640x480 with 1 Axes>"
            ],
            "image/png": "[encoded data removed]"
          },
          "metadata": {}
        }
      ]
    },
    {
      "cell_type": "code",
      "source": [
        "# CNN: 다양한 구조가 존재하며, VGG, Inception, ResNet 등은 정확도가 높기로 유명하다.\n",
        "# 이 모델들은 층이 매우 깊은 신경망 구조로, 대량의 파라미터를 가지고 있으며, 과학습 없이 파라미터를\n",
        "# 최적화하려면 훈련용 이미지도 대량으로 필요하다. 이미지를 수집해야 하는 것뿐만 아니라, 각각에 레이블을 붙이는\n",
        "# 작업도 매우 힘든 작업이다."
      ],
      "metadata": {
        "id": "-WJ-ONz-thbF"
      },
      "execution_count": null,
      "outputs": []
    },
    {
      "cell_type": "code",
      "source": [
        "# CIFAR-10, ImageNet 등 레이블이 할당된 범용 데이터를 사용할 때는 문제가 없지만, 실제로 자신의 서비스에서 사용할\n",
        "# 이미지로 모델을 훈련하려고 하면 이런 작업은 많은 수고가 따른다. 또한, 이미지 데이터 자체를 수집하기 어려운 경우도 있다.\n",
        "# 다행히 이 문제는 전이 학습이라는 기법을 이용하면 해결할 수 있다."
      ],
      "metadata": {
        "id": "87ZOB45KE66Q"
      },
      "execution_count": 42,
      "outputs": []
    },
    {
      "cell_type": "code",
      "source": [
        "train_losses"
      ],
      "metadata": {
        "id": "bCTzCjbFL2qF",
        "outputId": "2fd48798-cd66-447d-a862-109e05506464",
        "colab": {
          "base_uri": "https://localhost:8080/"
        }
      },
      "execution_count": 43,
      "outputs": [
        {
          "output_type": "execute_result",
          "data": {
            "text/plain": [
              "[0.2461852280693686,\n",
              " 0.23517826887277457,\n",
              " 0.2193103650600737,\n",
              " 0.209343901843342,\n",
              " 0.20381760098931626,\n",
              " 0.1951379061350201,\n",
              " 0.18961052743033466,\n",
              " 0.18329144641757011,\n",
              " 0.17886113638902068,\n",
              " 0.17374510262320694,\n",
              " 0.1676331270390596,\n",
              " 0.16489884652929682,\n",
              " 0.15936957090360743,\n",
              " 0.15827326376277667,\n",
              " 0.15202391996947873,\n",
              " 0.15167097510913244,\n",
              " 0.15035599587946877,\n",
              " 0.14528485524476084,\n",
              " 0.14324469834916356,\n",
              " 0.14169660445430085]"
            ]
          },
          "metadata": {},
          "execution_count": 43
        }
      ]
    }
  ]
}