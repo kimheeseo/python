{
  "nbformat": 4,
  "nbformat_minor": 0,
  "metadata": {
    "colab": {
      "provenance": [],
      "authorship_tag": "ABX9TyPi9TYiDW2tGeYSau+fTM0E",
      "include_colab_link": true
    },
    "kernelspec": {
      "name": "python3",
      "display_name": "Python 3"
    },
    "language_info": {
      "name": "python"
    }
  },
  "cells": [
    {
      "cell_type": "markdown",
      "metadata": {
        "id": "view-in-github",
        "colab_type": "text"
      },
      "source": [
        "<a href=\"https://colab.research.google.com/github/kimheeseo/python/blob/main/decimal_to_base.ipynb\" target=\"_parent\"><img src=\"https://colab.research.google.com/assets/colab-badge.svg\" alt=\"Open In Colab\"/></a>"
      ]
    },
    {
      "cell_type": "markdown",
      "source": [
        "**10진수에서 다른 진수로 변환하는 코드**"
      ],
      "metadata": {
        "id": "eQc1x5H51JkX"
      }
    },
    {
      "cell_type": "code",
      "source": [
        "a=10 # 10진수\n",
        "aa=a\n",
        "b=[]\n",
        "c=7\n",
        "while 1:\n",
        "  if a<c:\n",
        "    b.append(a%c)\n",
        "    break\n",
        "  b.append(a%c)\n",
        "  a=a//c\n",
        "\n",
        "# 진수 표현\n",
        "d=[]\n",
        "for j in range(len(b)-1,-1,-1):\n",
        "  d.append(b[j])\n",
        "print('10진수 표현:%d' %aa)\n",
        "print('%d 진수 표현:' %c, end=\"\")\n",
        "for i in range(len(d)):\n",
        "  print(d[i],end=\"\")"
      ],
      "metadata": {
        "colab": {
          "base_uri": "https://localhost:8080/"
        },
        "id": "kAobJlqjukrn",
        "outputId": "f36f7803-eb51-4425-e564-e76cf9f05404"
      },
      "execution_count": 36,
      "outputs": [
        {
          "output_type": "stream",
          "name": "stdout",
          "text": [
            "10진수 표현:10\n",
            "7 진수 표현:13"
          ]
        }
      ]
    }
  ]
}