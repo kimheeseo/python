{
  "nbformat": 4,
  "nbformat_minor": 0,
  "metadata": {
    "colab": {
      "provenance": [],
      "authorship_tag": "ABX9TyMx5jquR3ctg3t5wgZLKh3c",
      "include_colab_link": true
    },
    "kernelspec": {
      "name": "python3",
      "display_name": "Python 3"
    },
    "language_info": {
      "name": "python"
    }
  },
  "cells": [
    {
      "cell_type": "markdown",
      "metadata": {
        "id": "view-in-github",
        "colab_type": "text"
      },
      "source": [
        "<a href=\"https://colab.research.google.com/github/kimheeseo/python/blob/main/p_107_p_120.ipynb\" target=\"_parent\"><img src=\"https://colab.research.google.com/assets/colab-badge.svg\" alt=\"Open In Colab\"/></a>"
      ]
    },
    {
      "cell_type": "markdown",
      "source": [
        "**chapter 4. 신경망 학습**"
      ],
      "metadata": {
        "id": "jLQDpVD_Tqe0"
      }
    },
    {
      "cell_type": "code",
      "execution_count": 1,
      "metadata": {
        "id": "RStU28TnTl0f"
      },
      "outputs": [],
      "source": [
        "# 데이터에서 학습한다는 것은 가중치 매개변수의 값을 데이터를 보고 자동으로 결정한다는 뜻.\n",
        "# 퍼셉트론: 진리표를 보면서 사람이 수작업으로 매개변수 값을 설정.\n",
        "# 나아가 층을 깊게 한 딥러닝 정도 되면 그 수는 수억에 이를 수도 있습니다.(매개변수)\n",
        "\n",
        "# 선형 분리 가능 문제: 유한 번의 학습을 통해 풀 수 있다는 사실이 퍼셉트론 수렴 정리로 증명.\n",
        "# 퍼셉트론: 직선으로 분리할 수 있는(선형 분리 가능) 문제라면, 데이터로부터 자동으로 학습할 수 있습니다."
      ]
    },
    {
      "cell_type": "markdown",
      "source": [
        "**데이터 주도 학습**"
      ],
      "metadata": {
        "id": "C2Ymit6Gdwt0"
      }
    },
    {
      "cell_type": "code",
      "source": [
        "# 기계학습은 데이터가 생명입니다.\n",
        "# 데이터에서 답을 찾고 데이터에서 패턴을 발견하고, 데이터로 이야기를 맏느는, 그것이 바로 기계학습.\n",
        "# 기계학습의 중심에는 데이터가 존재합니다. 이처럼 데이터가 이끄는 접근 방식 덕에 사람 중심 접근에서 벗어날 수 있습니다.\n",
        "\n",
        "# 기계학습: 사람의 개입을 최소화하고, 수집한 데이터로부터 패턴을 찾으려 시도합니다.\n",
        "# 게다가 신경망과 딥러닝은 기존 기계학습에서 사용하던 방법보다 사람의 개입을 더욱 배제할 수 있게 해주는 중요한 특성을 지녔습니다.\n",
        "\n",
        "# 이미지에서 특징(feature)을 추출하고, 그 특징의 패턴을 기계학습 기술로 학습하는 방법이 있습니다.\n",
        "# 특징(feature): 입력 데이터에서 본질적인 데이터(중요한 데이터)를 정확하게 추출할 수 있도록 설계된 변환기\n",
        "\n",
        "# 신경망은 주어진 데이터를 온전히 학습하고, 주어진 문제의 패턴을 발견하려 시도.\n",
        "# 즉, 신경망은 모든 문제를 주어진 데이터 그대로를 입력 데이터로 활용해 'end-to-end'로 학습할 수 있습니다."
      ],
      "metadata": {
        "id": "_GGTZ0pGTp77"
      },
      "execution_count": 2,
      "outputs": []
    },
    {
      "cell_type": "markdown",
      "source": [
        "**훈련 데이터와 시험 데이터**"
      ],
      "metadata": {
        "id": "rYpKE9Iflg7E"
      }
    },
    {
      "cell_type": "code",
      "source": [
        "# 기계학습 문제는 데이터를 훈련 데이터와 시험 데이터로 나눠 학습과 실험을 수행하는 것이 일반적입니다.\n",
        "# 우선 훈련 데이터만 사용하여 학습하면서 최적의 매개변수를 찾습니다.\n",
        "# 그런 다음 시험 데이터를 사용하여, 훈련한 모델의 실력을 평가하는 것입니다.\n",
        "\n",
        "# 데이터 셋 하나로만 매개변수의 학습과 평가를 수행하면 올바른 평가가 될 수 없습니다. 수중의 데이터셋은 제대로 맞히더라도 다른 데이터셋에는\n",
        "# 엉망인 일도 벌어집니다. 참고로 한 데이터셋에만 지나치게 최적화된 상태: overfitting. => 오버피팅 피하기: 기계학습의 중요한 과제."
      ],
      "metadata": {
        "id": "d5XgNmn_Tp-N"
      },
      "execution_count": 3,
      "outputs": []
    },
    {
      "cell_type": "markdown",
      "source": [
        "**오차 제곱합(sum of squares for error: SSE)**"
      ],
      "metadata": {
        "id": "g4p4X0VencDk"
      }
    },
    {
      "cell_type": "code",
      "source": [
        "def sum_squares_error(y,t):\n",
        "  return 0.5*np.sum((y-t)**2)\n",
        "\n",
        "# 오차 제곱합: 원소의 출력(추정값)과 정답 레이블(참값)의 차를 제곱한 후, 그 총합을 구합니다."
      ],
      "metadata": {
        "id": "6YQNj9oxTqAi"
      },
      "execution_count": 4,
      "outputs": []
    },
    {
      "cell_type": "code",
      "source": [
        "import numpy as np\n",
        "t=[0,0, 1, 0, 0, 0, 0, 0, 0, 0]\n",
        "y=[0.1, 0.05, 0.6, 0, 0.05, 0.1, 0, 0.1, 0, 0]\n",
        "sum_squares_error(np.array(y), np.array(t))"
      ],
      "metadata": {
        "colab": {
          "base_uri": "https://localhost:8080/"
        },
        "id": "ziIg_PiOTqCz",
        "outputId": "718d5d9e-fec0-44a6-913c-4b0a15596588"
      },
      "execution_count": 5,
      "outputs": [
        {
          "output_type": "execute_result",
          "data": {
            "text/plain": [
              "0.09750000000000003"
            ]
          },
          "metadata": {},
          "execution_count": 5
        }
      ]
    },
    {
      "cell_type": "code",
      "source": [
        "y=[0.1, 0.05, 0.1, 0, 0.05, 0.1, 0, 0.6, 0,0 ]\n",
        "sum_squares_error(np.array(y), np.array(t))\n",
        "\n",
        "# t에서 정답을 2로 설정했는데, y가 7이라고 0.6으로 설정했으니, sum_squares_error값이 커지는 것을 확인할 수 있다.\n",
        "# 오차제곱합 기준으로는 첫 번째 추정 결과가 (오차가 더 작으니) 정답에 더 가까울 것으로 판단할 수 있습니다."
      ],
      "metadata": {
        "colab": {
          "base_uri": "https://localhost:8080/"
        },
        "id": "vxiVUmAXTqFN",
        "outputId": "0541f4cc-6a74-4648-ad77-8b025e6ba3c3"
      },
      "execution_count": 6,
      "outputs": [
        {
          "output_type": "execute_result",
          "data": {
            "text/plain": [
              "0.5975"
            ]
          },
          "metadata": {},
          "execution_count": 6
        }
      ]
    },
    {
      "cell_type": "markdown",
      "source": [
        "**교차 엔트로피 오차**"
      ],
      "metadata": {
        "id": "UYxDKlnWrpY3"
      }
    },
    {
      "cell_type": "code",
      "source": [
        "def cross_entropy_error(y,t):\n",
        "  delta=1e-7\n",
        "  return -np.sum(t*np.log(y+delta))"
      ],
      "metadata": {
        "id": "ntbJOkAnTqHy"
      },
      "execution_count": 7,
      "outputs": []
    },
    {
      "cell_type": "markdown",
      "source": [
        "![63d288e86977d161740d2f6b_Cross Entropy Loss Formula.webp](data:image/webp;base64,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)"
      ],
      "metadata": {
        "id": "KIi90ZGqr0YZ"
      }
    },
    {
      "cell_type": "code",
      "source": [
        "t=[0,0,1,0,0, 0,0,0,0,0]\n",
        "y1=[0.1, 0.05, 0.6, 0, 0.05, 0.1, 0, 0.1, 0, 0]\n",
        "y2=[0.1, 0.05, 0.1, 0, 0.05, 0.1, 0, 0.6, 0, 0]\n",
        "\n",
        "aa1=cross_entropy_error(np.array(y1), np.array(t))\n",
        "aa2=cross_entropy_error(np.array(y2), np.array(t))\n",
        "\n",
        "print('예측값이 2일 경우:', aa1)\n",
        "print('예측값이 7일 경우:', aa2)\n",
        "# 결과(오차 값)가  더 작은 첫번째 추정(aa1)이 정답일 가능성이 높다고 판단한 것으로, 앞서 오차제곱합의 판단과 일치."
      ],
      "metadata": {
        "colab": {
          "base_uri": "https://localhost:8080/"
        },
        "id": "VhbSc2t8TqJ_",
        "outputId": "0fb7b701-643c-4ede-fb35-ef189449acaf"
      },
      "execution_count": 8,
      "outputs": [
        {
          "output_type": "stream",
          "name": "stdout",
          "text": [
            "예측값이 2일 경우: 0.510825457099338\n",
            "예측값이 7일 경우: 2.302584092994546\n"
          ]
        }
      ]
    },
    {
      "cell_type": "markdown",
      "source": [
        "**미니배치 학습**"
      ],
      "metadata": {
        "id": "2mfxKQwbw8Fm"
      }
    },
    {
      "cell_type": "code",
      "source": [
        "# 기계학습 문제는 훈련 데이터를 사용해 학습합니다.\n",
        "# 더 구체적으로 말하면, 훈련 데이터에 대한 손실 함수의 값을 구하고, 그 값을 최대한 줄여주는 매개변수를 찾아냅니다.\n",
        "# 이렇게 하려면 모든 훈련 데이터를 대상으로 손실 함수 값을 구해야 합니다.\n",
        "# 신경망 학습에서도 훈련 데이터로부터 일부만 골라 학습을 수행합니다. : 미니배치(mini batch)"
      ],
      "metadata": {
        "id": "MUXb_Ea_TqMc"
      },
      "execution_count": 9,
      "outputs": []
    },
    {
      "cell_type": "code",
      "source": [
        "import sys, os\n",
        "sys.path.append(os.pardir)\n",
        "import numpy as np\n",
        "from dataset.mnist import load_mnist\n",
        "\n",
        "(x_train, t_train), (x_test, t_test) = load_mnist(normalize=True, one_hot_label=True)\n",
        "\n",
        "print(x_train.shape) # 60000*784\n",
        "print(t_train.shape) # 60000*10"
      ],
      "metadata": {
        "id": "Te2tttqBTqOy"
      },
      "execution_count": 10,
      "outputs": []
    },
    {
      "cell_type": "code",
      "source": [
        "def cross_entropy_error(y,t):\n",
        "  if y.ndim == 1:\n",
        "    t=t.reshape(1,t.size)\n",
        "    y=y.shape(1,y.size)\n",
        "\n",
        "  batch_size=y.shape[0]\n",
        "  return -np.sum(t*np.log(y+1e-7))/batch_size"
      ],
      "metadata": {
        "id": "E6pWCNpnTqRJ"
      },
      "execution_count": null,
      "outputs": []
    },
    {
      "cell_type": "markdown",
      "source": [
        "**왜 손실 함수를 설정하는가?**"
      ],
      "metadata": {
        "id": "HrKGJcLmBE94"
      }
    },
    {
      "cell_type": "code",
      "source": [
        "# 예컨대 숫자 인식의 경우도 우리의 궁극적인 목적은 높은 '정확도'를 끌어내는 매개변수 값을 찾는 것입니다.\n",
        "# 그렇다면 '정확도'라는 지표를 놔두고, '손실함수의'값이라는 우회적인 방법을 택하는 이유는 뭘까요?\n",
        "\n",
        "# 신경망 학습에서는 최적의 매개변수(가중치와 편향)를 탐색할 때, 손실함수의 값을 가능한 작게 하는 매개변수 값을 찾습니다.\n",
        "# 이때 매개변수의 미분을 계산하고, 그 미분 값을 단서로 매개변수의 값을 서서히 갱신하는 과정을 반복합니다.\n",
        "\n",
        "# 가중치 매개변수의 손실함수의 미분: '가중치 매개변수의 값을 아주 조금 변화시켰을 때, 손실 함수가 어떻게 변하나'라는 말입니다."
      ],
      "metadata": {
        "id": "Q3brZxNRBGxZ"
      },
      "execution_count": null,
      "outputs": []
    },
    {
      "cell_type": "markdown",
      "source": [
        "![image.png](data:image/png;base64,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)"
      ],
      "metadata": {
        "id": "udaHgTDJCg5z"
      }
    },
    {
      "cell_type": "code",
      "source": [
        "# 만약 이 미분 값(가중치 매개변수의 손실함수의 미분)이 음수면 그 가중치 매개변수를 양의 방향으로 변화시켜 손실 함수의 값을 줄일 수 있다.\n",
        "# 반대로, 미분 값이 양수면 가중치 매개변수를 음의 방향으로 변화시켜 손실 함수의 값을 줄일 수 있습니다.\n",
        "\n",
        "# 그러나 미분 값이 0이면 가중치 매개변수를 어느쪽으로 움직여도 손실 함수의 값은 줄어들지 않습니다. 그래서 가중치 매개변수의 갱신은\n",
        "# 거기서 멈춥니다.\n",
        "\n",
        "# 정확도를 지표로 삼아서는 안 되는 이유: 미분 값이 대부분의 장소에서 0이 되어, 매개변수를 갱신할 수 없기 때문.\n",
        "\n",
        "# 예) 한 신경망이 100장의 훈련 데이터 중 32장을 올바로 인식한다고 합니다.\n",
        "# 정확도: 32%-> 매개변수를 약간만 조정해서는 정확도가 개선되지 않고 일정하게 유지됩니다."
      ],
      "metadata": {
        "id": "43BZyZ3pBR0M"
      },
      "execution_count": null,
      "outputs": []
    },
    {
      "cell_type": "code",
      "source": [
        "# 정확도는 매개변수의 미소한 변화에는 거의 반응을 보이지 않고, 반응이 있더라도 그 값이 불연속적으로 갑자기 변화힙니다.\n",
        "\n",
        "# 계단함수를 활성화 함수로 사용하면, 손실 함수를 지표로 삼는 게 아무 의미가 없게 됩니다.\n",
        "# 매개변수의 작은 변화가 주는 파장을 계단 함수가 말살하여 손실 함수의 값에는 아무런 변화가 나타나지 않기 때문입니다."
      ],
      "metadata": {
        "id": "o3qDR2dnBR3c"
      },
      "execution_count": null,
      "outputs": []
    },
    {
      "cell_type": "code",
      "source": [],
      "metadata": {
        "id": "i4EHJBXwBR6D"
      },
      "execution_count": null,
      "outputs": []
    },
    {
      "cell_type": "markdown",
      "source": [
        "**+) N차원 배열 생성**"
      ],
      "metadata": {
        "id": "DnAWQSj0-BOI"
      }
    },
    {
      "cell_type": "code",
      "source": [
        "import numpy as np\n",
        "\n",
        "# 1차원 배열 생성\n",
        "arr_1d = np.array([1, 2, 3, 4, 5])\n",
        "print(\"1D array:\")\n",
        "print(arr_1d)\n",
        "print(\"Number of dimensions:\", arr_1d.ndim)  # 출력: 1\n",
        "\n",
        "# 2차원 배열 생성\n",
        "arr_2d = np.array([[1, 2, 3], [4, 5, 6]])\n",
        "print(\"\\n2D array:\")\n",
        "print(arr_2d)\n",
        "print(\"Number of dimensions:\", arr_2d.ndim)  # 출력: 2\n",
        "\n",
        "# 3차원 배열 생성\n",
        "arr_3d = np.array([[[1, 2, 3], [4, 5, 6]], [[7, 8, 9], [10, 11, 12]]])\n",
        "print(\"\\n3D array:\")\n",
        "print(arr_3d)\n",
        "print(\"Number of dimensions:\", arr_3d.ndim)  # 출력: 3\n",
        "\n",
        "# ndim: numpy에서 배열의 차원을 나타내는 속성."
      ],
      "metadata": {
        "colab": {
          "base_uri": "https://localhost:8080/"
        },
        "id": "q9CMIR974seK",
        "outputId": "ce176761-d1d0-4578-f22b-0384a4da9b17"
      },
      "execution_count": 16,
      "outputs": [
        {
          "output_type": "stream",
          "name": "stdout",
          "text": [
            "1D array:\n",
            "[1 2 3 4 5]\n",
            "Number of dimensions: 1\n",
            "\n",
            "2D array:\n",
            "[[1 2 3]\n",
            " [4 5 6]]\n",
            "Number of dimensions: 2\n",
            "\n",
            "3D array:\n",
            "[[[ 1  2  3]\n",
            "  [ 4  5  6]]\n",
            "\n",
            " [[ 7  8  9]\n",
            "  [10 11 12]]]\n",
            "Number of dimensions: 3\n"
          ]
        }
      ]
    },
    {
      "cell_type": "code",
      "source": [
        "print('arr_1d.shape값:', arr_1d.shape)\n",
        "print('arr_1d.shape[0]값:',arr_1d.shape[0])\n",
        "if arr_1d.ndim ==1:\n",
        "  arr_1dd=arr_1d.reshape(1,arr_1d.size)\n",
        "  print(arr_1dd)\n",
        "print('arr_1d.shape값:', arr_1d.shape)\n",
        "print('arr_1d.shape[0]값:',arr_1d.shape[0])"
      ],
      "metadata": {
        "colab": {
          "base_uri": "https://localhost:8080/"
        },
        "id": "IDx5spVg-ABW",
        "outputId": "080f0567-b9d3-4dae-e167-62c21d77e4eb"
      },
      "execution_count": 18,
      "outputs": [
        {
          "output_type": "stream",
          "name": "stdout",
          "text": [
            "arr_1d.shape값: (5,)\n",
            "arr_1d.shape[0]값: 5\n",
            "[[1 2 3 4 5]]\n",
            "arr_1d.shape값: (5,)\n",
            "arr_1d.shape[0]값: 5\n"
          ]
        }
      ]
    }
  ]
}