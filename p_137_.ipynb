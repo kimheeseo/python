{
  "cells": [
    {
      "cell_type": "markdown",
      "metadata": {
        "id": "view-in-github",
        "colab_type": "text"
      },
      "source": [
        "<a href=\"https://colab.research.google.com/github/kimheeseo/python/blob/main/p_137_.ipynb\" target=\"_parent\"><img src=\"https://colab.research.google.com/assets/colab-badge.svg\" alt=\"Open In Colab\"/></a>"
      ]
    },
    {
      "cell_type": "markdown",
      "metadata": {
        "id": "R0wRbbKdSXS4"
      },
      "source": [
        "**학습 알고리즘 구현하기**"
      ]
    },
    {
      "cell_type": "code",
      "execution_count": 2,
      "metadata": {
        "id": "s9-drN0zRyhC"
      },
      "outputs": [],
      "source": [
        "# 전제\n",
        "# 신경망에는 적응 가능한 가중치와 편햐이 있고, 이 가중치와 편향을 훈련 데이터에 적응하도록 조정하는 과정을 '학습'이라 합니다.\n",
        "\n",
        "# 1단계: 미니배치\n",
        "# 훈련 데이터 중 일부를 무작위로 가져옵니다. 이렇게 선별한 데이터를 미니배치라 하며, 그 미니배치의 손실 함수 값을 줄이는 것이 목표\n",
        "\n",
        "# 2단계: 기울기 산충\n",
        "# 미니배치의 손실 함수 값을 줄이기 위해, 각 가중치 매개변수의 기울기를 구합니다.\n",
        "\n",
        "# 3단계: 매개변수 갱신\n",
        "# 가중치 매개변수를 기울기 방향으로 아주 조금 갱신합니다.\n",
        "\n",
        "# 4단계: 반복\n",
        "# 1~3단계를 반복합니다.\n",
        "\n",
        "# stochastic gradient descent: SGD\n",
        "# 데이터를 미니배치로 무작위로 선정하기 때문에, 확률적 경사하강법\n",
        "# 확률적으로 무작위로 골라낸 데이터에 대해 수행하는 경사 하강법."
      ]
    },
    {
      "cell_type": "code",
      "execution_count": 3,
      "metadata": {
        "id": "u3OaA9lYapfK"
      },
      "outputs": [],
      "source": [
        "import numpy as np\n",
        "\n",
        "def _numerical_gradient_1d(f, x):\n",
        "    h = 1e-4 # 0.0001\n",
        "    grad = np.zeros_like(x)\n",
        "\n",
        "    for idx in range(x.size):\n",
        "        tmp_val = x[idx]\n",
        "        x[idx] = float(tmp_val) + h\n",
        "        fxh1 = f(x) # f(x+h)\n",
        "\n",
        "        x[idx] = tmp_val - h\n",
        "        fxh2 = f(x) # f(x-h)\n",
        "        grad[idx] = (fxh1 - fxh2) / (2*h)\n",
        "\n",
        "        x[idx] = tmp_val\n",
        "\n",
        "    return grad\n",
        "\n",
        "\n",
        "def numerical_gradient_2d(f, X):\n",
        "    if X.ndim == 1:\n",
        "        return _numerical_gradient_1d(f, X)\n",
        "    else:\n",
        "        grad = np.zeros_like(X)\n",
        "\n",
        "        for idx, x in enumerate(X):\n",
        "            grad[idx] = _numerical_gradient_1d(f, x)\n",
        "\n",
        "        return grad\n",
        "\n",
        "\n",
        "def numerical_gradient(f, x):\n",
        "    h = 1e-4 # 0.0001\n",
        "    grad = np.zeros_like(x)\n",
        "\n",
        "    it = np.nditer(x, flags=['multi_index'], op_flags=['readwrite'])\n",
        "    while not it.finished:\n",
        "        idx = it.multi_index\n",
        "        tmp_val = x[idx]\n",
        "        x[idx] = tmp_val + h\n",
        "        fxh1 = f(x) # f(x+h)\n",
        "\n",
        "        x[idx] = tmp_val - h\n",
        "        fxh2 = f(x) # f(x-h)\n",
        "        grad[idx] = (fxh1 - fxh2) / (2*h)\n",
        "\n",
        "        x[idx] = tmp_val\n",
        "        it.iternext()\n",
        "\n",
        "    return grad"
      ]
    },
    {
      "cell_type": "code",
      "execution_count": 4,
      "metadata": {
        "id": "4P24-7_oaplR"
      },
      "outputs": [],
      "source": [
        "# coding: utf-8\n",
        "import numpy as np\n",
        "\n",
        "\n",
        "def identity_function(x):\n",
        "    return x\n",
        "\n",
        "\n",
        "def step_function(x):\n",
        "    return np.array(x > 0, dtype=np.int)\n",
        "\n",
        "\n",
        "def sigmoid(x):\n",
        "    return 1 / (1 + np.exp(-x))\n",
        "\n",
        "\n",
        "def sigmoid_grad(x):\n",
        "    return (1.0 - sigmoid(x)) * sigmoid(x)\n",
        "\n",
        "\n",
        "def relu(x):\n",
        "    return np.maximum(0, x)\n",
        "\n",
        "\n",
        "def relu_grad(x):\n",
        "    grad = np.zeros_like(x)\n",
        "    grad[x>=0] = 1\n",
        "    return grad\n",
        "\n",
        "\n",
        "def softmax(x):\n",
        "    x = x - np.max(x, axis=-1, keepdims=True)   # オーバーフロー対策\n",
        "    return np.exp(x) / np.sum(np.exp(x), axis=-1, keepdims=True)\n",
        "\n",
        "\n",
        "def sum_squared_error(y, t):\n",
        "    return 0.5 * np.sum((y-t)**2)\n",
        "\n",
        "\n",
        "def cross_entropy_error(y, t):\n",
        "    if y.ndim == 1:\n",
        "        t = t.reshape(1, t.size)\n",
        "        y = y.reshape(1, y.size)\n",
        "\n",
        "    if t.size == y.size:\n",
        "        t = t.argmax(axis=1)\n",
        "\n",
        "    batch_size = y.shape[0]\n",
        "    return -np.sum(np.log(y[np.arange(batch_size), t] + 1e-7)) / batch_size\n",
        "\n",
        "\n",
        "def softmax_loss(X, t):\n",
        "    y = softmax(X)\n",
        "    return cross_entropy_error(y, t)"
      ]
    },
    {
      "cell_type": "markdown",
      "metadata": {
        "id": "TLufOXizY72E"
      },
      "source": [
        "**2층 신경망 클래스 구현하기**"
      ]
    },
    {
      "cell_type": "code",
      "execution_count": 5,
      "metadata": {
        "id": "4bw7ZCUuSWfR"
      },
      "outputs": [],
      "source": [
        "import sys, os\n",
        "sys.path.append(os.pardir)\n",
        "\n",
        "class TwoLayerNet:\n",
        "    def __init__(self, input_size, hidden_size, output_size, weight_init_std=0.01):\n",
        "\n",
        "      # 가중치 초기화\n",
        "      self.params = {}\n",
        "      self.params['w1'] = weight_init_std * np.random.randn(input_size, hidden_size)\n",
        "      self.params['b1'] = np.zeros(hidden_size)\n",
        "      self.params['w2'] = weight_init_std * np.random.randn(hidden_size, output_size)\n",
        "      self.params['b2'] = np.zeros(output_size)\n",
        "\n",
        "    def predict(self, x):\n",
        "      w1,w2 = self.params['w1'], self.params['w2']\n",
        "      b1, b2 = self.params['b1'], self.params['b2']\n",
        "\n",
        "      a1=np.dot(x,w1)+b1\n",
        "      z1=sigmoid(a1)\n",
        "      a2=np.dot(z1,w2)+b2\n",
        "      y=softmax(a2)\n",
        "      return y\n",
        "\n",
        "    def loss(self, x, t):\n",
        "      y=self.predict(x)\n",
        "      return cross_entropy_error(y,t)\n",
        "\n",
        "    def accuracy(self, x, t):\n",
        "      y=self.predict(x)\n",
        "      y=np.argmax(y, axis=1)\n",
        "      t=np.argmax(t, axis=1)\n",
        "\n",
        "      accuracy=np.sum(y==t)/float(x.shape[0])\n",
        "      return accuracy\n",
        "\n",
        "    def numerical_gradient(self, x,t):\n",
        "      loss_w=lambda W:self.loss(x,t)\n",
        "\n",
        "      grads={}\n",
        "      grads['w1']=numerical_gradient(loss_w, self.params['w1'])\n",
        "      grads['w2']=numerical_gradient(loss_w, self.params['w2'])\n",
        "\n",
        "      grads['b1']=numerical_gradient(loss_w, self.params['b1'])\n",
        "      grads['b2']=numerical_gradient(loss_w, self.params['b2'])\n",
        "\n",
        "      return grads"
      ]
    },
    {
      "cell_type": "code",
      "execution_count": 6,
      "metadata": {
        "colab": {
          "base_uri": "https://localhost:8080/"
        },
        "id": "JHIeiauMSWhj",
        "outputId": "072cb64f-f9dc-4f19-f4da-5e39ea9577bd"
      },
      "outputs": [
        {
          "output_type": "stream",
          "name": "stdout",
          "text": [
            "(784, 100)\n",
            "(100,)\n",
            "(100, 10)\n",
            "(10,)\n"
          ]
        }
      ],
      "source": [
        "net=TwoLayerNet(input_size=784, hidden_size=100, output_size=10)\n",
        "print(net.params['w1'].shape)\n",
        "print(net.params['b1'].shape)\n",
        "print(net.params['w2'].shape)\n",
        "print(net.params['b2'].shape)"
      ]
    },
    {
      "cell_type": "code",
      "execution_count": 7,
      "metadata": {
        "id": "XsgYo7AViHtu"
      },
      "outputs": [],
      "source": [
        "x=np.random.rand(100,784) # 더미 입력 데이터 (100장 분량)\n",
        "y=net.predict(x)\n",
        "\n",
        "# grads 변수: parmas 변수에 대응하는 각 매개변수의 기울기가 저장."
      ]
    },
    {
      "cell_type": "code",
      "execution_count": 8,
      "metadata": {
        "colab": {
          "base_uri": "https://localhost:8080/"
        },
        "id": "yIEMbmYmSWkF",
        "outputId": "41dc4943-b2e6-4add-b703-2736a1734b05"
      },
      "outputs": [
        {
          "output_type": "execute_result",
          "data": {
            "text/plain": [
              "(10,)"
            ]
          },
          "metadata": {},
          "execution_count": 8
        }
      ],
      "source": [
        "# numerical_gradient() 메서드를 사용해 기울기를 계산하면 grads 변수에 기울기 정보가 저장됩니다.\n",
        "x=np.random.rand(100,784) # 손글씨 숫자 인식에서는 크기가 28x28인 입력 이미지가 784개\n",
        "t=np.random.rand(100,10)\n",
        "\n",
        "grads=net.numerical_gradient(x,t)\n",
        "\n",
        "grads['w1'].shape\n",
        "grads['b1'].shape\n",
        "grads['w2'].shape\n",
        "grads['b2'].shape\n",
        "\n",
        "# loss(self, x, t): 손실함수의 값을 계산하는 메서드\n",
        "# predict()의 결과와 정답 레이블(t)을 바탕으로 교차 엔트로피 오차를 구하도록 구현."
      ]
    },
    {
      "cell_type": "markdown",
      "metadata": {
        "id": "reZDE2qDkHhX"
      },
      "source": [
        "**미니 배치 학습 구현하기**"
      ]
    },
    {
      "cell_type": "code",
      "execution_count": 9,
      "metadata": {
        "id": "6MKXSCRpSWmU",
        "colab": {
          "base_uri": "https://localhost:8080/"
        },
        "outputId": "49b39ccd-26d4-4827-f87f-7555bfac2f31"
      },
      "outputs": [
        {
          "output_type": "stream",
          "name": "stdout",
          "text": [
            "Downloading data from https://storage.googleapis.com/tensorflow/tf-keras-datasets/mnist.npz\n",
            "\u001b[1m11490434/11490434\u001b[0m \u001b[32m━━━━━━━━━━━━━━━━━━━━\u001b[0m\u001b[37m\u001b[0m \u001b[1m0s\u001b[0m 0us/step\n"
          ]
        }
      ],
      "source": [
        "import numpy as np\n",
        "from keras.datasets import mnist\n",
        "\n",
        "(x_train, t_train), (x_test, t_test)=mnist.load_data()"
      ]
    },
    {
      "cell_type": "code",
      "execution_count": 10,
      "metadata": {
        "id": "IJ3CR68ulJti"
      },
      "outputs": [],
      "source": [
        "x_train.shape\n",
        "x_train=x_train.reshape(60000,784)"
      ]
    },
    {
      "cell_type": "code",
      "execution_count": 11,
      "metadata": {
        "id": "26Ae9mwTlQ6r"
      },
      "outputs": [],
      "source": [
        "x_test.shape\n",
        "x_test=x_test.reshape(10000,784)"
      ]
    },
    {
      "cell_type": "code",
      "execution_count": 12,
      "metadata": {
        "id": "-Cly2xX4SWoy"
      },
      "outputs": [],
      "source": [
        "train_loss_list=[]\n",
        "\n",
        "# 하이퍼파라미터\n",
        "iters_num=200 # 반복횟수\n",
        "train_size=x_train.shape[0]\n",
        "batch_size=100 # 미니배치 크기\n",
        "learning_rate=0.1"
      ]
    },
    {
      "cell_type": "code",
      "execution_count": 13,
      "metadata": {
        "id": "zGswSQm0SWrY"
      },
      "outputs": [],
      "source": [
        "network=TwoLayerNet(input_size=784, hidden_size=50, output_size=10)"
      ]
    },
    {
      "cell_type": "code",
      "execution_count": 14,
      "metadata": {
        "colab": {
          "base_uri": "https://localhost:8080/"
        },
        "id": "V_tpjh-4SWtz",
        "outputId": "21f9405d-428a-4920-d005-cf16fd16e249"
      },
      "outputs": [
        {
          "output_type": "stream",
          "name": "stdout",
          "text": [
            "0번째 반복입니다.\n",
            "10번째 반복입니다.\n",
            "20번째 반복입니다.\n",
            "30번째 반복입니다.\n",
            "40번째 반복입니다.\n",
            "50번째 반복입니다.\n",
            "60번째 반복입니다.\n",
            "70번째 반복입니다.\n",
            "80번째 반복입니다.\n"
          ]
        },
        {
          "output_type": "stream",
          "name": "stderr",
          "text": [
            "<ipython-input-4-5975c2ef4f41>:14: RuntimeWarning: overflow encountered in exp\n",
            "  return 1 / (1 + np.exp(-x))\n"
          ]
        },
        {
          "output_type": "stream",
          "name": "stdout",
          "text": [
            "90번째 반복입니다.\n",
            "100번째 반복입니다.\n",
            "110번째 반복입니다.\n",
            "120번째 반복입니다.\n",
            "130번째 반복입니다.\n",
            "140번째 반복입니다.\n",
            "150번째 반복입니다.\n",
            "160번째 반복입니다.\n",
            "170번째 반복입니다.\n",
            "180번째 반복입니다.\n",
            "190번째 반복입니다.\n"
          ]
        }
      ],
      "source": [
        "for i in range(iters_num):\n",
        "  #print(f\"{i}번째 반복입니다.\")\n",
        "  if i % 10 == 0:\n",
        "        print(f\"{i}번째 반복입니다.\")\n",
        "  # 미니배치 획득\n",
        "  batch_mask=np.random.choice(train_size, batch_size)\n",
        "  x_batch=x_train[batch_mask]\n",
        "  t_batch=t_train[batch_mask]\n",
        "\n",
        "  # 기울기 계산\n",
        "  grad=network.numerical_gradient(x_batch, t_batch)\n",
        "\n",
        "  # 매개변수 갱신\n",
        "  for key in ('w1', 'b1', 'w2', 'b2'):\n",
        "    network.params[key]-=learning_rate*grad[key]\n",
        "\n",
        "  # 학습 경과 기록\n",
        "  loss= network.loss(x_batch, t_batch)\n",
        "  train_loss_list.append(loss)"
      ]
    },
    {
      "cell_type": "code",
      "execution_count": 15,
      "metadata": {
        "id": "aCQ9_R1kbKts",
        "colab": {
          "base_uri": "https://localhost:8080/"
        },
        "outputId": "074a2ce3-3bc0-41ca-aeab-c6e63441254c"
      },
      "outputs": [
        {
          "output_type": "execute_result",
          "data": {
            "text/plain": [
              "[2.2407855579502085,\n",
              " 2.2435027044386815,\n",
              " 2.2119149501724795,\n",
              " 2.2092270873720476,\n",
              " 2.1569960633303764,\n",
              " 2.1435180393336326,\n",
              " 2.139918614285415,\n",
              " 2.1156830502193853,\n",
              " 2.089763075822343,\n",
              " 2.0415169373825086,\n",
              " 1.9929719271912274,\n",
              " 1.9618660089189346,\n",
              " 1.9738560877469038,\n",
              " 1.9305872167490694,\n",
              " 1.913288844473561,\n",
              " 1.841528990713629,\n",
              " 1.8978300828536356,\n",
              " 1.8639556776467514,\n",
              " 1.810420282494494,\n",
              " 1.7545753786193146,\n",
              " 1.7329530162234388,\n",
              " 1.78691732689174,\n",
              " 1.6644344210804558,\n",
              " 1.6839267752128049,\n",
              " 1.6738943463040061,\n",
              " 1.661029518480696,\n",
              " 1.5553898974540936,\n",
              " 1.5598579420442282,\n",
              " 1.6014865078096474,\n",
              " 1.5920862241950173,\n",
              " 1.5347545257094,\n",
              " 1.5211460542979216,\n",
              " 1.6497327625742928,\n",
              " 1.4797421833488267,\n",
              " 1.477677201444433,\n",
              " 1.524596945088225,\n",
              " 1.4880996117136511,\n",
              " 1.4662528972996243,\n",
              " 1.3630153629618311,\n",
              " 1.3932193302455402,\n",
              " 1.2236635268889478,\n",
              " 1.4222652416761872,\n",
              " 1.3448789542098027,\n",
              " 1.255742073594857,\n",
              " 1.3564475581644246,\n",
              " 1.1856046700240481,\n",
              " 1.363884075757983,\n",
              " 1.4148779143785515,\n",
              " 1.2763707455286915,\n",
              " 1.2431566361987174,\n",
              " 1.2433239137734098,\n",
              " 1.1856834421987263,\n",
              " 1.2202669771008134,\n",
              " 1.2589072225412505,\n",
              " 1.181830409770269,\n",
              " 1.144028888120956,\n",
              " 1.0948489090558775,\n",
              " 1.1742543674842971,\n",
              " 1.124754064282081,\n",
              " 1.3052471445046558,\n",
              " 1.125677362740847,\n",
              " 1.1794410240133764,\n",
              " 1.165382620668887,\n",
              " 1.176531542535957,\n",
              " 1.2095379753742146,\n",
              " 1.1891636711979607,\n",
              " 1.1685311994793883,\n",
              " 1.0981742241309738,\n",
              " 1.0472207185140894,\n",
              " 1.186723410083578,\n",
              " 1.1555050492796557,\n",
              " 1.1244930354990144,\n",
              " 1.1350647734504877,\n",
              " 1.0068330725214425,\n",
              " 0.9696644244177017,\n",
              " 1.0485973850602412,\n",
              " 1.1550442917397286,\n",
              " 0.983834342426856,\n",
              " 1.0224857999545822,\n",
              " 1.041631049524315,\n",
              " 0.9790476785055585,\n",
              " 1.1312690373217058,\n",
              " 0.9881515147046117,\n",
              " 0.9785208299682986,\n",
              " 0.9896891412198627,\n",
              " 1.056056762139912,\n",
              " 0.9584492713252191,\n",
              " 0.928463373359009,\n",
              " 1.0336997303352324,\n",
              " 1.0006838539684673,\n",
              " 0.9758667527392758,\n",
              " 1.0011183932984833,\n",
              " 0.9232079921645446,\n",
              " 1.0430945588056182,\n",
              " 0.9817513254284745,\n",
              " 1.0152241778111137,\n",
              " 1.0271269842911805,\n",
              " 0.8875717829204891,\n",
              " 0.9725506470899044,\n",
              " 0.9130569798289498,\n",
              " 0.8843141004383535,\n",
              " 0.8421272686872113,\n",
              " 0.9549150763238763,\n",
              " 0.9586374497571997,\n",
              " 0.9450130053060883,\n",
              " 0.7912243243760352,\n",
              " 0.8321548778147816,\n",
              " 0.8750955490391357,\n",
              " 0.8983362223575695,\n",
              " 0.9448637744804196,\n",
              " 0.8883064092705016,\n",
              " 0.9091687921672602,\n",
              " 0.9359131205436594,\n",
              " 0.8489946007313698,\n",
              " 0.8914219081957229,\n",
              " 0.8654868312487359,\n",
              " 0.9060165772468879,\n",
              " 0.8845306387812105,\n",
              " 0.8582153970904052,\n",
              " 0.832433798630336,\n",
              " 0.8437397255569818,\n",
              " 0.9196756710016163,\n",
              " 0.8821585509054362,\n",
              " 0.9104506390138097,\n",
              " 0.8346853331840509,\n",
              " 0.8132522376673047,\n",
              " 0.8412468804758898,\n",
              " 0.8265470985044702,\n",
              " 0.818360721454953,\n",
              " 0.8147329624690128,\n",
              " 0.757695181570578,\n",
              " 0.8225070194279976,\n",
              " 0.6634403752551995,\n",
              " 0.8505745402124125,\n",
              " 0.7635531071660876,\n",
              " 0.7621935840933801,\n",
              " 0.8419408667097334,\n",
              " 0.7714783344794846,\n",
              " 0.7257813541733921,\n",
              " 0.7456462688724056,\n",
              " 0.9272916952846425,\n",
              " 0.7466827127243867,\n",
              " 0.8919003712831736,\n",
              " 0.8758397139609447,\n",
              " 0.8729821027058208,\n",
              " 0.8198629885360808,\n",
              " 0.9291711163875306,\n",
              " 0.7612542025170663,\n",
              " 0.8958559176993427,\n",
              " 0.7509460696739576,\n",
              " 0.8011986756515961,\n",
              " 0.8161644333181535,\n",
              " 0.761170419700619,\n",
              " 0.8230811441958028,\n",
              " 0.8436978473666613,\n",
              " 0.8468415058279913,\n",
              " 0.812863104210408,\n",
              " 0.8013373259850124,\n",
              " 0.8066900469918086,\n",
              " 0.8129172040420443,\n",
              " 0.8088784896183319,\n",
              " 0.8308820062735164,\n",
              " 0.8435401426646139,\n",
              " 0.7962940695697818,\n",
              " 0.6895223168181215,\n",
              " 0.8456585163188676,\n",
              " 0.74094243189322,\n",
              " 0.796936376355758,\n",
              " 0.894425733146683,\n",
              " 0.8044142120171851,\n",
              " 0.7078025645055167,\n",
              " 0.8526821377964194,\n",
              " 0.7336770287043081,\n",
              " 0.7198729590126176,\n",
              " 0.6605136418753312,\n",
              " 0.5807641759777833,\n",
              " 0.6908519367459027,\n",
              " 0.6580040011982206,\n",
              " 0.8006321183788326,\n",
              " 0.7197560697277745,\n",
              " 0.7654945843842913,\n",
              " 0.7318187781592803,\n",
              " 0.6816926129309526,\n",
              " 0.7694579454534867,\n",
              " 0.8049043686172018,\n",
              " 0.7633282611013383,\n",
              " 0.6754020319273417,\n",
              " 0.6513305554892872,\n",
              " 0.6565457272767199,\n",
              " 0.7191646901789145,\n",
              " 0.6438587956709876,\n",
              " 0.8340381498055726,\n",
              " 0.8056550543682374,\n",
              " 0.7595931337017389,\n",
              " 0.7464693915730345,\n",
              " 0.6736491281554153,\n",
              " 0.7906650752246063,\n",
              " 0.7374545686972455,\n",
              " 0.7610177980574833,\n",
              " 0.8257353589317039]"
            ]
          },
          "metadata": {},
          "execution_count": 15
        }
      ],
      "source": [
        "train_loss_list"
      ]
    },
    {
      "cell_type": "code",
      "execution_count": 18,
      "metadata": {
        "id": "kRSywCYScAY7"
      },
      "outputs": [],
      "source": [
        "x = list(range(1, 201))"
      ]
    },
    {
      "cell_type": "code",
      "execution_count": 19,
      "metadata": {
        "id": "_ZCCv_1eaZ3s",
        "colab": {
          "base_uri": "https://localhost:8080/",
          "height": 430
        },
        "outputId": "4d70ad21-98a4-423d-c6f7-bab980b0b296"
      },
      "outputs": [
        {
          "output_type": "display_data",
          "data": {
            "text/plain": [
              "<Figure size 640x480 with 1 Axes>"
            ],
            "image/png": "[encoded data removed]"
          },
          "metadata": {}
        }
      ],
      "source": [
        "x = list(range(1, 201))\n",
        "import matplotlib.pyplot as plt\n",
        "plt.plot(\n",
        "    x,  # x축 데이터\n",
        "    train_loss_list,  # y축 데이터\n",
        "    color='blue',  # 선 색깔\n",
        "    marker='o',  # 꼭짓점 설정\n",
        "    linestyle='solid',  # 선 스타일 설정\n",
        "    label='train_loss'  # 범례\n",
        ")\n",
        "plt.legend()\n",
        "plt.show()\n",
        "\n",
        "import pandas as pd\n",
        "\n",
        "df_train_loss=pd.DataFrame(train_loss_list)\n",
        "df_train_loss.to_csv('df_train_loss.csv', index=False)"
      ]
    },
    {
      "cell_type": "markdown",
      "metadata": {
        "id": "C_Rn1J_RlvcR"
      },
      "source": [
        "**시험 데이터로 평가하기**"
      ]
    },
    {
      "cell_type": "code",
      "execution_count": 21,
      "metadata": {
        "id": "emwu4dQTlvBp"
      },
      "outputs": [],
      "source": [
        "# 1 에폭: 학습에서 훈련 데이터를 모두 소진했을 때의 횟수\n",
        "from keras.datasets import mnist\n",
        "\n",
        "(x_train, t_train), (x_test, t_test)=mnist.load_data()\n",
        "x_test.shape\n",
        "x_test=x_test.reshape(10000,784)\n",
        "\n",
        "x_train.shape\n",
        "x_train=x_train.reshape(60000,784)"
      ]
    },
    {
      "cell_type": "code",
      "execution_count": 22,
      "metadata": {
        "id": "W7W-bB1FmJjP"
      },
      "outputs": [],
      "source": [
        "import numpy as np\n",
        "network=TwoLayerNet(input_size=784, hidden_size=50, output_size=10)\n",
        "\n",
        "# 하이퍼파라미터\n",
        "iters_num=200\n",
        "train_size=x_train.shape[0]\n",
        "batch_size=100 # 미니 배치 크기\n",
        "learning_rate=0.1\n",
        "\n",
        "train_loss_list=[]\n",
        "train_acc_list=[]\n",
        "test_acc_list=[]"
      ]
    },
    {
      "cell_type": "code",
      "execution_count": 23,
      "metadata": {
        "id": "lOIbvrbokNhd",
        "colab": {
          "base_uri": "https://localhost:8080/"
        },
        "outputId": "fbcd821a-382b-438c-bdd2-35425bb2845b"
      },
      "outputs": [
        {
          "output_type": "execute_result",
          "data": {
            "text/plain": [
              "(60000,)"
            ]
          },
          "metadata": {},
          "execution_count": 23
        }
      ],
      "source": [
        "t_train.shape"
      ]
    },
    {
      "cell_type": "code",
      "execution_count": 24,
      "metadata": {
        "id": "lTMkhDbMnNXb"
      },
      "outputs": [],
      "source": [
        "# 1에폭탕 반복 수\n",
        "iter_per_epoch=max(train_size/batch_size, 1)\n",
        "\n",
        "for i in range(iters_num):\n",
        "  if i % 10 == 0:\n",
        "      print(f\"{i}번째 반복입니다.\")\n",
        "  # 미니배치 호기득\n",
        "  batch_mask=np.random.choice(train_size, batch_size)\n",
        "  x_batch=x_train[batch_mask]\n",
        "  t_batch=t_train[batch_mask]\n",
        "\n",
        "  # 기울기 계산\n",
        "  grad= network.numerical_gradient(x_batch, t_batch)\n",
        "\n",
        "  # 매개변수 갱신\n",
        "  for key in ('w1', 'b1', 'w2', 'b2'):\n",
        "    network.params[key]-=learning_rate*grad[key]\n",
        "\n",
        "  # 학습 경과 기록\n",
        "  loss=network.loss(x_batch, t_batch)\n",
        "  train_loss_list.append(loss)\n",
        "\n",
        "  # 1회폭당 정확도 계산\n",
        "  if i % iter_per_epoch==0:\n",
        "    train_acc=network.accuracy(x_train, t_train)\n",
        "    test_acc=network.accuracy(x_test, t_test)\n",
        "    train_acc_list.append(train_acc)\n",
        "    test_acc_list.append(test_acc)\n",
        "    print(\"train acc, test acc | \"+str(train_acc)+\", \"+str(test_acc))"
      ]
    },
    {
      "cell_type": "code",
      "execution_count": null,
      "metadata": {
        "id": "6CGvRLf1iEQc"
      },
      "outputs": [],
      "source": [
        "x_train[0]=1"
      ]
    },
    {
      "cell_type": "code",
      "execution_count": null,
      "metadata": {
        "id": "jqGn5XjycwsV"
      },
      "outputs": [],
      "source": [
        "x = list(range(1, 201))\n",
        "\n",
        "import matplotlib.pyplot as plt\n",
        "plt.plot(\n",
        "    x,  # x축 데이터\n",
        "    train_loss_list,  # y축 데이터\n",
        "    color='blue',  # 선 색깔\n",
        "    marker='o',  # 꼭짓점 설정\n",
        "    linestyle='solid',  # 선 스타일 설정\n",
        "    label='train_loss'  # 범례\n",
        ")\n",
        "\n",
        "plt.plot(\n",
        "    x,  # x축 데이터\n",
        "    test_acc_list,  # y축 데이터\n",
        "    color='red',  # 선 색깔\n",
        "    marker='o',  # 꼭짓점 설정\n",
        "    linestyle='solid',  # 선 스타일 설정\n",
        "    label='test_loss'  # 범례\n",
        ")\n",
        "\n",
        "plt.legend()\n",
        "plt.show()\n",
        "\n",
        "import pandas as pd\n",
        "\n",
        "df_train_loss=pd.DataFrame(train_acc_list)\n",
        "df_test_loss=pd.DataFrame(test_acc_list)\n",
        "\n",
        "df_test_loss.to_csv('df_test_loss.csv', index=False)\n",
        "df_train_loss.to_csv('df_train_loss.csv', index=False)"
      ]
    }
  ],
  "metadata": {
    "colab": {
      "provenance": [],
      "gpuType": "T4",
      "authorship_tag": "ABX9TyNty2VYc4ZU1bqm5l5bjjSp",
      "include_colab_link": true
    },
    "kernelspec": {
      "display_name": "Python 3",
      "name": "python3"
    },
    "language_info": {
      "name": "python"
    },
    "accelerator": "GPU"
  },
  "nbformat": 4,
  "nbformat_minor": 0
}