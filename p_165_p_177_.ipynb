{
  "nbformat": 4,
  "nbformat_minor": 0,
  "metadata": {
    "colab": {
      "provenance": [],
      "authorship_tag": "ABX9TyNWolJZfHr0RWtLlhUJwaKX",
      "include_colab_link": true
    },
    "kernelspec": {
      "name": "python3",
      "display_name": "Python 3"
    },
    "language_info": {
      "name": "python"
    }
  },
  "cells": [
    {
      "cell_type": "markdown",
      "metadata": {
        "id": "view-in-github",
        "colab_type": "text"
      },
      "source": [
        "<a href=\"https://colab.research.google.com/github/kimheeseo/python/blob/main/p_165_p_177_.ipynb\" target=\"_parent\"><img src=\"https://colab.research.google.com/assets/colab-badge.svg\" alt=\"Open In Colab\"/></a>"
      ]
    },
    {
      "cell_type": "code",
      "execution_count": 2,
      "metadata": {
        "id": "I_p2uYEfBkZS"
      },
      "outputs": [],
      "source": [
        "class Relu:\n",
        "  def __init__(self):\n",
        "    self.mask=None\n",
        "\n",
        "  def forward(self,x):\n",
        "    self.mask=(x<=0)\n",
        "    out=x.copy()\n",
        "    print('out값:',out)\n",
        "    out[self.mask]=0\n",
        "    return out\n",
        "\n",
        "  def backward(self,dout):\n",
        "    dout[self.mask]=0\n",
        "    dx=dout"
      ]
    },
    {
      "cell_type": "code",
      "source": [
        "x=[1,2,3,4,5]\n",
        "y=x.copy()\n",
        "y"
      ],
      "metadata": {
        "colab": {
          "base_uri": "https://localhost:8080/"
        },
        "id": "2pEyNFooBvAc",
        "outputId": "4f52d90c-0ef5-4a21-bf90-120f2b3d71f1"
      },
      "execution_count": 1,
      "outputs": [
        {
          "output_type": "execute_result",
          "data": {
            "text/plain": [
              "[1, 2, 3, 4, 5]"
            ]
          },
          "metadata": {},
          "execution_count": 1
        }
      ]
    },
    {
      "cell_type": "code",
      "source": [
        "import numpy as np\n",
        "x=np.array([[1., -0.5], [-2,3]])\n",
        "mask=(x<=0)\n",
        "mask\n",
        "\n",
        "# 역전파 때는 순전파 때 만들어둔 mask를 써서 mask의 원소가 True인 곳에는 상류에서 전파된 dout을 0으로 설정합니다."
      ],
      "metadata": {
        "colab": {
          "base_uri": "https://localhost:8080/"
        },
        "id": "5oGhSCCwBvDB",
        "outputId": "072f7ec6-409f-430c-8645-2ce19825d0ac"
      },
      "execution_count": 4,
      "outputs": [
        {
          "output_type": "execute_result",
          "data": {
            "text/plain": [
              "array([[False,  True],\n",
              "       [ True, False]])"
            ]
          },
          "metadata": {},
          "execution_count": 4
        }
      ]
    },
    {
      "cell_type": "code",
      "source": [
        "# 내가 만든 relu함수\n",
        "xx=[1, -0.5, -2.0, 3.0]\n",
        "z = [0] * len(xx)\n",
        "\n",
        "\n",
        "i=0\n",
        "for i in range(len(xx)):\n",
        "  if xx[i]>0:\n",
        "    z[i]=xx[i]\n",
        "    i=i+1\n",
        "  else:\n",
        "    z[i]=0\n",
        "    i=i+1\n",
        "\n",
        "z"
      ],
      "metadata": {
        "colab": {
          "base_uri": "https://localhost:8080/"
        },
        "id": "ge902fN4BvIk",
        "outputId": "afadba1e-e4ee-493d-cbed-742ae6318fe0"
      },
      "execution_count": 20,
      "outputs": [
        {
          "output_type": "execute_result",
          "data": {
            "text/plain": [
              "[1, 0, 0, 3.0]"
            ]
          },
          "metadata": {},
          "execution_count": 20
        }
      ]
    },
    {
      "cell_type": "code",
      "source": [
        "z = [0] * len(xx)\n",
        "z"
      ],
      "metadata": {
        "colab": {
          "base_uri": "https://localhost:8080/"
        },
        "id": "-tkISG5ZBvK1",
        "outputId": "7a239b52-a876-4635-8c98-ea54e2c57b03"
      },
      "execution_count": 17,
      "outputs": [
        {
          "output_type": "execute_result",
          "data": {
            "text/plain": [
              "[0, 0, 0, 0]"
            ]
          },
          "metadata": {},
          "execution_count": 17
        }
      ]
    },
    {
      "cell_type": "code",
      "source": [
        "z[0]"
      ],
      "metadata": {
        "colab": {
          "base_uri": "https://localhost:8080/"
        },
        "id": "tS7KM-cnBvN3",
        "outputId": "05def410-d7c4-46ec-831a-47154d6a3a15"
      },
      "execution_count": 18,
      "outputs": [
        {
          "output_type": "execute_result",
          "data": {
            "text/plain": [
              "0"
            ]
          },
          "metadata": {},
          "execution_count": 18
        }
      ]
    },
    {
      "cell_type": "markdown",
      "source": [
        "**Sigmoid**"
      ],
      "metadata": {
        "id": "u7zNkWDWX0yq"
      }
    },
    {
      "cell_type": "code",
      "source": [
        "class sigmoid:\n",
        "  def __init__(self):\n",
        "    self.out=None\n",
        "\n",
        "  def forward(self,x):\n",
        "    out=1/(1+np.exp(-x))\n",
        "    self.out=out\n",
        "\n",
        "    return out\n",
        "\n",
        "  def backward(self,dout):\n",
        "    dx=dout*(1.0-self.out)*self.out\n",
        "\n",
        "    return dx"
      ],
      "metadata": {
        "id": "cSE83TIJBvdL"
      },
      "execution_count": 21,
      "outputs": []
    },
    {
      "cell_type": "markdown",
      "source": [
        "**Affine/Softmax 계층 구현하기**"
      ],
      "metadata": {
        "id": "4EYA2_yjYEtk"
      }
    },
    {
      "cell_type": "code",
      "source": [
        "# Affine 계층\n",
        "# 신경망의 순전파에서는 가중치 신호의 총합을 계산하기 때문에, 행렬의 곱을 사용했습니다.\n",
        "\n",
        "x=np.random.rand(2) # 입력\n",
        "w=np.random.rand(2,3) # 가중치\n",
        "b=np.random.rand(3) # 편향\n",
        "\n",
        "x.shape\n",
        "w.shape\n",
        "b.shape\n",
        "\n",
        "y=np.dot(x,w)+b\n",
        "print('y값;',y)\n",
        "print('x값;',x)\n",
        "print('w값;',w)"
      ],
      "metadata": {
        "colab": {
          "base_uri": "https://localhost:8080/"
        },
        "id": "60kfhlPVBvf1",
        "outputId": "b55a4d41-ad79-4c24-fcbc-ec8af9499c0a"
      },
      "execution_count": 24,
      "outputs": [
        {
          "output_type": "stream",
          "name": "stdout",
          "text": [
            "y값; [0.92854464 1.11997431 0.71875925]\n",
            "x값; [0.53899957 0.84144815]\n",
            "w값; [[0.00908379 0.24817193 0.15344334]\n",
            " [0.39947575 0.55694632 0.70356565]]\n"
          ]
        }
      ]
    },
    {
      "cell_type": "code",
      "source": [
        "# 신경망의 순전파 때 수행하는 행렬의 곱: 기하학에서는 affine transformation\n",
        "x_dot_w=np.array([[0,0,0],[10,10,10]])\n",
        "b=np.array([1,2,3])\n",
        "print('x_dot_w값:',x_dot_w)\n",
        "print('b값:',b)\n",
        "print('x_dot_w+b값:',x_dot_w+b)"
      ],
      "metadata": {
        "colab": {
          "base_uri": "https://localhost:8080/"
        },
        "id": "uZP-Z5MxBviP",
        "outputId": "1473c88a-6388-43aa-edd3-fd172f32b32a"
      },
      "execution_count": 25,
      "outputs": [
        {
          "output_type": "stream",
          "name": "stdout",
          "text": [
            "x_dot_w값: [[ 0  0  0]\n",
            " [10 10 10]]\n",
            "b값: [1 2 3]\n",
            "x_dot_w+b값: [[ 1  2  3]\n",
            " [11 12 13]]\n"
          ]
        }
      ]
    },
    {
      "cell_type": "code",
      "source": [
        "dy=np.array([[1,2,3],[4,5,6]])\n",
        "print('dy값:',dy)\n",
        "\n",
        "db=np.sum(dy, axis=0)\n",
        "print('db값:',db)"
      ],
      "metadata": {
        "colab": {
          "base_uri": "https://localhost:8080/"
        },
        "id": "8EwTLjAoBvsO",
        "outputId": "2f00ddca-da23-44e3-e12d-12d04efb25c1"
      },
      "execution_count": 26,
      "outputs": [
        {
          "output_type": "stream",
          "name": "stdout",
          "text": [
            "dy값: [[1 2 3]\n",
            " [4 5 6]]\n",
            "db값: [5 7 9]\n"
          ]
        }
      ]
    },
    {
      "cell_type": "code",
      "source": [
        "class Affine:\n",
        "  def __init__(self,w,b):\n",
        "    self.w=w\n",
        "    self.b=b\n",
        "    self.x=None\n",
        "    self.dw=None\n",
        "    self.db=None\n",
        "\n",
        "  def forward(self, x):\n",
        "    self.x=x\n",
        "    out=np.dot(x,self.w)+self.b\n",
        "\n",
        "    return out\n",
        "\n",
        "  def backward(self, dout):\n",
        "    dx=np.dot(dout, self.w.T)\n",
        "    self.dw=np.dot(self.x.T, dout)\n",
        "    self.db=np.sum(dout, axis=0)\n",
        "\n",
        "    return dx"
      ],
      "metadata": {
        "id": "srYkmnebBvx3"
      },
      "execution_count": null,
      "outputs": []
    }
  ]
}