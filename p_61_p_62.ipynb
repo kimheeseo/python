{
  "nbformat": 4,
  "nbformat_minor": 0,
  "metadata": {
    "colab": {
      "provenance": [],
      "authorship_tag": "ABX9TyMgEUbOvMDesnWJk68ptKTe",
      "include_colab_link": true
    },
    "kernelspec": {
      "name": "python3",
      "display_name": "Python 3"
    },
    "language_info": {
      "name": "python"
    }
  },
  "cells": [
    {
      "cell_type": "markdown",
      "metadata": {
        "id": "view-in-github",
        "colab_type": "text"
      },
      "source": [
        "<a href=\"https://colab.research.google.com/github/kimheeseo/python/blob/main/p_61_p_62.ipynb\" target=\"_parent\"><img src=\"https://colab.research.google.com/assets/colab-badge.svg\" alt=\"Open In Colab\"/></a>"
      ]
    },
    {
      "cell_type": "code",
      "execution_count": null,
      "metadata": {
        "id": "YZOy2wWe8fSW"
      },
      "outputs": [],
      "source": [
        "# 다층 퍼셉트론은 지금까지 보아온 회로보다 복잡한 회로를 만들 수 있다.\n",
        "# NAND 게이트만으로 컴퓨터를 만들 수 있다? 이 말은 곧 퍼셉트론으로도 컴퓨터를 표현할 수 있다는 놀라운 사실로 이어집니다.\n",
        "\n",
        "# 이론상 2층 퍼셉트론이면 컴퓨터를 만들 수 있다. 말도 안되는 소리 같지만, 2층 퍼셉트론, 정확히는 비선형 시그모이드 함수를\n",
        "# 활성화 함수로 이용하면 임의의 함수를 표현할 수 있다는 사실이 증명되었습니다.\n",
        "\n",
        "# 처음에는 AND와 OR 게이트, 그 다음에는 반가산기와 전가산기, 그다음에는 산술 논리 연산 장치(ALU), 그다음에는 CPU라는 식이죠.\n",
        "# 그래서 퍼셉트론으로 표현하는 컴퓨터도 여러 층을 다시 층층이 겹친 구조로 만드는 방향이 자연스러운 흐름입니다."
      ]
    },
    {
      "cell_type": "markdown",
      "source": [
        "![perceptron-in-machine-learning2.png](data:image/png;base64,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)"
      ],
      "metadata": {
        "id": "caTwD4R5-Mlh"
      }
    },
    {
      "cell_type": "code",
      "source": [
        "# 이번 장에서 배운 내용\n",
        "# 1) 퍼셉트론은 입출력을 갖춘 알고리즘이다. 입력을 주면, 정해진 규칙에 따른 값을 출력한다.\n",
        "# 2) 퍼셉트론에서는 가중치와 편향을 매개변수로 설정한다.\n",
        "# 3) 퍼셉트론으로 AND, OR 게이트 등의 논리 회로를 표현할 수 있다.\n",
        "# 4) XOR 게이트는 단층 퍼셉트론으로는 표현할 수 없다.\n",
        "# 5) 2층 퍼셉트론을 이용하면 XOR 게이트를 표현할 수 있다.\n",
        "# 6) 단층 퍼셉트론은 직선형 영역만 표현할 수 있고, 다층 퍼셉트론은 비선형 영역도 표현할 수 있다.\n",
        "# 7) 다층 퍼셉트론은 (이론상) 컴퓨터도 표현할 수 있다."
      ],
      "metadata": {
        "id": "raIsGm5n-Aw_"
      },
      "execution_count": null,
      "outputs": []
    }
  ]
}