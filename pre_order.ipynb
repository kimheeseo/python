{
  "nbformat": 4,
  "nbformat_minor": 0,
  "metadata": {
    "colab": {
      "provenance": [],
      "authorship_tag": "ABX9TyPC1pes8FzrnqrHmX0KT1yY",
      "include_colab_link": true
    },
    "kernelspec": {
      "name": "python3",
      "display_name": "Python 3"
    },
    "language_info": {
      "name": "python"
    }
  },
  "cells": [
    {
      "cell_type": "markdown",
      "metadata": {
        "id": "view-in-github",
        "colab_type": "text"
      },
      "source": [
        "<a href=\"https://colab.research.google.com/github/kimheeseo/python/blob/main/pre_order.ipynb\" target=\"_parent\"><img src=\"https://colab.research.google.com/assets/colab-badge.svg\" alt=\"Open In Colab\"/></a>"
      ]
    },
    {
      "cell_type": "markdown",
      "source": [
        "**Preorder**"
      ],
      "metadata": {
        "id": "CQDaVmNHz1UA"
      }
    },
    {
      "cell_type": "code",
      "execution_count": 2,
      "metadata": {
        "colab": {
          "base_uri": "https://localhost:8080/"
        },
        "id": "Kq9rcTKwzzSQ",
        "outputId": "fa5521a4-f120-4960-97a5-746894a40bf2"
      },
      "outputs": [
        {
          "output_type": "stream",
          "name": "stdout",
          "text": [
            "Preorder traversal 결과:\n",
            "1 2 4 8 5 3 6 7 "
          ]
        }
      ],
      "source": [
        "class Node:\n",
        "    def __init__(self, value):\n",
        "        self.value = value\n",
        "        self.left = None\n",
        "        self.right = None\n",
        "\n",
        "# Preorder traversal 함수\n",
        "def preorder(root):\n",
        "    if root is not None:\n",
        "        print(root.value, end=' ')\n",
        "        preorder(root.left)\n",
        "        preorder(root.right)\n",
        "\n",
        "# 주어진 트리 구조 생성\n",
        "root = Node(1)\n",
        "root.left = Node(2)\n",
        "root.right = Node(3)\n",
        "root.left.left = Node(4)\n",
        "root.left.right = Node(5)\n",
        "root.right.left = Node(6)\n",
        "root.right.right = Node(7)\n",
        "root.left.left.left = Node(8)\n",
        "\n",
        "# Preorder traversal 실행\n",
        "print(\"Preorder traversal 결과:\")\n",
        "preorder(root)"
      ]
    }
  ]
}