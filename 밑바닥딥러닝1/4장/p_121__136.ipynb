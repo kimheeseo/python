{
  "nbformat": 4,
  "nbformat_minor": 0,
  "metadata": {
    "colab": {
      "provenance": [],
      "authorship_tag": "ABX9TyM8BCntJlC7INUft4mxaXZR",
      "include_colab_link": true
    },
    "kernelspec": {
      "name": "python3",
      "display_name": "Python 3"
    },
    "language_info": {
      "name": "python"
    }
  },
  "cells": [
    {
      "cell_type": "markdown",
      "metadata": {
        "id": "view-in-github",
        "colab_type": "text"
      },
      "source": [
        "<a href=\"https://colab.research.google.com/github/kimheeseo/python/blob/main/p_121__136.ipynb\" target=\"_parent\"><img src=\"https://colab.research.google.com/assets/colab-badge.svg\" alt=\"Open In Colab\"/></a>"
      ]
    },
    {
      "cell_type": "markdown",
      "source": [
        "**수치 미분**"
      ],
      "metadata": {
        "id": "L_9XgKVm5_d2"
      }
    },
    {
      "cell_type": "code",
      "execution_count": null,
      "metadata": {
        "colab": {
          "base_uri": "https://localhost:8080/"
        },
        "id": "QynvGgJ25tS1",
        "outputId": "d561bf3b-f4a4-411e-a777-ba582ac59a18"
      },
      "outputs": [
        {
          "output_type": "execute_result",
          "data": {
            "text/plain": [
              "0.0"
            ]
          },
          "metadata": {},
          "execution_count": 2
        }
      ],
      "source": [
        "import numpy as np\n",
        "# 경사법에서는 기울기(경사) 값을 기준으로 나아갈 방향을 정합니다.\n",
        "# 미분: 특정 순간의 변화량을 표시한 것.\n",
        "\n",
        "# 나쁜 구현의 예\n",
        "def numerical_diff(f,x):\n",
        "  h=1e-50\n",
        "  return (f(x+h)-f(x))/h\n",
        "\n",
        "# h=1e-50\n",
        "# 반올림 오차 문제를 일으킵니다. 반올림 오차는 작은 값이 생략되어 최종 계산 결과에 오차가 생기게 됩니다.\n",
        "np.float32(1e-50)\n",
        "# 너무 작은 값을 이용하면 컴퓨터로 계산하는 데 문제가 된다는 것이다. 이 미세한 값 h로 10^(-4)을 이용하면, 좋은 결과를 얻는다."
      ]
    },
    {
      "cell_type": "code",
      "source": [
        "# y=0.01x^2+0.1x\n",
        "\n",
        "def function_1(x):\n",
        "  return 0.01*x**2 + 0.1*x\n",
        "\n",
        "import numpy as np\n",
        "import matplotlib.pylab as plt\n",
        "\n",
        "x=np.arange(0, 20, 0.1)\n",
        "y=function_1(x)\n",
        "\n",
        "plt.xlabel('x')\n",
        "plt.ylabel('y')\n",
        "plt.plot(x,y)\n",
        "plt.show()"
      ],
      "metadata": {
        "colab": {
          "base_uri": "https://localhost:8080/",
          "height": 449
        },
        "id": "4ypmu6tY6CWi",
        "outputId": "864b32c5-1e1d-4e18-f9a6-7d4a2ef648b6"
      },
      "execution_count": null,
      "outputs": [
        {
          "output_type": "display_data",
          "data": {
            "text/plain": [
              "<Figure size 640x480 with 1 Axes>"
            ],
            "image/png": "[encoded data removed]"
          },
          "metadata": {}
        }
      ]
    },
    {
      "cell_type": "code",
      "source": [
        "numerical_diff(function_1,5)"
      ],
      "metadata": {
        "colab": {
          "base_uri": "https://localhost:8080/"
        },
        "id": "8R6P36hX6CY7",
        "outputId": "9a676aaa-7b61-4d65-fa27-419b1314f2b8"
      },
      "execution_count": null,
      "outputs": [
        {
          "output_type": "execute_result",
          "data": {
            "text/plain": [
              "0.0"
            ]
          },
          "metadata": {},
          "execution_count": 4
        }
      ]
    },
    {
      "cell_type": "markdown",
      "source": [
        "**편미분**"
      ],
      "metadata": {
        "id": "UUpdqWBOAs-j"
      }
    },
    {
      "cell_type": "code",
      "source": [
        "def function_2(x):\n",
        "  return x[0]**2+x[1]**2\n",
        "\n",
        "# f(x0, x1)=(x0)^2+(x1)^2\n",
        "# 인수x는 넘파이 배열이라고 가정합니다. 이 코드는 넘파이 배열의 각 원소를 제곱하고 그 합을 구할 뿐 간단한 구현."
      ],
      "metadata": {
        "id": "F8ksWa3-_kTB"
      },
      "execution_count": null,
      "outputs": []
    },
    {
      "cell_type": "code",
      "source": [
        "def function_tmp1(x0):\n",
        "  return x0*x0+4.0**2.0"
      ],
      "metadata": {
        "id": "lFsDtg_Y6Cbi"
      },
      "execution_count": null,
      "outputs": []
    },
    {
      "cell_type": "markdown",
      "source": [
        "**기울기**"
      ],
      "metadata": {
        "id": "pR1HDYBMCX5C"
      }
    },
    {
      "cell_type": "code",
      "source": [
        "def numerical_gradient(f, x):\n",
        "  h=1e-4\n",
        "  grad=np.zeros_like(x) # np.zeros_like(x): 어떤 변수만큼의 사이즈인 0 으로 가득 찬 Array를 배출한다\n",
        "\n",
        "  for idx in range(x.size):\n",
        "    tmp_val=x[idx]\n",
        "    x[idx]=tmp_val + h\n",
        "    fxh1=f(x)\n",
        "\n",
        "    x[idx]=tmp_val - h\n",
        "    fxh2=f(x)\n",
        "\n",
        "    grad[idx]=(fxh1-fxh2)/(2*h)\n",
        "    x[idx]=tmp_val\n",
        "\n",
        "  return grad"
      ],
      "metadata": {
        "id": "TjvZuTYb6Cd7"
      },
      "execution_count": 8,
      "outputs": []
    },
    {
      "cell_type": "markdown",
      "source": [
        "**경사법(경사하강법)**"
      ],
      "metadata": {
        "id": "U6H1JjyzIOu8"
      }
    },
    {
      "cell_type": "code",
      "source": [
        "# 신경망 역시 최적의 매개변수를 학습 시에 찾아야 합니다. 최적이란 손실 함수가 최솟값이 될 때의 매개변수 값입니다.\n",
        "\n",
        "# 함수가 극솟값, 최솟값 또 안장점(saddle point)이 되는 장소에서는 기울기가 0입니다.\n",
        "# 1) 극소값: 국소적인 최소값, 즉 한정된 범위에서의 최솟값인 점입니다."
      ],
      "metadata": {
        "id": "fHmFZG486Cge"
      },
      "execution_count": null,
      "outputs": []
    },
    {
      "cell_type": "markdown",
      "source": [
        "![PICE368.gif](data:image/gif;base64,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)"
      ],
      "metadata": {
        "id": "sMBy2RFlMpUd"
      }
    },
    {
      "cell_type": "code",
      "source": [
        "# 2) 안장점: 어느 방향에서 보면 극댓값이고, 다른 방향에서 보면 극솟값이 되는 점입니다.\n",
        "# 경사법은 기울기가 0인 장소를 찾지만 그것이 반드시 최솟값이라고는 할 수 없습니다.\n",
        "\n",
        "# 복잡하고 찌그러진 모양의 함수라면 평평한 곳으로 파고들면서 고원(plateau)이라 하는, 학습이 진행되지 않는 정체기에 빠질 수 있습니다."
      ],
      "metadata": {
        "id": "lFPSPCcU6Ciy"
      },
      "execution_count": null,
      "outputs": []
    },
    {
      "cell_type": "markdown",
      "source": [
        "![DsP4CO39oK4WU3_XhNH8hZqjVt0EkVMhbBnMQddH5qaZ_IQFTvDVgiIIacvwXpDALtAuIu5FscXqxBAnN51t0Q.webp](data:image/webp;base64,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)"
      ],
      "metadata": {
        "id": "-lZaMSK_M2ES"
      }
    },
    {
      "cell_type": "code",
      "source": [
        "# 기울어진 방향이 꼭 최솟값을 가리키는 것은 아니나, 그 방향으로 가야 함수의 값을 줄일 수 있습니다.\n",
        "# 그래서 최솟값이 되는 장소를 찾는 문제에서는 기울기 정보를 단서로 나아갈 방향을 정해야 합니다.\n",
        "\n",
        "# 경사법: 현 위치에서 기울어진 방향으로 일정 거리만큼 이동합니다. 그런 다음 이동한 곳에서도 마찬가지로 기울기를 구하고, 또 기울어진 방향으로 나아가기를 반복합니다.\n",
        "# 이렇게 해서 함수의 값을 점차 줄이는 것이 경사법 입니다.(gradient method)"
      ],
      "metadata": {
        "id": "gxwaXKh16Bl1"
      },
      "execution_count": null,
      "outputs": []
    },
    {
      "cell_type": "code",
      "source": [
        "import numpy as np\n",
        "def gradienct_descent(f, init_x, lr=0.01, step_num=100):\n",
        "  x=init_x\n",
        "\n",
        "  for i in range(step_num):\n",
        "    grad=numerical_gradient(f,x) # 함수의 기울기: numerical_gradient(f,x)로 구한다.\n",
        "    x-=lr*grad\n",
        "  return x"
      ],
      "metadata": {
        "id": "okIMJ4hp6Bqx"
      },
      "execution_count": 5,
      "outputs": []
    },
    {
      "cell_type": "code",
      "source": [
        "def function_2(x):\n",
        "  return x[0]**2+x[1]**2\n",
        "\n",
        "init_x=np.array([-3.0, 4.0])\n",
        "gradienct_descent(function_2, init_x=init_x, lr=0.1, step_num=1)"
      ],
      "metadata": {
        "colab": {
          "base_uri": "https://localhost:8080/",
          "height": 312
        },
        "id": "S5IZFk-36BtP",
        "outputId": "3bd0f075-f702-404e-b411-4e5402051d4c"
      },
      "execution_count": 6,
      "outputs": [
        {
          "output_type": "error",
          "ename": "NameError",
          "evalue": "name 'numerical_gradient' is not defined",
          "traceback": [
            "\u001b[0;31m---------------------------------------------------------------------------\u001b[0m",
            "\u001b[0;31mNameError\u001b[0m                                 Traceback (most recent call last)",
            "\u001b[0;32m<ipython-input-6-b71496b80493>\u001b[0m in \u001b[0;36m<cell line: 5>\u001b[0;34m()\u001b[0m\n\u001b[1;32m      3\u001b[0m \u001b[0;34m\u001b[0m\u001b[0m\n\u001b[1;32m      4\u001b[0m \u001b[0minit_x\u001b[0m\u001b[0;34m=\u001b[0m\u001b[0mnp\u001b[0m\u001b[0;34m.\u001b[0m\u001b[0marray\u001b[0m\u001b[0;34m(\u001b[0m\u001b[0;34m[\u001b[0m\u001b[0;34m-\u001b[0m\u001b[0;36m3.0\u001b[0m\u001b[0;34m,\u001b[0m \u001b[0;36m4.0\u001b[0m\u001b[0;34m]\u001b[0m\u001b[0;34m)\u001b[0m\u001b[0;34m\u001b[0m\u001b[0;34m\u001b[0m\u001b[0m\n\u001b[0;32m----> 5\u001b[0;31m \u001b[0mgradienct_descent\u001b[0m\u001b[0;34m(\u001b[0m\u001b[0mfunction_2\u001b[0m\u001b[0;34m,\u001b[0m \u001b[0minit_x\u001b[0m\u001b[0;34m=\u001b[0m\u001b[0minit_x\u001b[0m\u001b[0;34m,\u001b[0m \u001b[0mlr\u001b[0m\u001b[0;34m=\u001b[0m\u001b[0;36m0.1\u001b[0m\u001b[0;34m,\u001b[0m \u001b[0mstep_num\u001b[0m\u001b[0;34m=\u001b[0m\u001b[0;36m1\u001b[0m\u001b[0;34m)\u001b[0m\u001b[0;34m\u001b[0m\u001b[0;34m\u001b[0m\u001b[0m\n\u001b[0m",
            "\u001b[0;32m<ipython-input-5-0f513658673a>\u001b[0m in \u001b[0;36mgradienct_descent\u001b[0;34m(f, init_x, lr, step_num)\u001b[0m\n\u001b[1;32m      4\u001b[0m \u001b[0;34m\u001b[0m\u001b[0m\n\u001b[1;32m      5\u001b[0m   \u001b[0;32mfor\u001b[0m \u001b[0mi\u001b[0m \u001b[0;32min\u001b[0m \u001b[0mrange\u001b[0m\u001b[0;34m(\u001b[0m\u001b[0mstep_num\u001b[0m\u001b[0;34m)\u001b[0m\u001b[0;34m:\u001b[0m\u001b[0;34m\u001b[0m\u001b[0;34m\u001b[0m\u001b[0m\n\u001b[0;32m----> 6\u001b[0;31m     \u001b[0mgrad\u001b[0m\u001b[0;34m=\u001b[0m\u001b[0mnumerical_gradient\u001b[0m\u001b[0;34m(\u001b[0m\u001b[0mf\u001b[0m\u001b[0;34m,\u001b[0m\u001b[0mx\u001b[0m\u001b[0;34m)\u001b[0m \u001b[0;31m# 함수의 기울기: numerical_gradient(f,x)로 구한다.\u001b[0m\u001b[0;34m\u001b[0m\u001b[0;34m\u001b[0m\u001b[0m\n\u001b[0m\u001b[1;32m      7\u001b[0m     \u001b[0mx\u001b[0m\u001b[0;34m-=\u001b[0m\u001b[0mlr\u001b[0m\u001b[0;34m*\u001b[0m\u001b[0mgrad\u001b[0m\u001b[0;34m\u001b[0m\u001b[0;34m\u001b[0m\u001b[0m\n\u001b[1;32m      8\u001b[0m   \u001b[0;32mreturn\u001b[0m \u001b[0mx\u001b[0m\u001b[0;34m\u001b[0m\u001b[0;34m\u001b[0m\u001b[0m\n",
            "\u001b[0;31mNameError\u001b[0m: name 'numerical_gradient' is not defined"
          ]
        }
      ]
    },
    {
      "cell_type": "markdown",
      "source": [
        "**학습률이 너무 큰 예: lr=10**"
      ],
      "metadata": {
        "id": "aHIbKrXyLZ5C"
      }
    },
    {
      "cell_type": "code",
      "source": [
        "init_x=np.array([-3.0, 4.0])\n",
        "gradienct_descent(function_2, init_x=init_x, lr=10, step_num=100)"
      ],
      "metadata": {
        "id": "hr1I3idB6Bv1",
        "colab": {
          "base_uri": "https://localhost:8080/"
        },
        "outputId": "e1068dae-6452-4b20-c1eb-78222f18970c"
      },
      "execution_count": 9,
      "outputs": [
        {
          "output_type": "execute_result",
          "data": {
            "text/plain": [
              "array([-2.58983747e+13, -1.29524862e+12])"
            ]
          },
          "metadata": {},
          "execution_count": 9
        }
      ]
    },
    {
      "cell_type": "markdown",
      "source": [
        "**학습률이 너무 작은 예:lr=1e-10**"
      ],
      "metadata": {
        "id": "Ik00vPBjLjla"
      }
    },
    {
      "cell_type": "code",
      "source": [
        "init_x=np.array([-3.0, 4.0])\n",
        "gradienct_descent(function_2, init_x=init_x, lr=1e-10, step_num=100)\n",
        "\n",
        "# 학습률이 너무 크면 큰 값으로 발산해버립니다.\n",
        "# 반대로 너무 작으면 거의 갱신되지 않은 채 끝나버린다.\n",
        "\n",
        "# 하이퍼파라미터 : 사람이 직접 설정해야 하는 매개변수"
      ],
      "metadata": {
        "id": "aCWmRF2A6ByP",
        "colab": {
          "base_uri": "https://localhost:8080/"
        },
        "outputId": "78ac466a-72d5-409a-bf6c-7f6d7403e1bf"
      },
      "execution_count": 10,
      "outputs": [
        {
          "output_type": "execute_result",
          "data": {
            "text/plain": [
              "array([-2.99999994,  3.99999992])"
            ]
          },
          "metadata": {},
          "execution_count": 10
        }
      ]
    },
    {
      "cell_type": "markdown",
      "source": [
        "**신경망에서의 기울기**"
      ],
      "metadata": {
        "id": "eWvALkF0NaD8"
      }
    },
    {
      "cell_type": "code",
      "source": [
        "def sigmoid(x):\n",
        "    return 1 / (1 + np.exp(-x))\n",
        "\n",
        "\n",
        "def cross_entropy_error(y, t):\n",
        "    if y.ndim == 1:\n",
        "        t = t.reshape(1, t.size)\n",
        "        y = y.reshape(1, y.size)\n",
        "\n",
        "    if t.size == y.size:\n",
        "        t = t.argmax(axis=1)\n",
        "\n",
        "    batch_size = y.shape[0]\n",
        "    return -np.sum(np.log(y[np.arange(batch_size), t] + 1e-7)) / batch_size\n",
        "\n",
        "def _numerical_gradient_1d(f, x):\n",
        "    h = 1e-4 # 0.0001\n",
        "    grad = np.zeros_like(x)\n",
        "\n",
        "    for idx in range(x.size):\n",
        "        tmp_val = x[idx]\n",
        "        x[idx] = float(tmp_val) + h\n",
        "        fxh1 = f(x) # f(x+h)\n",
        "\n",
        "        x[idx] = tmp_val - h\n",
        "        fxh2 = f(x) # f(x-h)\n",
        "        grad[idx] = (fxh1 - fxh2) / (2*h)\n",
        "\n",
        "        x[idx] = tmp_val # 値を元に戻す\n",
        "\n",
        "    return grad\n",
        "\n",
        "def numerical_gradient_2d(f, X):\n",
        "    if X.ndim == 1:\n",
        "        return _numerical_gradient_1d(f, X)\n",
        "    else:\n",
        "        grad = np.zeros_like(X)\n",
        "\n",
        "        for idx, x in enumerate(X):\n",
        "            grad[idx] = _numerical_gradient_1d(f, x)\n",
        "\n",
        "        return grad\n",
        "\n",
        "def numerical_gradient(f, x):\n",
        "    h = 1e-4 # 0.0001\n",
        "    grad = np.zeros_like(x)\n",
        "\n",
        "    it = np.nditer(x, flags=['multi_index'], op_flags=['readwrite'])\n",
        "    while not it.finished:\n",
        "        idx = it.multi_index\n",
        "        tmp_val = x[idx]\n",
        "        x[idx] = tmp_val + h\n",
        "        fxh1 = f(x) # f(x+h)\n",
        "\n",
        "        x[idx] = tmp_val - h\n",
        "        fxh2 = f(x) # f(x-h)\n",
        "        grad[idx] = (fxh1 - fxh2) / (2*h)\n",
        "\n",
        "        x[idx] = tmp_val\n",
        "        it.iternext()\n",
        "\n",
        "    return grad\n",
        "\n",
        "def softmax(x):\n",
        "    x = x - np.max(x, axis=-1, keepdims=True)\n",
        "    return np.exp(x) / np.sum(np.exp(x), axis=-1, keepdims=True)"
      ],
      "metadata": {
        "id": "0vDW7n0DN00v"
      },
      "execution_count": 35,
      "outputs": []
    },
    {
      "cell_type": "code",
      "source": [
        "# 간단한 신경망\n",
        "import sys, os\n",
        "sys.path.append(os.pardir)\n",
        "import numpy as np\n",
        "\n",
        "class simpleNet:\n",
        "  def __init__(self):\n",
        "    self.w=np.random.randn(2,3) # 정규분포로 초기화\n",
        "\n",
        "  def predict(self, x):\n",
        "    return np.dot(x, self.w)\n",
        "\n",
        "  def loss(self, x, t):\n",
        "    z=self.predict(x)\n",
        "    y=softmax(z)\n",
        "    loss=cross_entropy_error(y,t)\n",
        "\n",
        "    return loss"
      ],
      "metadata": {
        "id": "yOdgZ8LmNcBR"
      },
      "execution_count": 14,
      "outputs": []
    },
    {
      "cell_type": "code",
      "source": [
        "net=simpleNet()\n",
        "print('net.w값(가중치 매개변수):\\n', net.w)"
      ],
      "metadata": {
        "colab": {
          "base_uri": "https://localhost:8080/"
        },
        "id": "r4-khqGeNcDv",
        "outputId": "2c9f1a33-7a1d-4a0d-f79f-340a7a853568"
      },
      "execution_count": 28,
      "outputs": [
        {
          "output_type": "stream",
          "name": "stdout",
          "text": [
            "net.w값(가중치 매개변수):\n",
            " [[ 1.17841195 -1.49861788  0.48156022]\n",
            " [-0.76733117  0.28081396  0.43212883]]\n"
          ]
        }
      ]
    },
    {
      "cell_type": "code",
      "source": [
        "x=np.array([0.6, 0.9])\n",
        "p=net.predict(x)\n",
        "print('p값(예측값):',p)"
      ],
      "metadata": {
        "colab": {
          "base_uri": "https://localhost:8080/"
        },
        "id": "kn4gtxUhNcGN",
        "outputId": "94711593-d107-4eb8-dee4-64f5e6ed982d"
      },
      "execution_count": 29,
      "outputs": [
        {
          "output_type": "stream",
          "name": "stdout",
          "text": [
            "p값(예측값): [ 0.01644911 -0.64643816  0.67785208]\n"
          ]
        }
      ]
    },
    {
      "cell_type": "code",
      "source": [
        "# 3번째 요소인 2를 나타내는 값이 가장 크니까, 그 값의 인덱스 도출\n",
        "np.argmax(p)"
      ],
      "metadata": {
        "colab": {
          "base_uri": "https://localhost:8080/"
        },
        "id": "ggyf0WoPNcIz",
        "outputId": "863c19d5-e4ae-41ab-f40b-815b88469da2"
      },
      "execution_count": 30,
      "outputs": [
        {
          "output_type": "execute_result",
          "data": {
            "text/plain": [
              "2"
            ]
          },
          "metadata": {},
          "execution_count": 30
        }
      ]
    },
    {
      "cell_type": "code",
      "source": [
        "t=np.array([0,0,1]) # 정답 레이블: 인덱스 2의 값이 정답으로 설정\n",
        "net.loss(x,t)"
      ],
      "metadata": {
        "colab": {
          "base_uri": "https://localhost:8080/"
        },
        "id": "w77yCy1tNcLR",
        "outputId": "21666723-ffe5-40bd-d1eb-00cc07a8d08c"
      },
      "execution_count": 31,
      "outputs": [
        {
          "output_type": "execute_result",
          "data": {
            "text/plain": [
              "0.5778025904266132"
            ]
          },
          "metadata": {},
          "execution_count": 31
        }
      ]
    },
    {
      "cell_type": "code",
      "source": [
        "# 기울기를 구해볼까요?\n",
        "def f(W):\n",
        "  return net.loss(x,t)\n",
        "\n",
        "dW=numerical_gradient(f, net.w)\n",
        "print(dW)\n",
        "\n",
        "# numerical_gradient(f, x)의 인수 f는 함수, x는 함수 f의 인수.\n",
        "# 그래서 net.w를 인수로 받아 손실함수를 계산하는 새로운 함수 f를 정의.\n",
        "# 그리고 이 새로 정의한 함수를 numerical_gradient(f,x)에 넘깁니다."
      ],
      "metadata": {
        "id": "Jdauywps6B01",
        "colab": {
          "base_uri": "https://localhost:8080/"
        },
        "outputId": "17db83c4-f4e2-488f-e46a-f10609aeef3d"
      },
      "execution_count": 37,
      "outputs": [
        {
          "output_type": "stream",
          "name": "stdout",
          "text": [
            "[[ 0.17376846  0.08955352 -0.26332199]\n",
            " [ 0.26065269  0.13433028 -0.39498298]]\n"
          ]
        }
      ]
    },
    {
      "cell_type": "code",
      "source": [
        "# +) 람다 기법\n",
        "f=lambda w:net.loss(x,t)\n",
        "dW=numerical_gradient(f, net.w)\n",
        "print(dW)"
      ],
      "metadata": {
        "colab": {
          "base_uri": "https://localhost:8080/"
        },
        "id": "OC2z_ioBPl8s",
        "outputId": "eac69584-6e57-42b7-df98-60eb611e91b7"
      },
      "execution_count": 38,
      "outputs": [
        {
          "output_type": "stream",
          "name": "stdout",
          "text": [
            "[[ 0.17376846  0.08955352 -0.26332199]\n",
            " [ 0.26065269  0.13433028 -0.39498298]]\n"
          ]
        }
      ]
    },
    {
      "cell_type": "code",
      "source": [
        "# f를 net.loss(x,t)로 이름을 바꿨습니다."
      ],
      "metadata": {
        "id": "1l99aYJAPmKV"
      },
      "execution_count": null,
      "outputs": []
    }
  ]
}
