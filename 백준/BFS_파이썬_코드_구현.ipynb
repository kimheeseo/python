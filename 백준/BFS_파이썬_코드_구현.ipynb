{
  "nbformat": 4,
  "nbformat_minor": 0,
  "metadata": {
    "colab": {
      "provenance": [],
      "authorship_tag": "ABX9TyPzUQgrf+8iYQeniMiSn5mT",
      "include_colab_link": true
    },
    "kernelspec": {
      "name": "python3",
      "display_name": "Python 3"
    },
    "language_info": {
      "name": "python"
    }
  },
  "cells": [
    {
      "cell_type": "markdown",
      "metadata": {
        "id": "view-in-github",
        "colab_type": "text"
      },
      "source": [
        "<a href=\"https://colab.research.google.com/github/kimheeseo/python/blob/main/BFS_%ED%8C%8C%EC%9D%B4%EC%8D%AC_%EC%BD%94%EB%93%9C_%EA%B5%AC%ED%98%84.ipynb\" target=\"_parent\"><img src=\"https://colab.research.google.com/assets/colab-badge.svg\" alt=\"Open In Colab\"/></a>"
      ]
    },
    {
      "cell_type": "markdown",
      "source": [
        "**URL: https://www.youtube.com/watch?v=QnhD-jSmfsk&t=302s**"
      ],
      "metadata": {
        "id": "L0BdeG1dWHm5"
      }
    },
    {
      "cell_type": "code",
      "execution_count": 3,
      "metadata": {
        "colab": {
          "base_uri": "https://localhost:8080/"
        },
        "id": "oEC9dcdm7m_g",
        "outputId": "44145c85-9c6a-4bf0-fab4-548d888cfde0"
      },
      "outputs": [
        {
          "output_type": "stream",
          "name": "stdout",
          "text": [
            "q1값: ['m']\n",
            "v1값: ['m']\n",
            "x값: m\n",
            "idx값: 0\n",
            "q값: ['a']\n",
            "v값: ['m', 'a']\n",
            "q값: ['a', 'k']\n",
            "v값: ['m', 'a', 'k']\n",
            "x값: a\n",
            "idx값: 1\n",
            "q값: ['k', 'i']\n",
            "v값: ['m', 'a', 'k', 'i']\n",
            "x값: k\n",
            "idx값: 2\n",
            "x값: i\n",
            "idx값: 3\n",
            "q값: ['t']\n",
            "v값: ['m', 'a', 'k', 'i', 't']\n",
            "q값: ['t', 'c']\n",
            "v값: ['m', 'a', 'k', 'i', 't', 'c']\n",
            "x값: t\n",
            "idx값: 4\n",
            "x값: c\n",
            "idx값: 5\n"
          ]
        }
      ],
      "source": [
        "node=['m', 'a','k','i','t','c']\n",
        "g=[[0,1,1,0,0,0],\n",
        "   [1,0,1,1,0,0],\n",
        "   [1,1,0,1,0,0],\n",
        "   [0,1,1,0,1,1],\n",
        "   [0,0,0,1,0,0],\n",
        "   [0,0,0,1,0,0]]\n",
        "\n",
        "q=[] # queue\n",
        "v=[] # visit\n",
        "\n",
        "q.append('m')\n",
        "v.append('m')\n",
        "\n",
        "print('q1값:',q)\n",
        "print('v1값:',v)\n",
        "\n",
        "while q:\n",
        "  x=q.pop(0)\n",
        "  print('x값:',x)\n",
        "  idx=node.index(x)\n",
        "  print('idx값:',idx)\n",
        "\n",
        "  for i in range(len(g[idx])):\n",
        "    if g[idx][i]==1: #\n",
        "      if node[i] not in v:\n",
        "        q.append(node[i])\n",
        "        print('q값:',q)\n",
        "        v.append(node[i])\n",
        "        print('v값:',v)\n"
      ]
    }
  ]
}
