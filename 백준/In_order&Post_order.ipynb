{
  "nbformat": 4,
  "nbformat_minor": 0,
  "metadata": {
    "colab": {
      "provenance": [],
      "authorship_tag": "ABX9TyPGfKwEfR7/TwEKz+0z2iie",
      "include_colab_link": true
    },
    "kernelspec": {
      "name": "python3",
      "display_name": "Python 3"
    },
    "language_info": {
      "name": "python"
    }
  },
  "cells": [
    {
      "cell_type": "markdown",
      "metadata": {
        "id": "view-in-github",
        "colab_type": "text"
      },
      "source": [
        "<a href=\"https://colab.research.google.com/github/kimheeseo/python/blob/main/In_order%26Post_order.ipynb\" target=\"_parent\"><img src=\"https://colab.research.google.com/assets/colab-badge.svg\" alt=\"Open In Colab\"/></a>"
      ]
    },
    {
      "cell_type": "code",
      "execution_count": 1,
      "metadata": {
        "colab": {
          "base_uri": "https://localhost:8080/"
        },
        "id": "7TM-A3-X3VRT",
        "outputId": "8b45e326-89a9-4ee4-f99d-d078bddc9447"
      },
      "outputs": [
        {
          "output_type": "stream",
          "name": "stdout",
          "text": [
            "Postorder traversal 결과:\n",
            "8 4 5 2 6 7 3 1 \n",
            "Inorder traversal 결과:\n",
            "8 4 2 5 1 6 3 7 "
          ]
        }
      ],
      "source": [
        "class Node:\n",
        "    def __init__(self, value):\n",
        "        self.value = value\n",
        "        self.left = None\n",
        "        self.right = None\n",
        "\n",
        "# Postorder traversal 함수\n",
        "def postorder(root):\n",
        "    if root is not None:\n",
        "        postorder(root.left)\n",
        "        postorder(root.right)\n",
        "        print(root.value, end=' ')\n",
        "\n",
        "# Inorder traversal 함수\n",
        "def inorder(root):\n",
        "    if root is not None:\n",
        "        inorder(root.left)\n",
        "        print(root.value, end=' ')\n",
        "        inorder(root.right)\n",
        "\n",
        "# 주어진 트리 구조 생성\n",
        "root = Node(1)\n",
        "root.left = Node(2)\n",
        "root.right = Node(3)\n",
        "root.left.left = Node(4)\n",
        "root.left.right = Node(5)\n",
        "root.right.left = Node(6)\n",
        "root.right.right = Node(7)\n",
        "root.left.left.left = Node(8)\n",
        "\n",
        "# 순회 결과 출력\n",
        "print(\"Postorder traversal 결과:\")\n",
        "postorder(root)\n",
        "print(\"\\nInorder traversal 결과:\")\n",
        "inorder(root)"
      ]
    },
    {
      "cell_type": "code",
      "source": [
        "root.value"
      ],
      "metadata": {
        "colab": {
          "base_uri": "https://localhost:8080/"
        },
        "id": "sDl9JTLl_ABT",
        "outputId": "e20d0c42-c3d7-4635-9992-df62f35fd2f8"
      },
      "execution_count": 2,
      "outputs": [
        {
          "output_type": "execute_result",
          "data": {
            "text/plain": [
              "1"
            ]
          },
          "metadata": {},
          "execution_count": 2
        }
      ]
    },
    {
      "cell_type": "code",
      "source": [
        "root.left"
      ],
      "metadata": {
        "colab": {
          "base_uri": "https://localhost:8080/"
        },
        "id": "sQsLnREj_6j7",
        "outputId": "9b049cc7-efc3-4b51-a10b-bbf49dcb9b6d"
      },
      "execution_count": 3,
      "outputs": [
        {
          "output_type": "execute_result",
          "data": {
            "text/plain": [
              "<__main__.Node at 0x7f24f41b5bd0>"
            ]
          },
          "metadata": {},
          "execution_count": 3
        }
      ]
    }
  ]
}
