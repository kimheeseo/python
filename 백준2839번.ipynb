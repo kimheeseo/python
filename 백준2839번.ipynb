{
  "nbformat": 4,
  "nbformat_minor": 0,
  "metadata": {
    "colab": {
      "provenance": [],
      "authorship_tag": "ABX9TyMOQum7WeIcqPza54pvm4je",
      "include_colab_link": true
    },
    "kernelspec": {
      "name": "python3",
      "display_name": "Python 3"
    },
    "language_info": {
      "name": "python"
    }
  },
  "cells": [
    {
      "cell_type": "markdown",
      "metadata": {
        "id": "view-in-github",
        "colab_type": "text"
      },
      "source": [
        "<a href=\"https://colab.research.google.com/github/kimheeseo/python/blob/main/%EB%B0%B1%EC%A4%802839%EB%B2%88.ipynb\" target=\"_parent\"><img src=\"https://colab.research.google.com/assets/colab-badge.svg\" alt=\"Open In Colab\"/></a>"
      ]
    },
    {
      "cell_type": "code",
      "execution_count": 98,
      "metadata": {
        "colab": {
          "base_uri": "https://localhost:8080/"
        },
        "id": "4n5KpTGtZhkq",
        "outputId": "7bb1f2c6-e063-45dd-81b0-d776a99e9da2"
      },
      "outputs": [
        {
          "output_type": "stream",
          "name": "stdout",
          "text": [
            "18\n",
            "5kg 봉지로 나눠준 후 남은 갯수: 3\n",
            "3kg 봉지로 나눠준 후 남은 갯수: 0\n",
            "bb3값: 3\n",
            "cc값: 13\n",
            "cnt값: 1\n",
            "cc값: 8\n",
            "cnt값: 2\n",
            "cc값: 3\n",
            "mm값: 4\n",
            "bb1값: 10000\n",
            "bb2값: 6\n",
            "4\n"
          ]
        }
      ],
      "source": [
        "a=int(input())\n",
        "\n",
        "del mm\n",
        "del bb1\n",
        "del bb2\n",
        "\n",
        "cnt=0\n",
        "mm=10000\n",
        "bb1=10000\n",
        "bb2=10000\n",
        "\n",
        "b1=a%5 # 처음에 5kg로 나누기\n",
        "print('5kg 봉지로 나눠준 후 남은 갯수: %d' %(b1))\n",
        "b2=a%3 # 처음에 3kg로 나누기\n",
        "print('3kg 봉지로 나눠준 후 남은 갯수: %d' %(b2))\n",
        "\n",
        "#while 1:\n",
        "if b1==0:\n",
        "  bb1=a//5 # 5kg로만 구해지는 것\n",
        "elif b2==0:\n",
        "  bb2=a//3 # 3kg로만 구해지는 것\n",
        "#else:\n",
        "bb3=a//5\n",
        "print('bb3값:',bb3)\n",
        "for i in range(bb3):\n",
        "  cc=a-((1)*5)\n",
        "  print('cc값:',cc)\n",
        "  if cc%3 ==0:\n",
        "    mm=(i+1)+cc//3\n",
        "    print('mm값:',mm)\n",
        "    break\n",
        "  a=cc\n",
        "  if cnt == (bb3-1):\n",
        "    break\n",
        "  cnt=cnt+1\n",
        "  print('cnt값:',cnt)\n",
        "print('bb1값:',bb1)\n",
        "print('bb2값:',bb2)\n",
        "\n",
        "if mm == 10000 and (b1 != 0 and b2 != 0):\n",
        "  mm=-1\n",
        "  print('나눌수 없습니다.') # 정확히 n킬로그램을 만들 수 없다.\n",
        "  print(-1)\n",
        "#갯수\n",
        "mm=min(bb1,bb2, mm)\n",
        "print(mm)"
      ]
    }
  ]
}