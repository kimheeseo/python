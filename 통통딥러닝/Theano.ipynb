{
  "nbformat": 4,
  "nbformat_minor": 0,
  "metadata": {
    "colab": {
      "provenance": [],
      "authorship_tag": "ABX9TyPatzjP24jSELgExMHLE6tp",
      "include_colab_link": true
    },
    "kernelspec": {
      "name": "python3",
      "display_name": "Python 3"
    },
    "language_info": {
      "name": "python"
    }
  },
  "cells": [
    {
      "cell_type": "markdown",
      "metadata": {
        "id": "view-in-github",
        "colab_type": "text"
      },
      "source": [
        "<a href=\"https://colab.research.google.com/github/kimheeseo/python/blob/main/Theano.ipynb\" target=\"_parent\"><img src=\"https://colab.research.google.com/assets/colab-badge.svg\" alt=\"Open In Colab\"/></a>"
      ]
    },
    {
      "cell_type": "markdown",
      "source": [
        "**Theano**"
      ],
      "metadata": {
        "id": "eLGatGc7UT7k"
      }
    },
    {
      "cell_type": "code",
      "execution_count": 1,
      "metadata": {
        "id": "SFp-PIrTPdsW"
      },
      "outputs": [],
      "source": [
        "# 딥러닝이 많은 주목을 받고 지금처럼 비약적으로 성능을 높일 수 있었던 큰 요인으로, 다양한 딥러닝 도구가 공개되어 있다는 것을 들 수 있다.\n",
        "# ImageNet이나 Places 같은 대규모 데이터 집합과 함께 다양한 학습/테스트 환경이 무료로 제공되어 연구를 시작하기 위한 장벽이 낮아졌으며,\n",
        "# 또한 그 성과를 공개하기 위한 토양이 될 환경도 마련되어 있다."
      ]
    },
    {
      "cell_type": "code",
      "source": [
        "# Theano\n",
        "# 공개연도: 2010\n",
        "# 사용하는 언어: 파이썬\n",
        "# 개발 주체: 몬트리얼 대학교\n",
        "\n",
        "# Tehano: 수치 계산을 위한 도구이며, Theano를 베이스로 하는 딥러닝 소스코드가 공개되어 있다.\n",
        "\n",
        "# 특징\n",
        "# 1) 변수나 행렬, 식에 대한 계산 과정을 수식과 같은 방식으로 나타낼 수 있다.\n",
        "# 2) 경사 계산을 해석적으로 수행할 수 있다.\n",
        "# 3) 수행 속도가 빠르다.\n",
        "# 4) GPU 연산을 지원한다.\n",
        "\n",
        "# Theano는 계산 과정을 수식 자체로 나타낼 수 있다."
      ],
      "metadata": {
        "id": "8Kq1ud5rPixR"
      },
      "execution_count": 2,
      "outputs": []
    },
    {
      "cell_type": "markdown",
      "source": [
        "![images.png](data:image/png;base64,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)"
      ],
      "metadata": {
        "id": "btRkyBqWVJ71"
      }
    },
    {
      "cell_type": "markdown",
      "source": [
        "**Theano의 설치**"
      ],
      "metadata": {
        "id": "-0NLfL7QbxlZ"
      }
    },
    {
      "cell_type": "code",
      "source": [
        "!sudo apt-get install python-numpy python-scipy python-dev\n",
        "!python-pip python-nose g++ libopenblas-dev git\n",
        "!sudo pip install Theano"
      ],
      "metadata": {
        "colab": {
          "base_uri": "https://localhost:8080/"
        },
        "id": "JSbb-QTtPwK3",
        "outputId": "f5d3a8b4-fceb-4d80-9e27-33dce91bfe67"
      },
      "execution_count": 4,
      "outputs": [
        {
          "output_type": "stream",
          "name": "stdout",
          "text": [
            "Reading package lists... Done\n",
            "Building dependency tree... Done\n",
            "Reading state information... Done\n",
            "Package python-dev is not available, but is referred to by another package.\n",
            "This may mean that the package is missing, has been obsoleted, or\n",
            "is only available from another source\n",
            "However the following packages replace it:\n",
            "  python2-dev python2 python-dev-is-python3\n",
            "\n",
            "Package python-scipy is not available, but is referred to by another package.\n",
            "This may mean that the package is missing, has been obsoleted, or\n",
            "is only available from another source\n",
            "\n",
            "E: Unable to locate package python-numpy\n",
            "E: Package 'python-scipy' has no installation candidate\n",
            "E: Package 'python-dev' has no installation candidate\n",
            "/bin/bash: line 1: python-pip: command not found\n",
            "Collecting Theano\n",
            "  Downloading Theano-1.0.5.tar.gz (2.8 MB)\n",
            "\u001b[2K     \u001b[90m━━━━━━━━━━━━━━━━━━━━━━━━━━━━━━━━━━━━━━━━\u001b[0m \u001b[32m2.8/2.8 MB\u001b[0m \u001b[31m21.8 MB/s\u001b[0m eta \u001b[36m0:00:00\u001b[0m\n",
            "\u001b[?25h  Preparing metadata (setup.py) ... \u001b[?25l\u001b[?25hdone\n",
            "Requirement already satisfied: numpy>=1.9.1 in /usr/local/lib/python3.10/dist-packages (from Theano) (1.26.4)\n",
            "Requirement already satisfied: scipy>=0.14 in /usr/local/lib/python3.10/dist-packages (from Theano) (1.13.1)\n",
            "Requirement already satisfied: six>=1.9.0 in /usr/local/lib/python3.10/dist-packages (from Theano) (1.16.0)\n",
            "Building wheels for collected packages: Theano\n",
            "  Building wheel for Theano (setup.py) ... \u001b[?25l\u001b[?25hdone\n",
            "  Created wheel for Theano: filename=Theano-1.0.5-py3-none-any.whl size=2668109 sha256=827aaed3ae47a84858304c2b5432754fd743c2f4cc837b4d23935663293a69f7\n",
            "  Stored in directory: /root/.cache/pip/wheels/d9/e6/7d/2267d21a99e4ab8276f976f293b4ff23f50c9d809f4a216ebb\n",
            "Successfully built Theano\n",
            "Installing collected packages: Theano\n",
            "Successfully installed Theano-1.0.5\n"
          ]
        }
      ]
    },
    {
      "cell_type": "markdown",
      "source": [
        "**Github로부터 설치**"
      ],
      "metadata": {
        "id": "1zu6SQUjceC3"
      }
    },
    {
      "cell_type": "code",
      "source": [
        "!git clone git://github.com/Theano/Theano.git\n",
        "!cd Theano\n",
        "!sudo python setup.py develop"
      ],
      "metadata": {
        "colab": {
          "base_uri": "https://localhost:8080/"
        },
        "id": "shMqsBqRbwvG",
        "outputId": "04d03738-8394-4683-98e6-50805e8223b1"
      },
      "execution_count": 5,
      "outputs": [
        {
          "output_type": "stream",
          "name": "stdout",
          "text": [
            "Cloning into 'Theano'...\n",
            "fatal: unable to connect to github.com:\n",
            "github.com[0: 140.82.114.3]: errno=Connection timed out\n",
            "\n",
            "/bin/bash: line 1: cd: Theano: No such file or directory\n",
            "python3: can't open file '/content/setup.py': [Errno 2] No such file or directory\n"
          ]
        }
      ]
    },
    {
      "cell_type": "markdown",
      "source": [
        "**Github에서 설치(업데이트)**"
      ],
      "metadata": {
        "id": "U0f_EykccwZc"
      }
    },
    {
      "cell_type": "code",
      "source": [
        "from typing import TYPE_CHECKING\n",
        "# Theano가 이미 설치되어 있는 상태에서 업데이트를 하려는 경우에는 다음과 같은 명령을 사용한다.\n",
        "!sudo pip install--upgrade --no-deps theano\n",
        "# 또는\n",
        "!sudo pip install--upgrade theano\n",
        "\n",
        "#github을 이용하는 경우에는\n",
        "!cd Theano\n",
        "!git pull"
      ],
      "metadata": {
        "id": "PzISt2hMbwxh"
      },
      "execution_count": null,
      "outputs": []
    },
    {
      "cell_type": "markdown",
      "source": [
        "**CUDA Toolkit 설치**"
      ],
      "metadata": {
        "id": "H75Hc-BHdJFa"
      }
    },
    {
      "cell_type": "code",
      "source": [
        "# Thean를 CUDA를 사용하는 GPU로 실행하기 위해서는 별도의 GPU 드라이버와 CUDA Toolkit이 필요하다.\n",
        "# Ubuntu에서는 다음 명령으로 설치할 수 있지만, 최신 버전을 사용하려면 NVIDIA 홈페이지에서 직접 다운로드한 뒤 설치해야 한다.\n",
        "!sudo apt-get install nvidia-current\n",
        "!sudo apt-get install nvidia-cuda-toolkit"
      ],
      "metadata": {
        "colab": {
          "base_uri": "https://localhost:8080/"
        },
        "id": "Kg686rAGbwz-",
        "outputId": "369dae6f-90ba-443c-91ee-838063546d96"
      },
      "execution_count": 6,
      "outputs": [
        {
          "output_type": "stream",
          "name": "stdout",
          "text": [
            "Reading package lists... Done\n",
            "Building dependency tree... Done\n",
            "Reading state information... Done\n",
            "Package nvidia-current is not available, but is referred to by another package.\n",
            "This may mean that the package is missing, has been obsoleted, or\n",
            "is only available from another source\n",
            "\n",
            "E: Package 'nvidia-current' has no installation candidate\n",
            "Reading package lists... Done\n",
            "Building dependency tree... Done\n",
            "Reading state information... Done\n",
            "The following additional packages will be installed:\n",
            "  fonts-dejavu-core fonts-dejavu-extra libaccinj64-11.5 libatk-wrapper-java\n",
            "  libatk-wrapper-java-jni libbabeltrace1 libcub-dev libcublas11 libcublaslt11\n",
            "  libcudart11.0 libcufft10 libcufftw10 libcuinj64-11.5 libcupti-dev\n",
            "  libcupti-doc libcupti11.5 libcurand10 libcusolver11 libcusolvermg11\n",
            "  libcusparse11 libdebuginfod-common libdebuginfod1 libegl-dev libfontenc1\n",
            "  libgail-common libgail18 libgl-dev libgl1-mesa-dev libgles-dev libgles1\n",
            "  libglvnd-core-dev libglvnd-dev libglx-dev libgtk2.0-0 libgtk2.0-bin\n",
            "  libgtk2.0-common libipt2 libnppc11 libnppial11 libnppicc11 libnppidei11\n",
            "  libnppif11 libnppig11 libnppim11 libnppist11 libnppisu11 libnppitc11\n",
            "  libnpps11 libnvblas11 libnvidia-compute-495 libnvidia-compute-510\n",
            "  libnvidia-compute-535 libnvidia-ml-dev libnvjpeg11 libnvrtc-builtins11.5\n",
            "  libnvrtc11.2 libnvtoolsext1 libnvvm4 libopengl-dev librsvg2-common\n",
            "  libsource-highlight-common libsource-highlight4v5 libthrust-dev libvdpau-dev\n",
            "  libxkbfile1 libxtst6 libxxf86dga1 node-html5shiv nvidia-cuda-dev\n",
            "  nvidia-cuda-gdb nvidia-cuda-toolkit-doc nvidia-profiler\n",
            "  nvidia-visual-profiler openjdk-8-jre openjdk-8-jre-headless x11-utils\n",
            "Suggested packages:\n",
            "  gvfs libvdpau-doc nodejs libnss-mdns fonts-nanum fonts-ipafont-gothic\n",
            "  fonts-ipafont-mincho fonts-wqy-microhei fonts-wqy-zenhei fonts-indic\n",
            "  mesa-utils\n",
            "Recommended packages:\n",
            "  libnvcuvid1 nsight-compute nsight-systems\n",
            "The following NEW packages will be installed:\n",
            "  fonts-dejavu-core fonts-dejavu-extra libaccinj64-11.5 libatk-wrapper-java\n",
            "  libatk-wrapper-java-jni libbabeltrace1 libcub-dev libcublas11 libcublaslt11\n",
            "  libcudart11.0 libcufft10 libcufftw10 libcuinj64-11.5 libcupti-dev\n",
            "  libcupti-doc libcupti11.5 libcurand10 libcusolver11 libcusolvermg11\n",
            "  libcusparse11 libdebuginfod-common libdebuginfod1 libegl-dev libfontenc1\n",
            "  libgail-common libgail18 libgl-dev libgl1-mesa-dev libgles-dev libgles1\n",
            "  libglvnd-core-dev libglvnd-dev libglx-dev libgtk2.0-0 libgtk2.0-bin\n",
            "  libgtk2.0-common libipt2 libnppc11 libnppial11 libnppicc11 libnppidei11\n",
            "  libnppif11 libnppig11 libnppim11 libnppist11 libnppisu11 libnppitc11\n",
            "  libnpps11 libnvblas11 libnvidia-compute-495 libnvidia-compute-510\n",
            "  libnvidia-compute-535 libnvidia-ml-dev libnvjpeg11 libnvrtc-builtins11.5\n",
            "  libnvrtc11.2 libnvtoolsext1 libnvvm4 libopengl-dev librsvg2-common\n",
            "  libsource-highlight-common libsource-highlight4v5 libthrust-dev libvdpau-dev\n",
            "  libxkbfile1 libxtst6 libxxf86dga1 node-html5shiv nvidia-cuda-dev\n",
            "  nvidia-cuda-gdb nvidia-cuda-toolkit nvidia-cuda-toolkit-doc nvidia-profiler\n",
            "  nvidia-visual-profiler openjdk-8-jre openjdk-8-jre-headless x11-utils\n",
            "0 upgraded, 77 newly installed, 0 to remove and 45 not upgraded.\n",
            "Need to get 1,540 MB of archives.\n",
            "After this operation, 4,234 MB of additional disk space will be used.\n",
            "Get:1 https://developer.download.nvidia.com/compute/cuda/repos/ubuntu2204/x86_64  libnvidia-compute-535 535.183.06-0ubuntu1 [36.9 MB]\n",
            "Get:2 http://archive.ubuntu.com/ubuntu jammy/main amd64 libdebuginfod-common all 0.186-1build1 [7,878 B]\n",
            "Get:3 http://archive.ubuntu.com/ubuntu jammy/main amd64 fonts-dejavu-core all 2.37-2build1 [1,041 kB]\n",
            "Get:4 http://archive.ubuntu.com/ubuntu jammy/main amd64 fonts-dejavu-extra all 2.37-2build1 [2,041 kB]\n",
            "Get:5 http://archive.ubuntu.com/ubuntu jammy/multiverse amd64 libcupti11.5 amd64 11.5.114~11.5.1-1ubuntu1 [7,696 kB]\n",
            "Get:6 http://archive.ubuntu.com/ubuntu jammy/multiverse amd64 libaccinj64-11.5 amd64 11.5.114~11.5.1-1ubuntu1 [845 kB]\n",
            "Get:7 http://archive.ubuntu.com/ubuntu jammy/main amd64 libfontenc1 amd64 1:1.1.4-1build3 [14.7 kB]\n",
            "Get:8 http://archive.ubuntu.com/ubuntu jammy/main amd64 libxkbfile1 amd64 1:1.1.0-1build3 [71.8 kB]\n",
            "Get:9 http://archive.ubuntu.com/ubuntu jammy/main amd64 libxtst6 amd64 2:1.2.3-1build4 [13.4 kB]\n",
            "Get:10 http://archive.ubuntu.com/ubuntu jammy/main amd64 libxxf86dga1 amd64 2:1.1.5-0ubuntu3 [12.6 kB]\n",
            "Get:11 http://archive.ubuntu.com/ubuntu jammy/main amd64 x11-utils amd64 7.7+5build2 [206 kB]\n",
            "Get:12 http://archive.ubuntu.com/ubuntu jammy/main amd64 libatk-wrapper-java all 0.38.0-5build1 [53.1 kB]\n",
            "Get:13 http://archive.ubuntu.com/ubuntu jammy/main amd64 libatk-wrapper-java-jni amd64 0.38.0-5build1 [49.0 kB]\n",
            "Get:14 http://archive.ubuntu.com/ubuntu jammy/universe amd64 libcub-dev all 1.15.0-3 [217 kB]\n",
            "Get:15 http://archive.ubuntu.com/ubuntu jammy/multiverse amd64 libcublaslt11 amd64 11.7.4.6~11.5.1-1ubuntu1 [148 MB]\n",
            "Get:16 http://archive.ubuntu.com/ubuntu jammy/multiverse amd64 libcublas11 amd64 11.7.4.6~11.5.1-1ubuntu1 [78.2 MB]\n",
            "Get:17 http://archive.ubuntu.com/ubuntu jammy/multiverse amd64 libcudart11.0 amd64 11.5.117~11.5.1-1ubuntu1 [178 kB]\n",
            "Get:18 http://archive.ubuntu.com/ubuntu jammy/multiverse amd64 libcufft10 amd64 11.1.1+~10.6.0.107~11.5.1-1ubuntu1 [70.4 MB]\n",
            "Get:19 http://archive.ubuntu.com/ubuntu jammy/multiverse amd64 libcufftw10 amd64 11.1.1+~10.6.0.107~11.5.1-1ubuntu1 [211 kB]\n",
            "Get:20 http://archive.ubuntu.com/ubuntu jammy-updates/restricted amd64 libnvidia-compute-510 amd64 525.147.05-0ubuntu2.22.04.1 [7,310 B]\n",
            "Get:21 http://archive.ubuntu.com/ubuntu jammy-updates/restricted amd64 libnvidia-compute-495 amd64 510.108.03-0ubuntu0.22.04.1 [7,378 B]\n",
            "Get:22 http://archive.ubuntu.com/ubuntu jammy/multiverse amd64 libcuinj64-11.5 amd64 11.5.114~11.5.1-1ubuntu1 [1,004 kB]\n",
            "Get:23 http://archive.ubuntu.com/ubuntu jammy/multiverse amd64 libcurand10 amd64 11.1.1+~10.2.7.107~11.5.1-1ubuntu1 [41.8 MB]\n",
            "Get:24 http://archive.ubuntu.com/ubuntu jammy/multiverse amd64 libcusolver11 amd64 11.3.2.107~11.5.1-1ubuntu1 [31.3 MB]\n",
            "Get:25 http://archive.ubuntu.com/ubuntu jammy/multiverse amd64 libcusolvermg11 amd64 11.3.2.107~11.5.1-1ubuntu1 [17.8 MB]\n",
            "Get:26 http://archive.ubuntu.com/ubuntu jammy/multiverse amd64 libcusparse11 amd64 11.7.0.107~11.5.1-1ubuntu1 [96.2 MB]\n",
            "Get:27 http://archive.ubuntu.com/ubuntu jammy/main amd64 libdebuginfod1 amd64 0.186-1build1 [12.7 kB]\n",
            "Get:28 http://archive.ubuntu.com/ubuntu jammy/main amd64 libglx-dev amd64 1.4.0-1 [14.1 kB]\n",
            "Get:29 http://archive.ubuntu.com/ubuntu jammy/main amd64 libgl-dev amd64 1.4.0-1 [101 kB]\n",
            "Get:30 http://archive.ubuntu.com/ubuntu jammy/main amd64 libegl-dev amd64 1.4.0-1 [18.0 kB]\n",
            "Get:31 http://archive.ubuntu.com/ubuntu jammy-updates/main amd64 libgtk2.0-common all 2.24.33-2ubuntu2.1 [125 kB]\n",
            "Get:32 http://archive.ubuntu.com/ubuntu jammy-updates/main amd64 libgtk2.0-0 amd64 2.24.33-2ubuntu2.1 [2,038 kB]\n",
            "Get:33 http://archive.ubuntu.com/ubuntu jammy-updates/main amd64 libgail18 amd64 2.24.33-2ubuntu2.1 [15.9 kB]\n",
            "Get:34 http://archive.ubuntu.com/ubuntu jammy-updates/main amd64 libgail-common amd64 2.24.33-2ubuntu2.1 [132 kB]\n",
            "Get:35 http://archive.ubuntu.com/ubuntu jammy/main amd64 libgles1 amd64 1.4.0-1 [11.5 kB]\n",
            "Get:36 http://archive.ubuntu.com/ubuntu jammy/main amd64 libgles-dev amd64 1.4.0-1 [49.4 kB]\n",
            "Get:37 http://archive.ubuntu.com/ubuntu jammy-updates/main amd64 libgtk2.0-bin amd64 2.24.33-2ubuntu2.1 [7,936 B]\n",
            "Get:38 http://archive.ubuntu.com/ubuntu jammy/main amd64 libipt2 amd64 2.0.5-1 [46.4 kB]\n",
            "Get:39 http://archive.ubuntu.com/ubuntu jammy/multiverse amd64 libnppc11 amd64 11.5.1.107~11.5.1-1ubuntu1 [430 kB]\n",
            "Get:40 http://archive.ubuntu.com/ubuntu jammy/multiverse amd64 libnppial11 amd64 11.5.1.107~11.5.1-1ubuntu1 [5,234 kB]\n",
            "Get:41 http://archive.ubuntu.com/ubuntu jammy/multiverse amd64 libnppicc11 amd64 11.5.1.107~11.5.1-1ubuntu1 [2,373 kB]\n",
            "Get:42 http://archive.ubuntu.com/ubuntu jammy/multiverse amd64 libnppidei11 amd64 11.5.1.107~11.5.1-1ubuntu1 [2,587 kB]\n",
            "Get:43 http://archive.ubuntu.com/ubuntu jammy/multiverse amd64 libnppif11 amd64 11.5.1.107~11.5.1-1ubuntu1 [33.8 MB]\n",
            "Get:44 http://archive.ubuntu.com/ubuntu jammy/multiverse amd64 libnppig11 amd64 11.5.1.107~11.5.1-1ubuntu1 [14.5 MB]\n",
            "Get:45 http://archive.ubuntu.com/ubuntu jammy/multiverse amd64 libnppim11 amd64 11.5.1.107~11.5.1-1ubuntu1 [3,037 kB]\n",
            "Get:46 http://archive.ubuntu.com/ubuntu jammy/multiverse amd64 libnppist11 amd64 11.5.1.107~11.5.1-1ubuntu1 [13.7 MB]\n",
            "Get:47 http://archive.ubuntu.com/ubuntu jammy/multiverse amd64 libnppisu11 amd64 11.5.1.107~11.5.1-1ubuntu1 [177 kB]\n",
            "Get:48 http://archive.ubuntu.com/ubuntu jammy/multiverse amd64 libnppitc11 amd64 11.5.1.107~11.5.1-1ubuntu1 [1,292 kB]\n",
            "Get:49 http://archive.ubuntu.com/ubuntu jammy/multiverse amd64 libnpps11 amd64 11.5.1.107~11.5.1-1ubuntu1 [7,116 kB]\n",
            "Get:50 http://archive.ubuntu.com/ubuntu jammy/multiverse amd64 libnvblas11 amd64 11.7.4.6~11.5.1-1ubuntu1 [191 kB]\n",
            "Get:51 http://archive.ubuntu.com/ubuntu jammy/multiverse amd64 libnvidia-ml-dev amd64 11.5.50~11.5.1-1ubuntu1 [69.1 kB]\n",
            "Get:52 http://archive.ubuntu.com/ubuntu jammy/multiverse amd64 libnvjpeg11 amd64 11.5.4.107~11.5.1-1ubuntu1 [1,858 kB]\n",
            "Get:53 http://archive.ubuntu.com/ubuntu jammy/multiverse amd64 libnvrtc-builtins11.5 amd64 11.5.119~11.5.1-1ubuntu1 [116 kB]\n",
            "Get:54 http://archive.ubuntu.com/ubuntu jammy/multiverse amd64 libnvrtc11.2 amd64 11.5.119~11.5.1-1ubuntu1 [15.7 MB]\n",
            "Get:55 http://archive.ubuntu.com/ubuntu jammy/multiverse amd64 libnvvm4 amd64 11.5.119~11.5.1-1ubuntu1 [8,675 kB]\n",
            "Get:56 http://archive.ubuntu.com/ubuntu jammy/main amd64 libopengl-dev amd64 1.4.0-1 [3,400 B]\n",
            "Get:57 http://archive.ubuntu.com/ubuntu jammy-updates/main amd64 librsvg2-common amd64 2.52.5+dfsg-3ubuntu0.2 [17.7 kB]\n",
            "Get:58 http://archive.ubuntu.com/ubuntu jammy/main amd64 libsource-highlight-common all 3.1.9-4.1build2 [64.5 kB]\n",
            "Get:59 http://archive.ubuntu.com/ubuntu jammy/main amd64 libsource-highlight4v5 amd64 3.1.9-4.1build2 [207 kB]\n",
            "Get:60 http://archive.ubuntu.com/ubuntu jammy/main amd64 libvdpau-dev amd64 1.4-3build2 [38.7 kB]\n",
            "Get:61 http://archive.ubuntu.com/ubuntu jammy/universe amd64 node-html5shiv all 3.7.3+dfsg-4 [13.6 kB]\n",
            "Get:62 http://archive.ubuntu.com/ubuntu jammy/multiverse amd64 nvidia-cuda-toolkit-doc all 11.5.1-1ubuntu1 [6,263 kB]\n",
            "Get:63 http://archive.ubuntu.com/ubuntu jammy-updates/universe amd64 openjdk-8-jre-headless amd64 8u422-b05-1~22.04 [30.8 MB]\n",
            "Get:64 http://archive.ubuntu.com/ubuntu jammy-updates/universe amd64 openjdk-8-jre amd64 8u422-b05-1~22.04 [75.5 kB]\n",
            "Get:65 http://archive.ubuntu.com/ubuntu jammy/main amd64 libbabeltrace1 amd64 1.5.8-2build1 [160 kB]\n",
            "Get:66 http://archive.ubuntu.com/ubuntu jammy/multiverse amd64 libcupti-dev amd64 11.5.114~11.5.1-1ubuntu1 [7,915 kB]\n",
            "Get:67 http://archive.ubuntu.com/ubuntu jammy/multiverse amd64 libcupti-doc all 11.5.114~11.5.1-1ubuntu1 [2,373 kB]\n",
            "Get:68 http://archive.ubuntu.com/ubuntu jammy/main amd64 libglvnd-core-dev amd64 1.4.0-1 [12.7 kB]\n",
            "Get:69 http://archive.ubuntu.com/ubuntu jammy/main amd64 libglvnd-dev amd64 1.4.0-1 [3,162 B]\n",
            "Get:70 http://archive.ubuntu.com/ubuntu jammy-updates/main amd64 libgl1-mesa-dev amd64 23.2.1-1ubuntu3.1~22.04.2 [6,842 B]\n",
            "Get:71 http://archive.ubuntu.com/ubuntu jammy/multiverse amd64 libnvtoolsext1 amd64 11.5.114~11.5.1-1ubuntu1 [28.8 kB]\n",
            "Get:72 http://archive.ubuntu.com/ubuntu jammy/multiverse amd64 libthrust-dev all 1.15.0-1 [423 kB]\n",
            "Get:73 http://archive.ubuntu.com/ubuntu jammy/multiverse amd64 nvidia-cuda-dev amd64 11.5.1-1ubuntu1 [667 MB]\n",
            "Get:74 http://archive.ubuntu.com/ubuntu jammy/multiverse amd64 nvidia-cuda-gdb amd64 11.5.114~11.5.1-1ubuntu1 [3,404 kB]\n",
            "Get:75 http://archive.ubuntu.com/ubuntu jammy/multiverse amd64 nvidia-profiler amd64 11.5.114~11.5.1-1ubuntu1 [1,732 kB]\n",
            "Get:76 http://archive.ubuntu.com/ubuntu jammy/multiverse amd64 nvidia-cuda-toolkit amd64 11.5.1-1ubuntu1 [62.8 MB]\n",
            "Get:77 http://archive.ubuntu.com/ubuntu jammy/multiverse amd64 nvidia-visual-profiler amd64 11.5.114~11.5.1-1ubuntu1 [108 MB]\n",
            "Fetched 1,540 MB in 1min 8s (22.7 MB/s)\n",
            "debconf: unable to initialize frontend: Dialog\n",
            "debconf: (No usable dialog-like program is installed, so the dialog based frontend cannot be used. at /usr/share/perl5/Debconf/FrontEnd/Dialog.pm line 78, <> line 77.)\n",
            "debconf: falling back to frontend: Readline\n",
            "debconf: unable to initialize frontend: Readline\n",
            "debconf: (This frontend requires a controlling tty.)\n",
            "debconf: falling back to frontend: Teletype\n",
            "dpkg-preconfigure: unable to re-open stdin: \n",
            "Selecting previously unselected package libdebuginfod-common.\n",
            "(Reading database ... 123595 files and directories currently installed.)\n",
            "Preparing to unpack .../00-libdebuginfod-common_0.186-1build1_all.deb ...\n",
            "Unpacking libdebuginfod-common (0.186-1build1) ...\n",
            "Selecting previously unselected package fonts-dejavu-core.\n",
            "Preparing to unpack .../01-fonts-dejavu-core_2.37-2build1_all.deb ...\n",
            "Unpacking fonts-dejavu-core (2.37-2build1) ...\n",
            "Selecting previously unselected package fonts-dejavu-extra.\n",
            "Preparing to unpack .../02-fonts-dejavu-extra_2.37-2build1_all.deb ...\n",
            "Unpacking fonts-dejavu-extra (2.37-2build1) ...\n",
            "Selecting previously unselected package libcupti11.5:amd64.\n",
            "Preparing to unpack .../03-libcupti11.5_11.5.114~11.5.1-1ubuntu1_amd64.deb ...\n",
            "Unpacking libcupti11.5:amd64 (11.5.114~11.5.1-1ubuntu1) ...\n",
            "Selecting previously unselected package libaccinj64-11.5:amd64.\n",
            "Preparing to unpack .../04-libaccinj64-11.5_11.5.114~11.5.1-1ubuntu1_amd64.deb ...\n",
            "Unpacking libaccinj64-11.5:amd64 (11.5.114~11.5.1-1ubuntu1) ...\n",
            "Selecting previously unselected package libfontenc1:amd64.\n",
            "Preparing to unpack .../05-libfontenc1_1%3a1.1.4-1build3_amd64.deb ...\n",
            "Unpacking libfontenc1:amd64 (1:1.1.4-1build3) ...\n",
            "Selecting previously unselected package libxkbfile1:amd64.\n",
            "Preparing to unpack .../06-libxkbfile1_1%3a1.1.0-1build3_amd64.deb ...\n",
            "Unpacking libxkbfile1:amd64 (1:1.1.0-1build3) ...\n",
            "Selecting previously unselected package libxtst6:amd64.\n",
            "Preparing to unpack .../07-libxtst6_2%3a1.2.3-1build4_amd64.deb ...\n",
            "Unpacking libxtst6:amd64 (2:1.2.3-1build4) ...\n",
            "Selecting previously unselected package libxxf86dga1:amd64.\n",
            "Preparing to unpack .../08-libxxf86dga1_2%3a1.1.5-0ubuntu3_amd64.deb ...\n",
            "Unpacking libxxf86dga1:amd64 (2:1.1.5-0ubuntu3) ...\n",
            "Selecting previously unselected package x11-utils.\n",
            "Preparing to unpack .../09-x11-utils_7.7+5build2_amd64.deb ...\n",
            "Unpacking x11-utils (7.7+5build2) ...\n",
            "Selecting previously unselected package libatk-wrapper-java.\n",
            "Preparing to unpack .../10-libatk-wrapper-java_0.38.0-5build1_all.deb ...\n",
            "Unpacking libatk-wrapper-java (0.38.0-5build1) ...\n",
            "Selecting previously unselected package libatk-wrapper-java-jni:amd64.\n",
            "Preparing to unpack .../11-libatk-wrapper-java-jni_0.38.0-5build1_amd64.deb ...\n",
            "Unpacking libatk-wrapper-java-jni:amd64 (0.38.0-5build1) ...\n",
            "Selecting previously unselected package libcub-dev.\n",
            "Preparing to unpack .../12-libcub-dev_1.15.0-3_all.deb ...\n",
            "Unpacking libcub-dev (1.15.0-3) ...\n",
            "Selecting previously unselected package libcublaslt11:amd64.\n",
            "Preparing to unpack .../13-libcublaslt11_11.7.4.6~11.5.1-1ubuntu1_amd64.deb ...\n",
            "Unpacking libcublaslt11:amd64 (11.7.4.6~11.5.1-1ubuntu1) ...\n",
            "Selecting previously unselected package libcublas11:amd64.\n",
            "Preparing to unpack .../14-libcublas11_11.7.4.6~11.5.1-1ubuntu1_amd64.deb ...\n",
            "Unpacking libcublas11:amd64 (11.7.4.6~11.5.1-1ubuntu1) ...\n",
            "Selecting previously unselected package libcudart11.0:amd64.\n",
            "Preparing to unpack .../15-libcudart11.0_11.5.117~11.5.1-1ubuntu1_amd64.deb ...\n",
            "Unpacking libcudart11.0:amd64 (11.5.117~11.5.1-1ubuntu1) ...\n",
            "Selecting previously unselected package libcufft10:amd64.\n",
            "Preparing to unpack .../16-libcufft10_11.1.1+~10.6.0.107~11.5.1-1ubuntu1_amd64.deb ...\n",
            "Unpacking libcufft10:amd64 (11.1.1+~10.6.0.107~11.5.1-1ubuntu1) ...\n",
            "Selecting previously unselected package libcufftw10:amd64.\n",
            "Preparing to unpack .../17-libcufftw10_11.1.1+~10.6.0.107~11.5.1-1ubuntu1_amd64.deb ...\n",
            "Unpacking libcufftw10:amd64 (11.1.1+~10.6.0.107~11.5.1-1ubuntu1) ...\n",
            "Selecting previously unselected package libnvidia-compute-535:amd64.\n",
            "Preparing to unpack .../18-libnvidia-compute-535_535.183.06-0ubuntu1_amd64.deb ...\n",
            "Unpacking libnvidia-compute-535:amd64 (535.183.06-0ubuntu1) ...\n",
            "Selecting previously unselected package libnvidia-compute-510:amd64.\n",
            "Preparing to unpack .../19-libnvidia-compute-510_525.147.05-0ubuntu2.22.04.1_amd64.deb ...\n",
            "Unpacking libnvidia-compute-510:amd64 (525.147.05-0ubuntu2.22.04.1) ...\n",
            "Selecting previously unselected package libnvidia-compute-495:amd64.\n",
            "Preparing to unpack .../20-libnvidia-compute-495_510.108.03-0ubuntu0.22.04.1_amd64.deb ...\n",
            "Unpacking libnvidia-compute-495:amd64 (510.108.03-0ubuntu0.22.04.1) ...\n",
            "Selecting previously unselected package libcuinj64-11.5:amd64.\n",
            "Preparing to unpack .../21-libcuinj64-11.5_11.5.114~11.5.1-1ubuntu1_amd64.deb ...\n",
            "Unpacking libcuinj64-11.5:amd64 (11.5.114~11.5.1-1ubuntu1) ...\n",
            "Selecting previously unselected package libcurand10:amd64.\n",
            "Preparing to unpack .../22-libcurand10_11.1.1+~10.2.7.107~11.5.1-1ubuntu1_amd64.deb ...\n",
            "Unpacking libcurand10:amd64 (11.1.1+~10.2.7.107~11.5.1-1ubuntu1) ...\n",
            "Selecting previously unselected package libcusolver11:amd64.\n",
            "Preparing to unpack .../23-libcusolver11_11.3.2.107~11.5.1-1ubuntu1_amd64.deb ...\n",
            "Unpacking libcusolver11:amd64 (11.3.2.107~11.5.1-1ubuntu1) ...\n",
            "Selecting previously unselected package libcusolvermg11:amd64.\n",
            "Preparing to unpack .../24-libcusolvermg11_11.3.2.107~11.5.1-1ubuntu1_amd64.deb ...\n",
            "Unpacking libcusolvermg11:amd64 (11.3.2.107~11.5.1-1ubuntu1) ...\n",
            "Selecting previously unselected package libcusparse11:amd64.\n",
            "Preparing to unpack .../25-libcusparse11_11.7.0.107~11.5.1-1ubuntu1_amd64.deb ...\n",
            "Unpacking libcusparse11:amd64 (11.7.0.107~11.5.1-1ubuntu1) ...\n",
            "Selecting previously unselected package libdebuginfod1:amd64.\n",
            "Preparing to unpack .../26-libdebuginfod1_0.186-1build1_amd64.deb ...\n",
            "Unpacking libdebuginfod1:amd64 (0.186-1build1) ...\n",
            "Selecting previously unselected package libglx-dev:amd64.\n",
            "Preparing to unpack .../27-libglx-dev_1.4.0-1_amd64.deb ...\n",
            "Unpacking libglx-dev:amd64 (1.4.0-1) ...\n",
            "Selecting previously unselected package libgl-dev:amd64.\n",
            "Preparing to unpack .../28-libgl-dev_1.4.0-1_amd64.deb ...\n",
            "Unpacking libgl-dev:amd64 (1.4.0-1) ...\n",
            "Selecting previously unselected package libegl-dev:amd64.\n",
            "Preparing to unpack .../29-libegl-dev_1.4.0-1_amd64.deb ...\n",
            "Unpacking libegl-dev:amd64 (1.4.0-1) ...\n",
            "Selecting previously unselected package libgtk2.0-common.\n",
            "Preparing to unpack .../30-libgtk2.0-common_2.24.33-2ubuntu2.1_all.deb ...\n",
            "Unpacking libgtk2.0-common (2.24.33-2ubuntu2.1) ...\n",
            "Selecting previously unselected package libgtk2.0-0:amd64.\n",
            "Preparing to unpack .../31-libgtk2.0-0_2.24.33-2ubuntu2.1_amd64.deb ...\n",
            "Unpacking libgtk2.0-0:amd64 (2.24.33-2ubuntu2.1) ...\n",
            "Selecting previously unselected package libgail18:amd64.\n",
            "Preparing to unpack .../32-libgail18_2.24.33-2ubuntu2.1_amd64.deb ...\n",
            "Unpacking libgail18:amd64 (2.24.33-2ubuntu2.1) ...\n",
            "Selecting previously unselected package libgail-common:amd64.\n",
            "Preparing to unpack .../33-libgail-common_2.24.33-2ubuntu2.1_amd64.deb ...\n",
            "Unpacking libgail-common:amd64 (2.24.33-2ubuntu2.1) ...\n",
            "Selecting previously unselected package libgles1:amd64.\n",
            "Preparing to unpack .../34-libgles1_1.4.0-1_amd64.deb ...\n",
            "Unpacking libgles1:amd64 (1.4.0-1) ...\n",
            "Selecting previously unselected package libgles-dev:amd64.\n",
            "Preparing to unpack .../35-libgles-dev_1.4.0-1_amd64.deb ...\n",
            "Unpacking libgles-dev:amd64 (1.4.0-1) ...\n",
            "Selecting previously unselected package libgtk2.0-bin.\n",
            "Preparing to unpack .../36-libgtk2.0-bin_2.24.33-2ubuntu2.1_amd64.deb ...\n",
            "Unpacking libgtk2.0-bin (2.24.33-2ubuntu2.1) ...\n",
            "Selecting previously unselected package libipt2.\n",
            "Preparing to unpack .../37-libipt2_2.0.5-1_amd64.deb ...\n",
            "Unpacking libipt2 (2.0.5-1) ...\n",
            "Selecting previously unselected package libnppc11:amd64.\n",
            "Preparing to unpack .../38-libnppc11_11.5.1.107~11.5.1-1ubuntu1_amd64.deb ...\n",
            "Unpacking libnppc11:amd64 (11.5.1.107~11.5.1-1ubuntu1) ...\n",
            "Selecting previously unselected package libnppial11:amd64.\n",
            "Preparing to unpack .../39-libnppial11_11.5.1.107~11.5.1-1ubuntu1_amd64.deb ...\n",
            "Unpacking libnppial11:amd64 (11.5.1.107~11.5.1-1ubuntu1) ...\n",
            "Selecting previously unselected package libnppicc11:amd64.\n",
            "Preparing to unpack .../40-libnppicc11_11.5.1.107~11.5.1-1ubuntu1_amd64.deb ...\n",
            "Unpacking libnppicc11:amd64 (11.5.1.107~11.5.1-1ubuntu1) ...\n",
            "Selecting previously unselected package libnppidei11:amd64.\n",
            "Preparing to unpack .../41-libnppidei11_11.5.1.107~11.5.1-1ubuntu1_amd64.deb ...\n",
            "Unpacking libnppidei11:amd64 (11.5.1.107~11.5.1-1ubuntu1) ...\n",
            "Selecting previously unselected package libnppif11:amd64.\n",
            "Preparing to unpack .../42-libnppif11_11.5.1.107~11.5.1-1ubuntu1_amd64.deb ...\n",
            "Unpacking libnppif11:amd64 (11.5.1.107~11.5.1-1ubuntu1) ...\n",
            "Selecting previously unselected package libnppig11:amd64.\n",
            "Preparing to unpack .../43-libnppig11_11.5.1.107~11.5.1-1ubuntu1_amd64.deb ...\n",
            "Unpacking libnppig11:amd64 (11.5.1.107~11.5.1-1ubuntu1) ...\n",
            "Selecting previously unselected package libnppim11:amd64.\n",
            "Preparing to unpack .../44-libnppim11_11.5.1.107~11.5.1-1ubuntu1_amd64.deb ...\n",
            "Unpacking libnppim11:amd64 (11.5.1.107~11.5.1-1ubuntu1) ...\n",
            "Selecting previously unselected package libnppist11:amd64.\n",
            "Preparing to unpack .../45-libnppist11_11.5.1.107~11.5.1-1ubuntu1_amd64.deb ...\n",
            "Unpacking libnppist11:amd64 (11.5.1.107~11.5.1-1ubuntu1) ...\n",
            "Selecting previously unselected package libnppisu11:amd64.\n",
            "Preparing to unpack .../46-libnppisu11_11.5.1.107~11.5.1-1ubuntu1_amd64.deb ...\n",
            "Unpacking libnppisu11:amd64 (11.5.1.107~11.5.1-1ubuntu1) ...\n",
            "Selecting previously unselected package libnppitc11:amd64.\n",
            "Preparing to unpack .../47-libnppitc11_11.5.1.107~11.5.1-1ubuntu1_amd64.deb ...\n",
            "Unpacking libnppitc11:amd64 (11.5.1.107~11.5.1-1ubuntu1) ...\n",
            "Selecting previously unselected package libnpps11:amd64.\n",
            "Preparing to unpack .../48-libnpps11_11.5.1.107~11.5.1-1ubuntu1_amd64.deb ...\n",
            "Unpacking libnpps11:amd64 (11.5.1.107~11.5.1-1ubuntu1) ...\n",
            "Selecting previously unselected package libnvblas11:amd64.\n",
            "Preparing to unpack .../49-libnvblas11_11.7.4.6~11.5.1-1ubuntu1_amd64.deb ...\n",
            "Unpacking libnvblas11:amd64 (11.7.4.6~11.5.1-1ubuntu1) ...\n",
            "Selecting previously unselected package libnvidia-ml-dev:amd64.\n",
            "Preparing to unpack .../50-libnvidia-ml-dev_11.5.50~11.5.1-1ubuntu1_amd64.deb ...\n",
            "Unpacking libnvidia-ml-dev:amd64 (11.5.50~11.5.1-1ubuntu1) ...\n",
            "Selecting previously unselected package libnvjpeg11:amd64.\n",
            "Preparing to unpack .../51-libnvjpeg11_11.5.4.107~11.5.1-1ubuntu1_amd64.deb ...\n",
            "Unpacking libnvjpeg11:amd64 (11.5.4.107~11.5.1-1ubuntu1) ...\n",
            "Selecting previously unselected package libnvrtc-builtins11.5:amd64.\n",
            "Preparing to unpack .../52-libnvrtc-builtins11.5_11.5.119~11.5.1-1ubuntu1_amd64.deb ...\n",
            "Unpacking libnvrtc-builtins11.5:amd64 (11.5.119~11.5.1-1ubuntu1) ...\n",
            "Selecting previously unselected package libnvrtc11.2:amd64.\n",
            "Preparing to unpack .../53-libnvrtc11.2_11.5.119~11.5.1-1ubuntu1_amd64.deb ...\n",
            "Unpacking libnvrtc11.2:amd64 (11.5.119~11.5.1-1ubuntu1) ...\n",
            "Selecting previously unselected package libnvvm4:amd64.\n",
            "Preparing to unpack .../54-libnvvm4_11.5.119~11.5.1-1ubuntu1_amd64.deb ...\n",
            "Unpacking libnvvm4:amd64 (11.5.119~11.5.1-1ubuntu1) ...\n",
            "Selecting previously unselected package libopengl-dev:amd64.\n",
            "Preparing to unpack .../55-libopengl-dev_1.4.0-1_amd64.deb ...\n",
            "Unpacking libopengl-dev:amd64 (1.4.0-1) ...\n",
            "Selecting previously unselected package librsvg2-common:amd64.\n",
            "Preparing to unpack .../56-librsvg2-common_2.52.5+dfsg-3ubuntu0.2_amd64.deb ...\n",
            "Unpacking librsvg2-common:amd64 (2.52.5+dfsg-3ubuntu0.2) ...\n",
            "Selecting previously unselected package libsource-highlight-common.\n",
            "Preparing to unpack .../57-libsource-highlight-common_3.1.9-4.1build2_all.deb ...\n",
            "Unpacking libsource-highlight-common (3.1.9-4.1build2) ...\n",
            "Selecting previously unselected package libsource-highlight4v5.\n",
            "Preparing to unpack .../58-libsource-highlight4v5_3.1.9-4.1build2_amd64.deb ...\n",
            "Unpacking libsource-highlight4v5 (3.1.9-4.1build2) ...\n",
            "Selecting previously unselected package libvdpau-dev:amd64.\n",
            "Preparing to unpack .../59-libvdpau-dev_1.4-3build2_amd64.deb ...\n",
            "Unpacking libvdpau-dev:amd64 (1.4-3build2) ...\n",
            "Selecting previously unselected package node-html5shiv.\n",
            "Preparing to unpack .../60-node-html5shiv_3.7.3+dfsg-4_all.deb ...\n",
            "Unpacking node-html5shiv (3.7.3+dfsg-4) ...\n",
            "Selecting previously unselected package nvidia-cuda-toolkit-doc.\n",
            "Preparing to unpack .../61-nvidia-cuda-toolkit-doc_11.5.1-1ubuntu1_all.deb ...\n",
            "Unpacking nvidia-cuda-toolkit-doc (11.5.1-1ubuntu1) ...\n",
            "Selecting previously unselected package openjdk-8-jre-headless:amd64.\n",
            "Preparing to unpack .../62-openjdk-8-jre-headless_8u422-b05-1~22.04_amd64.deb ...\n",
            "Unpacking openjdk-8-jre-headless:amd64 (8u422-b05-1~22.04) ...\n",
            "Selecting previously unselected package openjdk-8-jre:amd64.\n",
            "Preparing to unpack .../63-openjdk-8-jre_8u422-b05-1~22.04_amd64.deb ...\n",
            "Unpacking openjdk-8-jre:amd64 (8u422-b05-1~22.04) ...\n",
            "Selecting previously unselected package libbabeltrace1:amd64.\n",
            "Preparing to unpack .../64-libbabeltrace1_1.5.8-2build1_amd64.deb ...\n",
            "Unpacking libbabeltrace1:amd64 (1.5.8-2build1) ...\n",
            "Selecting previously unselected package libcupti-dev:amd64.\n",
            "Preparing to unpack .../65-libcupti-dev_11.5.114~11.5.1-1ubuntu1_amd64.deb ...\n",
            "Unpacking libcupti-dev:amd64 (11.5.114~11.5.1-1ubuntu1) ...\n",
            "Selecting previously unselected package libcupti-doc.\n",
            "Preparing to unpack .../66-libcupti-doc_11.5.114~11.5.1-1ubuntu1_all.deb ...\n",
            "Unpacking libcupti-doc (11.5.114~11.5.1-1ubuntu1) ...\n",
            "Selecting previously unselected package libglvnd-core-dev:amd64.\n",
            "Preparing to unpack .../67-libglvnd-core-dev_1.4.0-1_amd64.deb ...\n",
            "Unpacking libglvnd-core-dev:amd64 (1.4.0-1) ...\n",
            "Selecting previously unselected package libglvnd-dev:amd64.\n",
            "Preparing to unpack .../68-libglvnd-dev_1.4.0-1_amd64.deb ...\n",
            "Unpacking libglvnd-dev:amd64 (1.4.0-1) ...\n",
            "Selecting previously unselected package libgl1-mesa-dev:amd64.\n",
            "Preparing to unpack .../69-libgl1-mesa-dev_23.2.1-1ubuntu3.1~22.04.2_amd64.deb ...\n",
            "Unpacking libgl1-mesa-dev:amd64 (23.2.1-1ubuntu3.1~22.04.2) ...\n",
            "Selecting previously unselected package libnvtoolsext1:amd64.\n",
            "Preparing to unpack .../70-libnvtoolsext1_11.5.114~11.5.1-1ubuntu1_amd64.deb ...\n",
            "Unpacking libnvtoolsext1:amd64 (11.5.114~11.5.1-1ubuntu1) ...\n",
            "Selecting previously unselected package libthrust-dev.\n",
            "Preparing to unpack .../71-libthrust-dev_1.15.0-1_all.deb ...\n",
            "Unpacking libthrust-dev (1.15.0-1) ...\n",
            "Selecting previously unselected package nvidia-cuda-dev:amd64.\n",
            "Preparing to unpack .../72-nvidia-cuda-dev_11.5.1-1ubuntu1_amd64.deb ...\n",
            "Unpacking nvidia-cuda-dev:amd64 (11.5.1-1ubuntu1) ...\n",
            "Selecting previously unselected package nvidia-cuda-gdb.\n",
            "Preparing to unpack .../73-nvidia-cuda-gdb_11.5.114~11.5.1-1ubuntu1_amd64.deb ...\n",
            "Unpacking nvidia-cuda-gdb (11.5.114~11.5.1-1ubuntu1) ...\n",
            "Selecting previously unselected package nvidia-profiler.\n",
            "Preparing to unpack .../74-nvidia-profiler_11.5.114~11.5.1-1ubuntu1_amd64.deb ...\n",
            "Unpacking nvidia-profiler (11.5.114~11.5.1-1ubuntu1) ...\n",
            "Selecting previously unselected package nvidia-cuda-toolkit.\n",
            "Preparing to unpack .../75-nvidia-cuda-toolkit_11.5.1-1ubuntu1_amd64.deb ...\n",
            "Unpacking nvidia-cuda-toolkit (11.5.1-1ubuntu1) ...\n",
            "Selecting previously unselected package nvidia-visual-profiler.\n",
            "Preparing to unpack .../76-nvidia-visual-profiler_11.5.114~11.5.1-1ubuntu1_amd64.deb ...\n",
            "Unpacking nvidia-visual-profiler (11.5.114~11.5.1-1ubuntu1) ...\n",
            "Setting up libcusparse11:amd64 (11.7.0.107~11.5.1-1ubuntu1) ...\n",
            "Setting up libglvnd-core-dev:amd64 (1.4.0-1) ...\n",
            "Setting up libdebuginfod-common (0.186-1build1) ...\n",
            "debconf: unable to initialize frontend: Dialog\n",
            "debconf: (No usable dialog-like program is installed, so the dialog based frontend cannot be used. at /usr/share/perl5/Debconf/FrontEnd/Dialog.pm line 78.)\n",
            "debconf: falling back to frontend: Readline\n",
            "\n",
            "Creating config file /etc/profile.d/debuginfod.sh with new version\n",
            "\n",
            "Creating config file /etc/profile.d/debuginfod.csh with new version\n",
            "Setting up libnppc11:amd64 (11.5.1.107~11.5.1-1ubuntu1) ...\n",
            "Setting up libxtst6:amd64 (2:1.2.3-1build4) ...\n",
            "Setting up libdebuginfod1:amd64 (0.186-1build1) ...\n",
            "Setting up node-html5shiv (3.7.3+dfsg-4) ...\n",
            "Setting up libxxf86dga1:amd64 (2:1.1.5-0ubuntu3) ...\n",
            "Setting up libcupti-doc (11.5.114~11.5.1-1ubuntu1) ...\n",
            "Setting up libsource-highlight-common (3.1.9-4.1build2) ...\n",
            "Setting up libcudart11.0:amd64 (11.5.117~11.5.1-1ubuntu1) ...\n",
            "Setting up libnppisu11:amd64 (11.5.1.107~11.5.1-1ubuntu1) ...\n",
            "Setting up libnppicc11:amd64 (11.5.1.107~11.5.1-1ubuntu1) ...\n",
            "Setting up libnvjpeg11:amd64 (11.5.4.107~11.5.1-1ubuntu1) ...\n",
            "Setting up libfontenc1:amd64 (1:1.1.4-1build3) ...\n",
            "Setting up libcublaslt11:amd64 (11.7.4.6~11.5.1-1ubuntu1) ...\n",
            "Setting up libgles1:amd64 (1.4.0-1) ...\n",
            "Setting up libcupti11.5:amd64 (11.5.114~11.5.1-1ubuntu1) ...\n",
            "Setting up openjdk-8-jre-headless:amd64 (8u422-b05-1~22.04) ...\n",
            "update-alternatives: using /usr/lib/jvm/java-8-openjdk-amd64/jre/bin/orbd to provide /usr/bin/orbd (orbd) in auto mode\n",
            "update-alternatives: using /usr/lib/jvm/java-8-openjdk-amd64/jre/bin/servertool to provide /usr/bin/servertool (servertool) in auto mode\n",
            "update-alternatives: using /usr/lib/jvm/java-8-openjdk-amd64/jre/bin/tnameserv to provide /usr/bin/tnameserv (tnameserv) in auto mode\n",
            "Setting up libipt2 (2.0.5-1) ...\n",
            "Setting up fonts-dejavu-core (2.37-2build1) ...\n",
            "Setting up librsvg2-common:amd64 (2.52.5+dfsg-3ubuntu0.2) ...\n",
            "Setting up libbabeltrace1:amd64 (1.5.8-2build1) ...\n",
            "Setting up libnpps11:amd64 (11.5.1.107~11.5.1-1ubuntu1) ...\n",
            "Setting up libnppim11:amd64 (11.5.1.107~11.5.1-1ubuntu1) ...\n",
            "Setting up libcufft10:amd64 (11.1.1+~10.6.0.107~11.5.1-1ubuntu1) ...\n",
            "Setting up fonts-dejavu-extra (2.37-2build1) ...\n",
            "Setting up libnppitc11:amd64 (11.5.1.107~11.5.1-1ubuntu1) ...\n",
            "Setting up libnppist11:amd64 (11.5.1.107~11.5.1-1ubuntu1) ...\n",
            "Setting up libglx-dev:amd64 (1.4.0-1) ...\n",
            "Setting up libgtk2.0-common (2.24.33-2ubuntu2.1) ...\n",
            "Setting up libnvidia-compute-535:amd64 (535.183.06-0ubuntu1) ...\n",
            "Setting up libnvvm4:amd64 (11.5.119~11.5.1-1ubuntu1) ...\n",
            "Setting up libvdpau-dev:amd64 (1.4-3build2) ...\n",
            "Setting up libxkbfile1:amd64 (1:1.1.0-1build3) ...\n",
            "Setting up libnvtoolsext1:amd64 (11.5.114~11.5.1-1ubuntu1) ...\n",
            "Setting up libcub-dev (1.15.0-3) ...\n",
            "Setting up libopengl-dev:amd64 (1.4.0-1) ...\n",
            "Setting up nvidia-cuda-toolkit-doc (11.5.1-1ubuntu1) ...\n",
            "Setting up libaccinj64-11.5:amd64 (11.5.114~11.5.1-1ubuntu1) ...\n",
            "Setting up libnppig11:amd64 (11.5.1.107~11.5.1-1ubuntu1) ...\n",
            "Setting up libgl-dev:amd64 (1.4.0-1) ...\n",
            "Setting up libcurand10:amd64 (11.1.1+~10.2.7.107~11.5.1-1ubuntu1) ...\n",
            "Setting up libsource-highlight4v5 (3.1.9-4.1build2) ...\n",
            "Setting up libnvrtc-builtins11.5:amd64 (11.5.119~11.5.1-1ubuntu1) ...\n",
            "Setting up libnppidei11:amd64 (11.5.1.107~11.5.1-1ubuntu1) ...\n",
            "Setting up libthrust-dev (1.15.0-1) ...\n",
            "Setting up libnppial11:amd64 (11.5.1.107~11.5.1-1ubuntu1) ...\n",
            "Setting up libnppif11:amd64 (11.5.1.107~11.5.1-1ubuntu1) ...\n",
            "Setting up libcufftw10:amd64 (11.1.1+~10.6.0.107~11.5.1-1ubuntu1) ...\n",
            "Setting up libcublas11:amd64 (11.7.4.6~11.5.1-1ubuntu1) ...\n",
            "Setting up nvidia-cuda-gdb (11.5.114~11.5.1-1ubuntu1) ...\n",
            "Setting up libegl-dev:amd64 (1.4.0-1) ...\n",
            "Setting up libgtk2.0-0:amd64 (2.24.33-2ubuntu2.1) ...\n",
            "Setting up libnvidia-compute-510:amd64 (525.147.05-0ubuntu2.22.04.1) ...\n",
            "Setting up libcupti-dev:amd64 (11.5.114~11.5.1-1ubuntu1) ...\n",
            "Setting up libnvidia-compute-495:amd64 (510.108.03-0ubuntu0.22.04.1) ...\n",
            "Setting up libnvblas11:amd64 (11.7.4.6~11.5.1-1ubuntu1) ...\n",
            "Setting up libcusolver11:amd64 (11.3.2.107~11.5.1-1ubuntu1) ...\n",
            "Setting up libnvrtc11.2:amd64 (11.5.119~11.5.1-1ubuntu1) ...\n",
            "Setting up libcusolvermg11:amd64 (11.3.2.107~11.5.1-1ubuntu1) ...\n",
            "Setting up libgail18:amd64 (2.24.33-2ubuntu2.1) ...\n",
            "Setting up libgtk2.0-bin (2.24.33-2ubuntu2.1) ...\n",
            "Setting up x11-utils (7.7+5build2) ...\n",
            "Setting up libatk-wrapper-java (0.38.0-5build1) ...\n",
            "Setting up libgles-dev:amd64 (1.4.0-1) ...\n",
            "Setting up libcuinj64-11.5:amd64 (11.5.114~11.5.1-1ubuntu1) ...\n",
            "Setting up libnvidia-ml-dev:amd64 (11.5.50~11.5.1-1ubuntu1) ...\n",
            "Setting up libgail-common:amd64 (2.24.33-2ubuntu2.1) ...\n",
            "Setting up nvidia-cuda-dev:amd64 (11.5.1-1ubuntu1) ...\n",
            "Setting up libglvnd-dev:amd64 (1.4.0-1) ...\n",
            "Setting up libatk-wrapper-java-jni:amd64 (0.38.0-5build1) ...\n",
            "Setting up nvidia-profiler (11.5.114~11.5.1-1ubuntu1) ...\n",
            "Setting up nvidia-cuda-toolkit (11.5.1-1ubuntu1) ...\n",
            "Setting up libgl1-mesa-dev:amd64 (23.2.1-1ubuntu3.1~22.04.2) ...\n",
            "Setting up openjdk-8-jre:amd64 (8u422-b05-1~22.04) ...\n",
            "update-alternatives: using /usr/lib/jvm/java-8-openjdk-amd64/jre/bin/policytool to provide /usr/bin/policytool (policytool) in auto mode\n",
            "Setting up nvidia-visual-profiler (11.5.114~11.5.1-1ubuntu1) ...\n",
            "Processing triggers for libgdk-pixbuf-2.0-0:amd64 (2.42.8+dfsg-1ubuntu0.3) ...\n",
            "Processing triggers for fontconfig (2.13.1-4.2ubuntu5) ...\n",
            "Processing triggers for hicolor-icon-theme (0.17-2) ...\n",
            "Processing triggers for libc-bin (2.35-0ubuntu3.4) ...\n",
            "/sbin/ldconfig.real: /usr/local/lib/libtbbbind.so.3 is not a symbolic link\n",
            "\n",
            "/sbin/ldconfig.real: /usr/local/lib/libtbb.so.12 is not a symbolic link\n",
            "\n",
            "/sbin/ldconfig.real: /usr/local/lib/libtbbmalloc_proxy.so.2 is not a symbolic link\n",
            "\n",
            "/sbin/ldconfig.real: /usr/local/lib/libur_adapter_level_zero.so.0 is not a symbolic link\n",
            "\n",
            "/sbin/ldconfig.real: /usr/local/lib/libur_adapter_opencl.so.0 is not a symbolic link\n",
            "\n",
            "/sbin/ldconfig.real: /usr/local/lib/libur_loader.so.0 is not a symbolic link\n",
            "\n",
            "/sbin/ldconfig.real: /usr/local/lib/libtbbbind_2_5.so.3 is not a symbolic link\n",
            "\n",
            "/sbin/ldconfig.real: /usr/local/lib/libtbbmalloc.so.2 is not a symbolic link\n",
            "\n",
            "/sbin/ldconfig.real: /usr/local/lib/libtbbbind_2_0.so.3 is not a symbolic link\n",
            "\n",
            "Processing triggers for man-db (2.10.2-1) ...\n"
          ]
        }
      ]
    },
    {
      "cell_type": "code",
      "source": [
        "# Theano를 GPU로 실행하려면 홈 디렉터리에 .theanorc라는 파일을 작성해야 한다.\n",
        "# .theanorc 파일에는 다음 내용을 추가해야 한다.\n",
        "# .theanorc 파일 내용\n",
        "\n",
        "# [global]\n",
        "floatX=float32 # float: 32bit\n",
        "device=gpu # gpu를 사용하라는 의미.\n",
        "# device=cpu: CPU를 사용하게 된다.\n",
        "\n",
        "#[nvcc]\n",
        "fastmath=True"
      ],
      "metadata": {
        "id": "oOi2JhUCbw4t"
      },
      "execution_count": null,
      "outputs": []
    },
    {
      "cell_type": "markdown",
      "source": [
        "**Theano를 이용한 기본적인 구현 방법**"
      ],
      "metadata": {
        "id": "n65nUruidmll"
      }
    },
    {
      "cell_type": "code",
      "source": [
        "!pip install Theano"
      ],
      "metadata": {
        "colab": {
          "base_uri": "https://localhost:8080/"
        },
        "id": "0YDuqRQ3f1s9",
        "outputId": "a24fce53-7b33-4fb9-a114-89115b9432a0"
      },
      "execution_count": 10,
      "outputs": [
        {
          "output_type": "stream",
          "name": "stdout",
          "text": [
            "Requirement already satisfied: Theano in /usr/local/lib/python3.10/dist-packages (1.0.5)\n",
            "Requirement already satisfied: numpy>=1.9.1 in /usr/local/lib/python3.10/dist-packages (from Theano) (1.26.4)\n",
            "Requirement already satisfied: scipy>=0.14 in /usr/local/lib/python3.10/dist-packages (from Theano) (1.13.1)\n",
            "Requirement already satisfied: six>=1.9.0 in /usr/local/lib/python3.10/dist-packages (from Theano) (1.16.0)\n"
          ]
        }
      ]
    },
    {
      "cell_type": "code",
      "source": [
        "# Theano는 변수(스칼라, 벡터, 행렬, 텐서)를 심볼이라고 부른다.\n",
        "import theano.tensor as T\n",
        "x=T.iscalar('x')\n",
        "x=T.scalar('x', dtype='int32')\n",
        "v=T.fvector('v')\n",
        "m=T.dmatrix('m')\n",
        "t=T.dtensor3('t')"
      ],
      "metadata": {
        "id": "REAzsWybbw7G"
      },
      "execution_count": null,
      "outputs": []
    },
    {
      "cell_type": "markdown",
      "source": [
        "**수식 정의하기**"
      ],
      "metadata": {
        "id": "o3IdpKu7g1Xe"
      }
    },
    {
      "cell_type": "code",
      "source": [
        "y=2*x\n",
        "z=x**2+y**2"
      ],
      "metadata": {
        "id": "2EwW5lSog893"
      },
      "execution_count": null,
      "outputs": []
    },
    {
      "cell_type": "markdown",
      "source": [
        "**함수 생성하기**"
      ],
      "metadata": {
        "id": "VfqiLHmjg8Ey"
      }
    },
    {
      "cell_type": "code",
      "source": [
        "from theano import function\n",
        "# Theano의 함수에 의해 수식이 컴파일 된다.\n",
        "\n",
        "f=function(inputs=[x], outputs=z)\n",
        "# inputs: 첫번째 인자는 파있너의 리스트형을 인자로 받고, outputs: 두 번째 인자인 출력 심볼로는 계산할 식을 넘겨준다.\n",
        "# function의 출력 심볼: z"
      ],
      "metadata": {
        "id": "Yjw1HtIVbw9o"
      },
      "execution_count": null,
      "outputs": []
    },
    {
      "cell_type": "markdown",
      "source": [
        "**함수 실행하기**"
      ],
      "metadata": {
        "id": "RQCWymohh7iN"
      }
    },
    {
      "cell_type": "code",
      "source": [
        "out=f(3)\n",
        "\n",
        "# 출력: array(45)\n",
        "\n",
        "# 입력하는 심볼이 꼭 스칼라여야 하는 것은 아니며 벡터를 입력할 수도 있다.\n",
        "# 이 경우엔 x=T.dvector('x')와 같이 x를 numpy의 배열로서 넘긴다."
      ],
      "metadata": {
        "id": "OcLqcecUh6wO"
      },
      "execution_count": null,
      "outputs": []
    },
    {
      "cell_type": "markdown",
      "source": [
        "**givens의 역할**"
      ],
      "metadata": {
        "id": "f-AgUrS6iK1V"
      }
    },
    {
      "cell_type": "code",
      "source": [
        "# givens: 식 안에 있는 심볼을 다른 심볼이나 값으로 치환하는 역할.\n",
        "c=T.dscalar()\n",
        "z=x**2+y**2\n",
        "ff=theano.function(inputs=[c], outputs=z, givens=[(x,c*10),(y,5)])\n",
        "ff(2)\n",
        "\n",
        "# 출력: array(425)"
      ],
      "metadata": {
        "id": "pohe2Wf7bw2T"
      },
      "execution_count": 13,
      "outputs": []
    },
    {
      "cell_type": "markdown",
      "source": [
        "**미분 정의하기**"
      ],
      "metadata": {
        "id": "ifOY-MsjoZf4"
      }
    },
    {
      "cell_type": "code",
      "source": [
        "gz=T.grad(cost=z, wrt=x)\n",
        "f=function(inputs=[x], outpus=gz)\n",
        "\n",
        "# z=x^2+y^2 -> dz/dx=2x"
      ],
      "metadata": {
        "id": "dXAzXQAjoUb1"
      },
      "execution_count": null,
      "outputs": []
    },
    {
      "cell_type": "markdown",
      "source": [
        "**함수 실행하기**"
      ],
      "metadata": {
        "id": "-FcEnxiipuPD"
      }
    },
    {
      "cell_type": "code",
      "source": [
        "a=3\n",
        "b=f(a)\n",
        "\n",
        "# 출력: array(6)\n",
        "\n",
        "# 공유 변수 : shared variable\n",
        "# 함수의 입출력은 파이썬의 numpy 배열로, 함수를 이용할 때 메모리에 복사된다.\n",
        "# 공유 변수를 사용하면 메모리에 이를 복사하지 않고도 Theano 코드에서 사용할 수 있다.\n",
        "# 학습 표본도 공유 변수로 해 두면 업데이트 때마다 학습 표본을 메모리에 로드하지 않아도 된다."
      ],
      "metadata": {
        "id": "CLWaazZroUeO"
      },
      "execution_count": null,
      "outputs": []
    },
    {
      "cell_type": "markdown",
      "source": [
        "**공유 변수 생성하기**"
      ],
      "metadata": {
        "id": "U_dkREw2t5Qu"
      }
    },
    {
      "cell_type": "code",
      "source": [
        "from theano import shared\n",
        "m=shared(np.zeros((3,3)), name='m')\n",
        "n=shared(np.array([1.5, 2.5, 3.5]), name='n')\n",
        "\n",
        "# 심볼 m,n은 각각 행렬과 배열이지만, 이들을 shared의 인자로 넘기면 그 내용을 theano의 수식에서만 읽을 수 있게 된다.\n",
        "# 만약 공유 변수의 내용을 확인하려면 get_value()함수를 이용한다."
      ],
      "metadata": {
        "id": "cgmTKpV1oUhD"
      },
      "execution_count": null,
      "outputs": []
    },
    {
      "cell_type": "markdown",
      "source": [
        "**공유 변수 내용 확인하기**"
      ],
      "metadata": {
        "id": "Kt5fy8YBuVuz"
      }
    },
    {
      "cell_type": "code",
      "source": [
        "m.get_value()\n",
        "n.get_value()"
      ],
      "metadata": {
        "id": "qJrn_a9toUjV"
      },
      "execution_count": null,
      "outputs": []
    },
    {
      "cell_type": "markdown",
      "source": [
        "**공유 변수 참조하기**"
      ],
      "metadata": {
        "id": "PIMH0l7Butsl"
      }
    },
    {
      "cell_type": "code",
      "source": [
        "x=n*3\n",
        "f=function(inputs=[], outputs=x)\n",
        "\n",
        "f() array([4.5, 7.5, 10.5])\n",
        "# 공유 변수의 내용을 변경할 때에는 function의 3번째 인자로 updates를 넘긴다.\n",
        "# 이 인자는 파이썬의 딕셔너리형이다. 이 인자로 생성된 함수가 실행될 때는 딕셔너리의 키가 되는 공유 변수가 치환된다."
      ],
      "metadata": {
        "id": "SQ6batdhoUlq"
      },
      "execution_count": null,
      "outputs": []
    },
    {
      "cell_type": "markdown",
      "source": [
        "**공유 변수의 내용 바꾸기**"
      ],
      "metadata": {
        "id": "-ClINi5mvOGI"
      }
    },
    {
      "cell_type": "code",
      "source": [
        "n=shared(np.array([1.5, 2.5, 3.5]), name='n')\n",
        "f=function(inputs=[], outputs=[], updates={n:n*2})\n",
        "n.get_value()\n",
        "# array([1.5, 2.5, 3.5])\n",
        "\n",
        "f()\n",
        "n.get_value()\n",
        "# 출력: array([3., 5., 7.]) => n:n*2에 의해서.\n",
        "\n",
        "f()\n",
        "n.get_value()\n",
        "# 출력: array([6., 10., 14.])\n"
      ],
      "metadata": {
        "id": "yuhGs9YyoUoS"
      },
      "execution_count": null,
      "outputs": []
    },
    {
      "cell_type": "markdown",
      "source": [
        "**Theano를 이용한 경사 하강법**"
      ],
      "metadata": {
        "id": "unvEDgLvvwxC"
      }
    },
    {
      "cell_type": "code",
      "source": [
        "x=T.dvector('x')\n",
        "t=theano.shared(0.)\n",
        "y=T.sum((x-t)**2) # 오차 함수 정의\n",
        "\n",
        "gt=T.grad(y,t) # 오차함수 미분\n",
        "d2=theano.function(inputs=[x], outputs=y, updates={t:t-0.05*gt})\n",
        "# function(updates={t:t-0.05*gt}) : t의 업데이트 식을 넘긴다."
      ],
      "metadata": {
        "id": "vsqvdwd1oUq3"
      },
      "execution_count": null,
      "outputs": []
    },
    {
      "cell_type": "code",
      "source": [
        "d2([1,2,3,4,5])\n",
        "# 출력: array(55.0)\n",
        "\n",
        "t.get_value()\n",
        "# 출력: 1.5\n",
        "\n",
        "d2([1,2,3,4,5])\n",
        "# 출력: array(21.25)\n",
        "\n",
        "t.get_value()\n",
        "# 출력: 2.25\n",
        "\n",
        "d2([1,2,3,4,5])\n",
        "# 출력: array(12.8125)\n",
        "\n",
        "t.get_value()\n",
        "# 출력: 2.625"
      ],
      "metadata": {
        "id": "0LRvT3PeoUtJ"
      },
      "execution_count": null,
      "outputs": []
    },
    {
      "cell_type": "code",
      "source": [],
      "metadata": {
        "id": "ww-cs35joUvY"
      },
      "execution_count": null,
      "outputs": []
    },
    {
      "cell_type": "code",
      "source": [
        "\n"
      ],
      "metadata": {
        "id": "gR1Aq4EVbxAB"
      },
      "execution_count": null,
      "outputs": []
    }
  ]
}
