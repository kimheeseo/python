{
  "nbformat": 4,
  "nbformat_minor": 0,
  "metadata": {
    "colab": {
      "provenance": [],
      "authorship_tag": "ABX9TyOVmuH3FkNXEfhaLLg1Gqut",
      "include_colab_link": true
    },
    "kernelspec": {
      "name": "python3",
      "display_name": "Python 3"
    },
    "language_info": {
      "name": "python"
    }
  },
  "cells": [
    {
      "cell_type": "markdown",
      "metadata": {
        "id": "view-in-github",
        "colab_type": "text"
      },
      "source": [
        "<a href=\"https://colab.research.google.com/github/kimheeseo/python/blob/main/cha02.ipynb\" target=\"_parent\"><img src=\"https://colab.research.google.com/assets/colab-badge.svg\" alt=\"Open In Colab\"/></a>"
      ]
    },
    {
      "cell_type": "markdown",
      "source": [
        "**확률 모델과 최대 우도 추정**"
      ],
      "metadata": {
        "id": "hwul0cL6F1dQ"
      }
    },
    {
      "cell_type": "code",
      "execution_count": null,
      "metadata": {
        "id": "TWzw4f2BFTm2"
      },
      "outputs": [],
      "source": [
        "# 확률 모델과 최대 우도 추정: 딥러닝 모델 중에서도 가장 많이 사용되는 중요한 프레임워크."
      ]
    },
    {
      "cell_type": "markdown",
      "source": [
        "**파이토치로 선형 회귀 모델 만들기: 직접 만들기(y=1+2x+3x)**"
      ],
      "metadata": {
        "id": "eF9AHg7dU-cR"
      }
    },
    {
      "cell_type": "code",
      "source": [
        "import torch\n",
        "\n",
        "w_true=torch.Tensor([1,2,3])\n",
        "\n",
        "# X 데이터 준비\n",
        "X=torch.cat([torch.ones(100,1), torch.randn(100,2)],1)\n",
        "print('X값:',X)\n",
        "print('X.size()값:',X.size())"
      ],
      "metadata": {
        "colab": {
          "base_uri": "https://localhost:8080/"
        },
        "id": "Vld4-zmPFyVh",
        "outputId": "3612d804-e61f-42de-d99b-8e2ce4d8512b"
      },
      "execution_count": 17,
      "outputs": [
        {
          "output_type": "stream",
          "name": "stdout",
          "text": [
            "X값: tensor([[ 1.0000, -0.3729,  0.6442],\n",
            "        [ 1.0000,  1.0660, -1.1765],\n",
            "        [ 1.0000,  0.4833,  0.6984],\n",
            "        [ 1.0000, -0.9624, -0.5116],\n",
            "        [ 1.0000,  2.7408, -0.9850],\n",
            "        [ 1.0000,  0.5641, -1.4708],\n",
            "        [ 1.0000, -0.2434,  1.7010],\n",
            "        [ 1.0000,  0.4437,  0.2047],\n",
            "        [ 1.0000,  1.5666, -1.2767],\n",
            "        [ 1.0000,  0.0118,  0.5919],\n",
            "        [ 1.0000, -0.2681, -1.0610],\n",
            "        [ 1.0000,  1.2352, -2.1998],\n",
            "        [ 1.0000,  1.3816, -0.4128],\n",
            "        [ 1.0000, -0.2747,  0.0228],\n",
            "        [ 1.0000,  1.3532, -0.3172],\n",
            "        [ 1.0000,  0.1052, -1.3513],\n",
            "        [ 1.0000, -0.3726,  0.3361],\n",
            "        [ 1.0000, -1.0808,  0.1030],\n",
            "        [ 1.0000,  0.3541, -0.1870],\n",
            "        [ 1.0000,  0.3976,  1.0330],\n",
            "        [ 1.0000, -0.4969, -0.4826],\n",
            "        [ 1.0000,  0.5331,  1.0143],\n",
            "        [ 1.0000,  0.4065,  1.6785],\n",
            "        [ 1.0000, -0.7747, -0.4796],\n",
            "        [ 1.0000, -1.1751,  0.1268],\n",
            "        [ 1.0000, -1.3024, -0.6065],\n",
            "        [ 1.0000, -0.8598,  0.6337],\n",
            "        [ 1.0000,  0.3360, -1.2463],\n",
            "        [ 1.0000,  0.9904,  0.3269],\n",
            "        [ 1.0000, -1.6889, -0.2679],\n",
            "        [ 1.0000, -0.6609,  0.7464],\n",
            "        [ 1.0000, -1.8792, -1.5531],\n",
            "        [ 1.0000,  0.1849,  0.6803],\n",
            "        [ 1.0000,  1.1725, -2.1216],\n",
            "        [ 1.0000,  0.4470,  0.9301],\n",
            "        [ 1.0000,  0.7268,  1.0465],\n",
            "        [ 1.0000,  0.1606,  1.4661],\n",
            "        [ 1.0000, -1.4952, -0.3077],\n",
            "        [ 1.0000,  1.0689, -0.1687],\n",
            "        [ 1.0000,  1.1811,  1.1090],\n",
            "        [ 1.0000, -1.7343, -0.1455],\n",
            "        [ 1.0000, -1.6118,  0.3122],\n",
            "        [ 1.0000,  0.2935, -0.7976],\n",
            "        [ 1.0000,  0.7537,  0.0311],\n",
            "        [ 1.0000, -0.5924, -0.5801],\n",
            "        [ 1.0000,  0.8697,  0.6326],\n",
            "        [ 1.0000,  0.8093, -0.3531],\n",
            "        [ 1.0000,  0.3758,  1.0367],\n",
            "        [ 1.0000, -0.9025, -0.8123],\n",
            "        [ 1.0000,  1.8830, -0.5287],\n",
            "        [ 1.0000, -0.6050, -1.5063],\n",
            "        [ 1.0000,  2.3349,  1.5423],\n",
            "        [ 1.0000, -0.9413, -0.5122],\n",
            "        [ 1.0000, -1.7544, -1.6235],\n",
            "        [ 1.0000,  0.7997,  0.5048],\n",
            "        [ 1.0000,  0.0273, -0.5815],\n",
            "        [ 1.0000,  0.4233, -1.0347],\n",
            "        [ 1.0000, -0.6756, -0.9558],\n",
            "        [ 1.0000,  0.9091,  0.0346],\n",
            "        [ 1.0000,  0.4380, -2.0134],\n",
            "        [ 1.0000,  0.1035, -1.8297],\n",
            "        [ 1.0000, -1.0137,  0.9103],\n",
            "        [ 1.0000, -0.7003,  1.2696],\n",
            "        [ 1.0000,  0.3076,  0.4197],\n",
            "        [ 1.0000, -0.3577, -0.8966],\n",
            "        [ 1.0000,  1.3621,  0.1108],\n",
            "        [ 1.0000, -2.1020,  1.0543],\n",
            "        [ 1.0000, -1.1608, -1.9979],\n",
            "        [ 1.0000,  0.3669,  0.5794],\n",
            "        [ 1.0000,  0.1040,  0.3397],\n",
            "        [ 1.0000,  0.1844, -0.8208],\n",
            "        [ 1.0000,  0.2837,  2.1670],\n",
            "        [ 1.0000, -0.6756,  0.6532],\n",
            "        [ 1.0000,  0.5869,  0.2976],\n",
            "        [ 1.0000,  1.0385,  0.8969],\n",
            "        [ 1.0000, -0.4017, -1.1586],\n",
            "        [ 1.0000, -1.3660, -0.9100],\n",
            "        [ 1.0000, -0.2455,  2.3896],\n",
            "        [ 1.0000,  0.9712,  0.0975],\n",
            "        [ 1.0000, -0.4002, -0.7098],\n",
            "        [ 1.0000, -1.2207, -0.3106],\n",
            "        [ 1.0000, -0.2042, -0.4606],\n",
            "        [ 1.0000,  0.8002, -2.2333],\n",
            "        [ 1.0000, -0.5764, -1.0149],\n",
            "        [ 1.0000,  0.4414,  0.1126],\n",
            "        [ 1.0000,  1.9943,  1.6893],\n",
            "        [ 1.0000, -0.4769, -0.4118],\n",
            "        [ 1.0000, -0.0764,  1.0280],\n",
            "        [ 1.0000,  0.5263,  0.2144],\n",
            "        [ 1.0000, -0.8443,  1.8894],\n",
            "        [ 1.0000, -1.4781, -0.3564],\n",
            "        [ 1.0000, -1.3058,  1.1338],\n",
            "        [ 1.0000, -0.5388,  1.4172],\n",
            "        [ 1.0000, -0.2640, -1.4997],\n",
            "        [ 1.0000, -0.5692,  1.4765],\n",
            "        [ 1.0000,  0.4833, -1.0220],\n",
            "        [ 1.0000,  2.5489,  0.5904],\n",
            "        [ 1.0000, -0.0274,  0.1895],\n",
            "        [ 1.0000, -1.4781, -0.3126],\n",
            "        [ 1.0000, -1.3783, -0.2404]])\n",
            "X.size()값: torch.Size([100, 3])\n"
          ]
        }
      ]
    },
    {
      "cell_type": "code",
      "source": [
        "# 참의 계수와 각 X의 내적을 행렬과 벡터의 곱으로 모아서 계산\n",
        "y=torch.mv(X, w_true)+torch.randn(100)*0.5\n",
        "\n",
        "# 기울기 하강으로 최적화하기 위해 파라미터 Tensor를 난수로 초기화해서 생성\n",
        "w=torch.randn(3, requires_grad=True)\n",
        "\n",
        "# 학습률\n",
        "gamma=0.1"
      ],
      "metadata": {
        "id": "F8YcR5w1FyYG"
      },
      "execution_count": 30,
      "outputs": []
    },
    {
      "cell_type": "code",
      "source": [
        "# 손실함수의 로그\n",
        "losses=[]\n",
        "\n",
        "# 100회 반복\n",
        "for epoc in range(100):\n",
        "  # 전회의 backward 메서드로 계산된 경사값을 초기화\n",
        "  w.grad=None\n",
        "\n",
        "  # 선형 모델로 y예측값을 계산\n",
        "  y_pred=torch.mv(X,w)\n",
        "\n",
        "  # MSE loss와 w에 의한 미분을 계산\n",
        "  loss=torch.mean((y-y_pred)**2)\n",
        "  loss.backward()\n",
        "\n",
        "  # 경사를 갱신한다.\n",
        "  w.data=w.data-gamma*w.grad.data\n",
        "\n",
        "  # 수렴 확인을 위한 loss를 기록해둔다.\n",
        "  losses.append(loss.item())"
      ],
      "metadata": {
        "id": "bHTRIKxCFyam"
      },
      "execution_count": 31,
      "outputs": []
    },
    {
      "cell_type": "code",
      "source": [
        "from matplotlib import pyplot as plt\n",
        "plt.plot(losses)"
      ],
      "metadata": {
        "colab": {
          "base_uri": "https://localhost:8080/",
          "height": 448
        },
        "id": "HyM2x79pFydK",
        "outputId": "015bd2e8-b596-473c-d8f4-bb2f5a603fa7"
      },
      "execution_count": 32,
      "outputs": [
        {
          "output_type": "execute_result",
          "data": {
            "text/plain": [
              "[<matplotlib.lines.Line2D at 0x7bde095d11b0>]"
            ]
          },
          "metadata": {},
          "execution_count": 32
        },
        {
          "output_type": "display_data",
          "data": {
            "text/plain": [
              "<Figure size 640x480 with 1 Axes>"
            ],
            "image/png": "[encoded data removed]"
          },
          "metadata": {}
        }
      ]
    },
    {
      "cell_type": "code",
      "source": [
        "w"
      ],
      "metadata": {
        "colab": {
          "base_uri": "https://localhost:8080/"
        },
        "id": "kG8uRET6Fyfi",
        "outputId": "40c4052c-255a-4806-d810-2e09f90e0c5c"
      },
      "execution_count": 33,
      "outputs": [
        {
          "output_type": "execute_result",
          "data": {
            "text/plain": [
              "tensor([0.9318, 1.9710, 3.0339], requires_grad=True)"
            ]
          },
          "metadata": {},
          "execution_count": 33
        }
      ]
    },
    {
      "cell_type": "code",
      "source": [
        "# y=torch.mv(X, w_true)+torch.randn(100)*0.5 -> y=torch.mv(X, w_true)\n",
        "\n",
        "import torch\n",
        "\n",
        "w_true=torch.Tensor([1,2,3])\n",
        "\n",
        "# X 데이터 준비\n",
        "X=torch.cat([torch.ones(100,1), torch.randn(100,2)],1)\n",
        "\n",
        "# 참의 계수와 각 X의 내적을 행렬과 벡터의 곱으로 모아서 계산\n",
        "y=torch.mv(X, w_true)\n",
        "\n",
        "# 기울기 하강으로 최적화하기 위해 파라미터 Tensor를 난수로 초기화해서 생성\n",
        "w=torch.randn(3, requires_grad=True)\n",
        "\n",
        "# 학습률\n",
        "gamma=0.1\n",
        "\n",
        "# 손실함수의 로그\n",
        "losses=[]\n",
        "\n",
        "# 100회 반복\n",
        "for epoc in range(100):\n",
        "  # 전회의 backward 메서드로 계산된 경사값을 초기화\n",
        "  w.grad=None\n",
        "\n",
        "  # 선형 모델로 y예측값을 계산\n",
        "  y_pred=torch.mv(X,w)\n",
        "\n",
        "  # MSE loss와 w에 의한 미분을 계산\n",
        "  loss=torch.mean((y-y_pred)**2)\n",
        "  loss.backward()\n",
        "\n",
        "  # 경사를 갱신한다.\n",
        "  w.data=w.data-gamma*w.grad.data\n",
        "\n",
        "  # 수렴 확인을 위한 loss를 기록해둔다.\n",
        "  losses.append(loss.item())\n",
        "\n",
        "from matplotlib import pyplot as plt\n",
        "plt.plot(losses)"
      ],
      "metadata": {
        "colab": {
          "base_uri": "https://localhost:8080/",
          "height": 448
        },
        "id": "CGCKEubBFykX",
        "outputId": "cb9131bb-3b68-4c05-d929-a79dcbfd2f96"
      },
      "execution_count": 16,
      "outputs": [
        {
          "output_type": "execute_result",
          "data": {
            "text/plain": [
              "[<matplotlib.lines.Line2D at 0x7bde0d3a3760>]"
            ]
          },
          "metadata": {},
          "execution_count": 16
        },
        {
          "output_type": "display_data",
          "data": {
            "text/plain": [
              "<Figure size 640x480 with 1 Axes>"
            ],
            "image/png": "[encoded data removed]"
          },
          "metadata": {}
        }
      ]
    },
    {
      "cell_type": "markdown",
      "source": [
        "**파이토치로 선형 회귀 모델 만들기**"
      ],
      "metadata": {
        "id": "y-1MKXumpG11"
      }
    },
    {
      "cell_type": "code",
      "source": [
        "from torch import nn, optim\n",
        "\n",
        "X=torch.cat([torch.ones(100,1), torch.randn(100,2)],1)\n",
        "y=torch.mv(X, w_true)+torch.randn(100)*0.5\n",
        "w=torch.randn(3, requires_grad=True)\n",
        "\n",
        "# Linear층 작성.\n",
        "net=nn.Linear(in_features=3, out_features=1, bias=False)\n",
        "\n",
        "# SGC의 최적화기상에서 정의한 네트워크의 파라미터를 전달해서 초기화\n",
        "optimizer=optim.SGD(net.parameters(), lr=0.1)\n",
        "\n",
        "# MSE loss 클래스\n",
        "loss_fn=nn.MSELoss()"
      ],
      "metadata": {
        "id": "2ZzlZ0fcpG9M"
      },
      "execution_count": 41,
      "outputs": []
    },
    {
      "cell_type": "code",
      "source": [
        "import torch\n",
        "\n",
        "# X 데이터 준비\n",
        "\n",
        "losses=[] # 손실 함수 로그\n",
        "\n",
        "for epoc in range(100):\n",
        "  optimizer.zero_grad() # 전회의 backward 메서드로 계산된 경사값을 초기화\n",
        "\n",
        "  y_pred=net(X) # 선형 모델으로 y 예측값을 계산\n",
        "\n",
        "  loss=loss_fn(y_pred.view_as(y),y) # MSE Loss 계산\n",
        "\n",
        "  loss.backward() # loss의 w를 사용한 미분 계산\n",
        "\n",
        "  optimizer.step() # 경사를 갱신한다.\n",
        "\n",
        "  losses.append(loss.item())"
      ],
      "metadata": {
        "id": "ZnCh6e_hpG_j"
      },
      "execution_count": 42,
      "outputs": []
    },
    {
      "cell_type": "markdown",
      "source": [
        "![스크린샷 2024-08-12 132052.png](data:image/png;base64,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)"
      ],
      "metadata": {
        "id": "YrX4N9bC0VIA"
      }
    },
    {
      "cell_type": "code",
      "source": [
        "# 수렴한 모델의 파라미터 확인\n",
        "list(net.parameters())"
      ],
      "metadata": {
        "colab": {
          "base_uri": "https://localhost:8080/"
        },
        "id": "iYoW_WX4pHCA",
        "outputId": "77422e9f-de19-4816-b852-75cddf4c1057"
      },
      "execution_count": 43,
      "outputs": [
        {
          "output_type": "execute_result",
          "data": {
            "text/plain": [
              "[Parameter containing:\n",
              " tensor([[1.0514, 1.9927, 2.9835]], requires_grad=True)]"
            ]
          },
          "metadata": {},
          "execution_count": 43
        }
      ]
    },
    {
      "cell_type": "code",
      "source": [
        "from matplotlib import pyplot as plt\n",
        "plt.plot(losses)"
      ],
      "metadata": {
        "colab": {
          "base_uri": "https://localhost:8080/",
          "height": 448
        },
        "id": "WxMKZU-TpHEj",
        "outputId": "e2ad4971-bdfd-40f4-c4a0-90034ba001ba"
      },
      "execution_count": 44,
      "outputs": [
        {
          "output_type": "execute_result",
          "data": {
            "text/plain": [
              "[<matplotlib.lines.Line2D at 0x7bde09612260>]"
            ]
          },
          "metadata": {},
          "execution_count": 44
        },
        {
          "output_type": "display_data",
          "data": {
            "text/plain": [
              "<Figure size 640x480 with 1 Axes>"
            ],
            "image/png": "[encoded data removed]"
          },
          "metadata": {}
        }
      ]
    },
    {
      "cell_type": "markdown",
      "source": [
        "**로지스틱 회귀**"
      ],
      "metadata": {
        "id": "i3eeI6uq2KFs"
      }
    },
    {
      "cell_type": "code",
      "source": [
        "# 로지스틱 회귀에서는 y는 [0,1]의 이산값으로 분류 대상이 두 개인 문제가 된다.\n",
        "# 분류 처리 예로 자주 사용되는 iris 데이터를 이용해서 로지스틱 회귀를 실행해보도록 하겠다.\n",
        "\n",
        "import torch\n",
        "from torch import nn, optim\n",
        "from sklearn.datasets import load_iris\n",
        "iris=load_iris()\n",
        "\n",
        "x=iris.data[:100]\n",
        "y=iris.target[:100]\n",
        "\n",
        "# Numpy의 ndarray를 Pytorch의 Tensor로 변환\n",
        "x=torch.tensor(x, dtype=torch.float32)\n",
        "y=torch.tensor(y, dtype=torch.float32)"
      ],
      "metadata": {
        "id": "hQifEgZvpHGw"
      },
      "execution_count": 45,
      "outputs": []
    },
    {
      "cell_type": "code",
      "source": [
        "x[1:10]"
      ],
      "metadata": {
        "colab": {
          "base_uri": "https://localhost:8080/"
        },
        "id": "ob_IvqJRFym4",
        "outputId": "3b04a7fe-38cf-4da3-ddc1-170231ecf112"
      },
      "execution_count": 47,
      "outputs": [
        {
          "output_type": "execute_result",
          "data": {
            "text/plain": [
              "tensor([[4.9000, 3.0000, 1.4000, 0.2000],\n",
              "        [4.7000, 3.2000, 1.3000, 0.2000],\n",
              "        [4.6000, 3.1000, 1.5000, 0.2000],\n",
              "        [5.0000, 3.6000, 1.4000, 0.2000],\n",
              "        [5.4000, 3.9000, 1.7000, 0.4000],\n",
              "        [4.6000, 3.4000, 1.4000, 0.3000],\n",
              "        [5.0000, 3.4000, 1.5000, 0.2000],\n",
              "        [4.4000, 2.9000, 1.4000, 0.2000],\n",
              "        [4.9000, 3.1000, 1.5000, 0.1000]])"
            ]
          },
          "metadata": {},
          "execution_count": 47
        }
      ]
    },
    {
      "cell_type": "code",
      "source": [
        "y[1:10]"
      ],
      "metadata": {
        "colab": {
          "base_uri": "https://localhost:8080/"
        },
        "id": "aOdaatyrFypR",
        "outputId": "21b238dd-afed-439f-b98a-cb372916024c"
      },
      "execution_count": 48,
      "outputs": [
        {
          "output_type": "execute_result",
          "data": {
            "text/plain": [
              "tensor([0., 0., 0., 0., 0., 0., 0., 0., 0.])"
            ]
          },
          "metadata": {},
          "execution_count": 48
        }
      ]
    },
    {
      "cell_type": "code",
      "source": [
        "# 모델 작성\n",
        "net=nn.Linear(4,1) # iris 데이터는 4차원: x[1:10]을 통해 알 수 있다.\n",
        "\n",
        "# 시그모이드 함수를 적용해서 두 클래스의 분류를 위한 크로스 엔트로피 계산\n",
        "loss_fn=nn.BCEWithLogitsLoss()\n",
        "\n",
        "# SGD\n",
        "optimizer=optim.SGD(net.parameters(), lr=0.25)"
      ],
      "metadata": {
        "id": "MlsIZVsb5c6U"
      },
      "execution_count": 50,
      "outputs": []
    },
    {
      "cell_type": "code",
      "source": [
        "# 파라미터 최적화를 위한 반복 루프\n",
        "# 손실 함수 로그\n",
        "losses=[]\n",
        "\n",
        "for epoc in range(100):\n",
        "  optimizer.zero_grad()\n",
        "\n",
        "  y_pred=net(x) # 선형 모델으로 y예측값을 계산\n",
        "\n",
        "  loss=loss_fn(y_pred.view_as(y),y) # MSE loss를 사용한 미분 계산\n",
        "  loss.backward()\n",
        "\n",
        "  optimizer.step() # 경사를 갱신한다.\n",
        "\n",
        "  losses.append(loss.item())"
      ],
      "metadata": {
        "id": "LnFEslrl5c8q"
      },
      "execution_count": 51,
      "outputs": []
    },
    {
      "cell_type": "code",
      "source": [
        "from matplotlib import pyplot as plt\n",
        "plt.plot(losses)"
      ],
      "metadata": {
        "colab": {
          "base_uri": "https://localhost:8080/",
          "height": 448
        },
        "id": "JT0U3-TY5c_O",
        "outputId": "a39a39f4-28b4-470a-c2ba-aba8a9b65188"
      },
      "execution_count": 52,
      "outputs": [
        {
          "output_type": "execute_result",
          "data": {
            "text/plain": [
              "[<matplotlib.lines.Line2D at 0x7bde009a2200>]"
            ]
          },
          "metadata": {},
          "execution_count": 52
        },
        {
          "output_type": "display_data",
          "data": {
            "text/plain": [
              "<Figure size 640x480 with 1 Axes>"
            ],
            "image/png": "[encoded data removed]"
          },
          "metadata": {}
        }
      ]
    },
    {
      "cell_type": "code",
      "source": [
        "# 모델 작성\n",
        "h=net(x)\n",
        "\n",
        "prob=nn.functional.sigmoid(h)\n",
        "\n",
        "y_pred=prob>0.5 # 확률이 0.5 이상인 것을 클래스 1로 예측하고 그 외는 0으로 한다.\n",
        "\n",
        "(y.byte() == y_pred.view_as(y)).sum().item() # 예측 결과 확인"
      ],
      "metadata": {
        "colab": {
          "base_uri": "https://localhost:8080/"
        },
        "id": "cg6E0Q7J5dBe",
        "outputId": "ffb32aee-845d-4bb6-97ba-5d3af4e6697b"
      },
      "execution_count": 53,
      "outputs": [
        {
          "output_type": "execute_result",
          "data": {
            "text/plain": [
              "100"
            ]
          },
          "metadata": {},
          "execution_count": 53
        }
      ]
    },
    {
      "cell_type": "code",
      "source": [
        "y"
      ],
      "metadata": {
        "colab": {
          "base_uri": "https://localhost:8080/"
        },
        "id": "ypK1LS4e5dEO",
        "outputId": "48fafd23-2c4c-43de-fa05-c79c2b20eb16"
      },
      "execution_count": 55,
      "outputs": [
        {
          "output_type": "execute_result",
          "data": {
            "text/plain": [
              "tensor([0., 0., 0., 0., 0., 0., 0., 0., 0., 0., 0., 0., 0., 0., 0., 0., 0., 0.,\n",
              "        0., 0., 0., 0., 0., 0., 0., 0., 0., 0., 0., 0., 0., 0., 0., 0., 0., 0.,\n",
              "        0., 0., 0., 0., 0., 0., 0., 0., 0., 0., 0., 0., 0., 0., 1., 1., 1., 1.,\n",
              "        1., 1., 1., 1., 1., 1., 1., 1., 1., 1., 1., 1., 1., 1., 1., 1., 1., 1.,\n",
              "        1., 1., 1., 1., 1., 1., 1., 1., 1., 1., 1., 1., 1., 1., 1., 1., 1., 1.,\n",
              "        1., 1., 1., 1., 1., 1., 1., 1., 1., 1.])"
            ]
          },
          "metadata": {},
          "execution_count": 55
        }
      ]
    },
    {
      "cell_type": "code",
      "source": [
        "y.byte()"
      ],
      "metadata": {
        "colab": {
          "base_uri": "https://localhost:8080/"
        },
        "id": "j-hqQYsp5dI_",
        "outputId": "5426d6e3-a6dd-416c-99c6-da065e7f4e7e"
      },
      "execution_count": 56,
      "outputs": [
        {
          "output_type": "execute_result",
          "data": {
            "text/plain": [
              "tensor([0, 0, 0, 0, 0, 0, 0, 0, 0, 0, 0, 0, 0, 0, 0, 0, 0, 0, 0, 0, 0, 0, 0, 0,\n",
              "        0, 0, 0, 0, 0, 0, 0, 0, 0, 0, 0, 0, 0, 0, 0, 0, 0, 0, 0, 0, 0, 0, 0, 0,\n",
              "        0, 0, 1, 1, 1, 1, 1, 1, 1, 1, 1, 1, 1, 1, 1, 1, 1, 1, 1, 1, 1, 1, 1, 1,\n",
              "        1, 1, 1, 1, 1, 1, 1, 1, 1, 1, 1, 1, 1, 1, 1, 1, 1, 1, 1, 1, 1, 1, 1, 1,\n",
              "        1, 1, 1, 1], dtype=torch.uint8)"
            ]
          },
          "metadata": {},
          "execution_count": 56
        }
      ]
    },
    {
      "cell_type": "markdown",
      "source": [
        "**다중 분류를 위한 로지스틱 회귀 분석**"
      ],
      "metadata": {
        "id": "wtW6uOOg89jc"
      }
    },
    {
      "cell_type": "code",
      "source": [
        "# 선형 결합 계층의 출력을 1차원이 아닌 분류의 차원으로 만들고, 손실 함수를 소프트맥스 크로스 엔트로피라는 함수로 변경하기만 하면 된다.\n",
        "import torch\n",
        "from torch import nn, optim\n",
        "from sklearn.datasets import load_digits\n",
        "digits=load_digits()\n",
        "\n",
        "x=digits.data\n",
        "y=digits.target\n",
        "\n",
        "x=torch.tensor(x, dtype=torch.float32)\n",
        "y=torch.tensor(y, dtype=torch.int64)\n",
        "\n",
        "# 출력은 10차원\n",
        "net=nn.Linear(x.size()[1], 10)\n",
        "\n",
        "# 소프트맥스 크로스 엔트로피\n",
        "loss_fn=nn.CrossEntropyLoss()\n",
        "\n",
        "# SGD\n",
        "optimizer=optim.SGD(net.parameters(), lr=0.01)"
      ],
      "metadata": {
        "id": "gN59NXBC5dGg"
      },
      "execution_count": 64,
      "outputs": []
    },
    {
      "cell_type": "code",
      "source": [
        "print('x.size()[0]:',x.size()[0],'x.size()[1]값:',x.size()[1])"
      ],
      "metadata": {
        "colab": {
          "base_uri": "https://localhost:8080/"
        },
        "id": "IM5QeI5R5dLc",
        "outputId": "7692513d-6d69-4fcf-cc90-04b6c82469f3"
      },
      "execution_count": 65,
      "outputs": [
        {
          "output_type": "stream",
          "name": "stdout",
          "text": [
            "x.size()[0]: 1797 x.size()[1]값: 64\n"
          ]
        }
      ]
    },
    {
      "cell_type": "code",
      "source": [
        "x.size()"
      ],
      "metadata": {
        "colab": {
          "base_uri": "https://localhost:8080/"
        },
        "id": "DTBwtM0q5dOP",
        "outputId": "13e2ff83-f127-4f97-81aa-2250a307f4b5"
      },
      "execution_count": 70,
      "outputs": [
        {
          "output_type": "execute_result",
          "data": {
            "text/plain": [
              "torch.Size([1797, 64])"
            ]
          },
          "metadata": {},
          "execution_count": 70
        }
      ]
    },
    {
      "cell_type": "code",
      "source": [
        "# 학습용 반복 처리\n",
        "losses=[] # 손실 함수 로그\n",
        "\n",
        "for epoc in range(100):\n",
        "  optimizer.zero_grad()\n",
        "\n",
        "  y_pred=net(x)\n",
        "\n",
        "  # MSE loss 미분 계산\n",
        "  loss=loss_fn(y_pred, y)\n",
        "  loss.backward()\n",
        "\n",
        "  # 경사를 갱신한다.\n",
        "  optimizer.step()\n",
        "\n",
        "  # 수렴 확인을 위한 loss를 기록해둔다.\n",
        "  losses.append(loss.item())"
      ],
      "metadata": {
        "id": "j2nhaej6A1Vg"
      },
      "execution_count": 67,
      "outputs": []
    },
    {
      "cell_type": "code",
      "source": [
        "# 정답\n",
        "_, y_pred=torch.max(net(x),1)\n",
        "\n",
        "(y_pred==y).sum().item()/len(y)"
      ],
      "metadata": {
        "colab": {
          "base_uri": "https://localhost:8080/"
        },
        "id": "LTFlgAivBKXv",
        "outputId": "a8535ced-38db-456b-d060-61ade32aff66"
      },
      "execution_count": 69,
      "outputs": [
        {
          "output_type": "execute_result",
          "data": {
            "text/plain": [
              "0.9510294936004452"
            ]
          },
          "metadata": {},
          "execution_count": 69
        }
      ]
    },
    {
      "cell_type": "code",
      "source": [
        "(y_pred==y).sum()"
      ],
      "metadata": {
        "colab": {
          "base_uri": "https://localhost:8080/"
        },
        "id": "l2yPsnPmBKaW",
        "outputId": "7cd92943-6047-488d-c04e-940fd29fe3ec"
      },
      "execution_count": 71,
      "outputs": [
        {
          "output_type": "execute_result",
          "data": {
            "text/plain": [
              "tensor(1709)"
            ]
          },
          "metadata": {},
          "execution_count": 71
        }
      ]
    },
    {
      "cell_type": "code",
      "source": [
        "(y_pred==y).sum().item() # Tensor변수에서 값만 가져오기: item()"
      ],
      "metadata": {
        "colab": {
          "base_uri": "https://localhost:8080/"
        },
        "id": "pmwR9foPBKc0",
        "outputId": "feada4f9-1d89-442f-d5ef-6ed32675224d"
      },
      "execution_count": 72,
      "outputs": [
        {
          "output_type": "execute_result",
          "data": {
            "text/plain": [
              "1709"
            ]
          },
          "metadata": {},
          "execution_count": 72
        }
      ]
    }
  ]
}
