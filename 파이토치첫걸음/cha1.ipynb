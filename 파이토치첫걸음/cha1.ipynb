{
  "nbformat": 4,
  "nbformat_minor": 0,
  "metadata": {
    "colab": {
      "provenance": [],
      "authorship_tag": "ABX9TyNCTnlM8+HMPmlfpObhRzi4",
      "include_colab_link": true
    },
    "kernelspec": {
      "name": "python3",
      "display_name": "Python 3"
    },
    "language_info": {
      "name": "python"
    }
  },
  "cells": [
    {
      "cell_type": "markdown",
      "metadata": {
        "id": "view-in-github",
        "colab_type": "text"
      },
      "source": [
        "<a href=\"https://colab.research.google.com/github/kimheeseo/python/blob/main/cha1.ipynb\" target=\"_parent\"><img src=\"https://colab.research.google.com/assets/colab-badge.svg\" alt=\"Open In Colab\"/></a>"
      ]
    },
    {
      "cell_type": "markdown",
      "source": [
        "**Chapter 1. 파이토치의 기본**"
      ],
      "metadata": {
        "id": "FmKBufBWAhl4"
      }
    },
    {
      "cell_type": "code",
      "execution_count": 6,
      "metadata": {
        "id": "eokJJxug-bTS"
      },
      "outputs": [],
      "source": [
        "# 파이토치의 전반적인 구성\n",
        "# torch: 메인 네임스페이스로 텐서 등의 다양한 수학 함수가 이 패키지에 포함돼 있다.\n",
        "# torch.autograd: 자동 미분을 위한 함수가 포함돼 있다.\n",
        "# torch.nn: 신경망을 구축하기 위한 다양한 데이터 구조나 레이어 등이 정의돼 있다.\n",
        "# torch.optim: 확률적 경사 하강법(SGD)을 중심으로 한 파라미터 최적화 알고리즘이 구현돼 있다.\n",
        "# torch.utils.data: SGD의 반복 연산을 실행할 때 사용하는 미니 배치용 유틸리티 함수 포함.\n",
        "# torch.onnx: Open Neural Network Exchange 포맷으로 모델을 export할 때 사용.\n",
        "# - ONNX: 서로 다른 딥러닝 프레임워크 간에 모델을 공유할 때 사용하는 새로운 포맷."
      ]
    },
    {
      "cell_type": "code",
      "source": [
        "# torch: 다차원 배열을 처리하기 위한 데이터 구조.\n",
        "# 32비트의 유동 소수점은 torch.FloatTensor, 64비트의 부호 있는 정수라면 torch.LongTensor\n",
        "# 어떤 형의 텐서이건 torch.tensor라는 함수로 작성할 수 있다."
      ],
      "metadata": {
        "id": "DnzWrhFmAhJp"
      },
      "execution_count": 7,
      "outputs": []
    },
    {
      "cell_type": "markdown",
      "source": [
        "**텐서 생성**"
      ],
      "metadata": {
        "id": "WWQO6ATBCirS"
      }
    },
    {
      "cell_type": "code",
      "source": [
        "import numpy as np\n",
        "import torch\n",
        "\n",
        "# 중첩 list를 작성\n",
        "t1=torch.tensor([[1,2],[3,4]])\n",
        "\n",
        "# dtype를 사용해 데이터 형을 지정하여 텐서를 만들 수 있다.\n",
        "t2=torch.tensor([[1,2,],[3,4]],dtype=torch.float64)\n",
        "\n",
        "# 0부터 9까지 사용해 데이터 형을 지정하여 텐서를 만들 수 있다.\n",
        "t3=torch.arange(0,10)\n",
        "\n",
        "# 정규 난수로 100x10의 텐서를 작성\n",
        "t4=torch.randn(100,10)\n",
        "\n",
        "# 텐서의 shape은 size 메서드로 확인 가능\n",
        "t4.size()"
      ],
      "metadata": {
        "colab": {
          "base_uri": "https://localhost:8080/"
        },
        "id": "qSQtRrtNAhMA",
        "outputId": "65b47508-19b4-42dd-e07c-771ccca0018c"
      },
      "execution_count": 8,
      "outputs": [
        {
          "output_type": "execute_result",
          "data": {
            "text/plain": [
              "torch.Size([100, 10])"
            ]
          },
          "metadata": {},
          "execution_count": 8
        }
      ]
    },
    {
      "cell_type": "code",
      "source": [
        "print('t1값:',t1)\n",
        "print('t2값:',t2)\n",
        "print('t3값:',t3)"
      ],
      "metadata": {
        "colab": {
          "base_uri": "https://localhost:8080/"
        },
        "id": "01iCQOypAhOo",
        "outputId": "35de7c1f-aa1e-4ed3-bc19-73fb720ea824"
      },
      "execution_count": 9,
      "outputs": [
        {
          "output_type": "stream",
          "name": "stdout",
          "text": [
            "t1값: tensor([[1, 2],\n",
            "        [3, 4]])\n",
            "t2값: tensor([[1., 2.],\n",
            "        [3., 4.]], dtype=torch.float64)\n",
            "t3값: tensor([0, 1, 2, 3, 4, 5, 6, 7, 8, 9])\n"
          ]
        }
      ]
    },
    {
      "cell_type": "markdown",
      "source": [
        "**텐서 변환**"
      ],
      "metadata": {
        "id": "il6hpAVRDsnr"
      }
    },
    {
      "cell_type": "code",
      "source": [
        "t=torch.tensor([[1,2],[3,4]])\n",
        "x=t.numpy() # numpy 메서드를 사용해 ndarray로 변환.\n",
        "\n",
        "# GPU 상의 텐서는 to 메서드로, CPU의 텐서로 이동할 필요가 있다.\n",
        "# t=torch.tensor([[1,2,],[3,4]],device=\"cuda:0\")\n",
        "x=t.to(\"cpu\").numpy()\n",
        "# GPU 상의 텐서는 그대로 변환할 수 없으며, CPU로 이동 후에 변환해야 한다.\n",
        "\n",
        "device = torch.device(\"cuda:0\" if torch.cuda.is_available() else \"cpu\")\n",
        "print(device)"
      ],
      "metadata": {
        "colab": {
          "base_uri": "https://localhost:8080/"
        },
        "id": "cfmhWbCSAhRI",
        "outputId": "cfa55590-3976-4d03-9600-51e5e4e89a3a"
      },
      "execution_count": 10,
      "outputs": [
        {
          "output_type": "stream",
          "name": "stdout",
          "text": [
            "cpu\n"
          ]
        }
      ]
    },
    {
      "cell_type": "code",
      "source": [
        "device = torch.device(\"cuda:0\" if torch.cuda.is_available() else \"cpu\")\n",
        "\n",
        "print(device)"
      ],
      "metadata": {
        "colab": {
          "base_uri": "https://localhost:8080/"
        },
        "id": "9X9dWRW2AhTg",
        "outputId": "c55aff77-1e8b-492c-bc01-7df54374e68a"
      },
      "execution_count": 11,
      "outputs": [
        {
          "output_type": "stream",
          "name": "stdout",
          "text": [
            "cpu\n"
          ]
        }
      ]
    },
    {
      "cell_type": "markdown",
      "source": [
        "**텐서의 인덱스 조작**"
      ],
      "metadata": {
        "id": "LAI1ooMsEicr"
      }
    },
    {
      "cell_type": "code",
      "source": [
        "# 배열 A[i,j]=i,j를 첨자 인덱스라고 하며,\n",
        "# 이 값을 지정해서 배열의 값을 가져오거나 변경하는 것을 '인덱스 조작'이라고 한다.\n",
        "t=torch.tensor([[1,2,3,],[4,5,6]])\n",
        "\n",
        "# 스칼라 첨자 지정\n",
        "print('t[0,2]값:',t[0,2])\n",
        "\n",
        "# 리스트로 지정\n",
        "print('t[:,[1,2]]값:',t[:,[1,2]])\n",
        "\n",
        "# 슬라이스로 지정\n",
        "print('t[:,:2]값:',t[:,:2])\n",
        "\n",
        "# 마스크 배열을 사용해서 3보다 큰 부분만 선택\n",
        "print('t[t>3값:]',t[t>3])\n",
        "\n",
        "# [0,1]의 요소를 100으로 설정\n",
        "t[0,1]=100\n",
        "print('t값:',t)\n",
        "\n",
        "# 마스크 배열\n",
        "# 원 배열과 크기는 같으면서 각 요소가 True/False로 설정돼 있는 배열.\n",
        "# ex) a=[1,2,3]라는 배열에서 a>2를 실행하면, [False, Flase, True]라는 마스크 배열 생성."
      ],
      "metadata": {
        "colab": {
          "base_uri": "https://localhost:8080/"
        },
        "id": "bwtqRdndAhVx",
        "outputId": "b7f63156-5ccf-4de5-e2f0-70d649c0a87c"
      },
      "execution_count": 12,
      "outputs": [
        {
          "output_type": "stream",
          "name": "stdout",
          "text": [
            "t[0,2]값: tensor(3)\n",
            "t[:,[1,2]]값: tensor([[2, 3],\n",
            "        [5, 6]])\n",
            "t[:,:2]값: tensor([[1, 2],\n",
            "        [4, 5]])\n",
            "t[t>3값:] tensor([4, 5, 6])\n",
            "t값: tensor([[  1, 100,   3],\n",
            "        [  4,   5,   6]])\n"
          ]
        }
      ]
    },
    {
      "cell_type": "markdown",
      "source": [
        "**텐서 연산**"
      ],
      "metadata": {
        "id": "x6T6PtjDGXDk"
      }
    },
    {
      "cell_type": "code",
      "source": [
        "# 사칙 연산은 텐서 간이나 텐서와 파이썬의 스칼라 값 간에만 가능하다.\n",
        "# 텐서와 ndarray간 연산은 지원하지 않으니 주의하자.\n",
        "\n",
        "# 사칙 연산은 브로드캐스트가 적용돼서 두 개의 서로 다른 차원의 벡터와 스칼라 또는 행렬과 벡터 간의 연산 시\n",
        "# 결과값의 차원은 두 차원 중 큰 차원을 따르는 차원 보간이 이루어진다.\n",
        "\n",
        "v=torch.tensor([1,2,3])\n",
        "w=torch.tensor([0,10,20])\n",
        "\n",
        "# 2x3의 행렬\n",
        "m=torch.tensor([[0,1,2],[100,200,300]])\n",
        "\n",
        "# 행렬과 스칼라\n",
        "m2=m*2\n",
        "print('m2값:',m2)\n",
        "\n",
        "# 행렬과 벡터\n",
        "m3= m+v\n",
        "print('m3값:',m3)\n",
        "\n",
        "# 행렬 간 처리\n",
        "m4= m+m\n",
        "print('m4값:',m4)"
      ],
      "metadata": {
        "colab": {
          "base_uri": "https://localhost:8080/"
        },
        "id": "OEe6X5cFEkXy",
        "outputId": "59985a7e-aa68-42da-c6b9-3b759054bd1b"
      },
      "execution_count": 13,
      "outputs": [
        {
          "output_type": "stream",
          "name": "stdout",
          "text": [
            "m2값: tensor([[  0,   2,   4],\n",
            "        [200, 400, 600]])\n",
            "m3값: tensor([[  1,   3,   5],\n",
            "        [101, 202, 303]])\n",
            "m4값: tensor([[  0,   2,   4],\n",
            "        [200, 400, 600]])\n"
          ]
        }
      ]
    },
    {
      "cell_type": "markdown",
      "source": [
        "**수학 함수**"
      ],
      "metadata": {
        "id": "vUzP9WsCIE2c"
      }
    },
    {
      "cell_type": "code",
      "source": [
        "# 100x10의 테스트 데이터 생성\n",
        "x=torch.randn(100,10)\n",
        "\n",
        "# 수학 함수를 포함하는 식\n",
        "y=x*2+torch.abs(x)\n",
        "\n",
        "# 평균치 구하기\n",
        "m=torch.mean(x)\n",
        "print('m값:',m)\n",
        "\n",
        "# 함수가 아닌 메서드로 사용할 수 있다.\n",
        "m=x.mean()\n",
        "print('m값:',m)\n",
        "\n",
        "# 집계 결과는 0차원의 텐서로 item 메서드를 사용해서 값을 추출할 수 있다.\n",
        "m_value=m.item()\n",
        "print('m_value값:',m_value)\n",
        "\n",
        "# 집계는 차원을 지정할 수도 있다. 다음은 행 방향으로 집계해서, 열 단위로 평균 값을 계산한다.\n",
        "m2=x.mean(0)\n",
        "print('m2값:',m2)"
      ],
      "metadata": {
        "colab": {
          "base_uri": "https://localhost:8080/"
        },
        "id": "srR8LdXFIEKN",
        "outputId": "5bdbfe8c-fc83-445b-993b-7582d5995509"
      },
      "execution_count": 14,
      "outputs": [
        {
          "output_type": "stream",
          "name": "stdout",
          "text": [
            "m값: tensor(0.0078)\n",
            "m값: tensor(0.0078)\n",
            "m_value값: 0.007774970028549433\n",
            "m2값: tensor([-0.0885,  0.0976, -0.0817,  0.1083,  0.0361, -0.0144, -0.0415, -0.0363,\n",
            "         0.0472,  0.0510])\n"
          ]
        }
      ]
    },
    {
      "cell_type": "code",
      "source": [
        "# cat: 다른 길이의 복수의 텐서를 하나로 묶을 때 사용\n",
        "# transpose: 행렬의 전치 외에도 이미지 데이터의 형식을 HWC 순으로 CHW 순으로 변경할 때도 사용.\n",
        "# view: ndarry의 reshape 함수와 동일."
      ],
      "metadata": {
        "id": "UlcJJxIzEkaa"
      },
      "execution_count": 15,
      "outputs": []
    },
    {
      "cell_type": "markdown",
      "source": [
        "**텐서의 인덱스 조작**"
      ],
      "metadata": {
        "id": "EV3iBb1CJjVm"
      }
    },
    {
      "cell_type": "code",
      "source": [
        "x1=torch.tensor([[1,2,],[3,4]])\n",
        "print('x1.view(4,1):',x1.view(4,1)) # 2x2를 4x1로 보여준다.\n",
        "\n",
        "x2=torch.tensor([[10,20,30],[40,50,60]])\n",
        "print('x2.view(1,-1):',x2.view(1,-1)) # -1을 사용하면 자동으로 4가 된다.\n",
        "\n",
        "# 2x3을 전치해서 3x2로 만든다.\n",
        "print('x2.t():',x2.t())\n",
        "\n",
        "# dim=1로 결합하면, 2x5의 텐서를 만든다.\n",
        "torch.cat([x1, x2], dim=1)\n",
        "\n",
        "# HWC을 CHW로 변환\n",
        "hwc_img_data=torch.rand(100,64,32,3)\n",
        "chw_img_data=hwc_img_data.transpose(1,2).transpose(1,3)\n",
        "\n",
        "print('hwc_img_data.size():',hwc_img_data.size())\n",
        "print('chw_img_data.size():',chw_img_data.size())"
      ],
      "metadata": {
        "colab": {
          "base_uri": "https://localhost:8080/"
        },
        "id": "jJqcTkpcEkc6",
        "outputId": "190f0f2d-f1b5-4f6e-d737-d03c6930e279"
      },
      "execution_count": 16,
      "outputs": [
        {
          "output_type": "stream",
          "name": "stdout",
          "text": [
            "x1.view(4,1): tensor([[1],\n",
            "        [2],\n",
            "        [3],\n",
            "        [4]])\n",
            "x2.view(1,-1): tensor([[10, 20, 30, 40, 50, 60]])\n",
            "x2.t(): tensor([[10, 40],\n",
            "        [20, 50],\n",
            "        [30, 60]])\n",
            "hwc_img_data.size(): torch.Size([100, 64, 32, 3])\n",
            "chw_img_data.size(): torch.Size([100, 3, 64, 32])\n"
          ]
        }
      ]
    },
    {
      "cell_type": "code",
      "source": [
        "# 선형 대수의 연산자\n",
        "# dot: 벡터 내적\n",
        "# matmul: 인수의 종류에 따라 자동으로 dot, mv, mm을 선택해서 실행\n",
        "# svd: 특이값 분해\n",
        "# eig, symeig: 고유값 분해\n",
        "# mv: 행렬과 벡터의 곱\n",
        "# mm: 행렬과 행렬의 곱"
      ],
      "metadata": {
        "id": "DFmEyKNDEkfS"
      },
      "execution_count": 17,
      "outputs": []
    },
    {
      "cell_type": "code",
      "source": [
        "m=torch.randn(100,10)\n",
        "v=torch.randn(10)\n",
        "\n",
        "# 내적\n",
        "d=torch.dot(v,v)\n",
        "print('d값:',d)\n",
        "\n",
        "# 100x10의 행렬과 길이 10인 벡터의 곱\n",
        "m1=torch.tensor([[1,2,],[3,4]])\n",
        "m2=torch.tensor([[10,20]])\n",
        "\n",
        "print('m1.size()값:',m1.size())\n",
        "print('m2.size()값:',m2.size())\n",
        "\n",
        "v2=torch.mv(m,v)\n",
        "v3=torch.mm(m1.t(), m1)\n",
        "\n",
        "print('v2값:',v2)\n",
        "print('v2.size():',v2.size())\n",
        "print('v3값:',v3)"
      ],
      "metadata": {
        "colab": {
          "base_uri": "https://localhost:8080/"
        },
        "id": "Z4FZHjkqEkhp",
        "outputId": "dc63d3fa-bad5-4fb5-fe6a-1ac8e2c97a7e"
      },
      "execution_count": 18,
      "outputs": [
        {
          "output_type": "stream",
          "name": "stdout",
          "text": [
            "d값: tensor(12.4236)\n",
            "m1.size()값: torch.Size([2, 2])\n",
            "m2.size()값: torch.Size([1, 2])\n",
            "v2값: tensor([ 5.8179e-01, -1.6911e+00,  6.2648e+00, -6.1095e+00, -3.2899e+00,\n",
            "         3.6259e+00,  3.6211e+00, -8.1792e-01,  2.4657e+00,  1.5965e+00,\n",
            "        -6.1809e-01, -4.6763e+00,  1.3105e+00,  2.4366e+00, -4.1512e+00,\n",
            "         2.0315e+00, -3.5981e+00,  1.2513e+00,  1.1471e+00, -2.0539e+00,\n",
            "         6.4952e+00,  4.1630e+00,  2.4528e+00, -1.4910e+00,  5.2668e+00,\n",
            "        -2.2573e+00, -6.8787e+00,  4.0618e+00,  5.3500e-01,  3.2897e+00,\n",
            "        -4.0065e+00,  2.1908e+00, -6.6115e+00, -1.0994e+00,  2.4405e+00,\n",
            "         2.7266e+00,  6.0466e-01, -9.1214e-01,  1.8477e-01,  3.5648e+00,\n",
            "        -2.7593e+00, -5.0157e+00,  5.7970e+00, -7.9235e+00,  2.7075e-01,\n",
            "        -3.1519e-01, -9.9454e+00, -5.3122e+00, -3.6068e+00,  4.9369e+00,\n",
            "         3.5242e+00, -1.6345e+00,  5.6232e+00,  6.3599e+00, -4.2066e+00,\n",
            "         1.3742e-01, -2.4953e+00, -3.4879e+00,  2.4518e+00, -3.2594e+00,\n",
            "        -2.3940e+00, -1.4794e+00,  8.1887e-02, -8.7303e-03,  3.0506e+00,\n",
            "        -2.8197e+00,  6.9356e-01,  1.0846e+00, -2.5990e+00,  4.9147e+00,\n",
            "         1.2426e+00,  3.3010e+00,  3.0529e+00,  6.9299e+00,  1.8009e+00,\n",
            "         3.3239e+00,  2.3370e+00, -5.9995e+00, -4.0073e+00,  1.3290e+00,\n",
            "        -1.2144e+00, -2.5125e+00,  1.0721e+00, -1.3602e+00,  3.7385e-01,\n",
            "         1.2014e+00, -2.3806e+00, -3.1778e+00,  3.7141e+00,  5.7739e-01,\n",
            "        -2.5306e+00, -3.7124e+00, -4.4829e+00,  3.0057e-01, -3.8772e-02,\n",
            "        -2.8403e-01,  2.4279e+00,  1.8928e+00, -4.3231e+00,  6.7094e-01])\n",
            "v2.size(): torch.Size([100])\n",
            "v3값: tensor([[10, 14],\n",
            "        [14, 20]])\n"
          ]
        }
      ]
    },
    {
      "cell_type": "code",
      "source": [
        "# 내적\n",
        "x1=torch.tensor([[1,2],[3,4]])\n",
        "x2=torch.tensor([3,4])\n",
        "x3=torch.dot(x2,x2)\n",
        "print('x3값:',x3)"
      ],
      "metadata": {
        "colab": {
          "base_uri": "https://localhost:8080/"
        },
        "id": "5AAafpsiMX_n",
        "outputId": "f6ed8709-453a-4309-d903-a6657b1f44e6"
      },
      "execution_count": 24,
      "outputs": [
        {
          "output_type": "stream",
          "name": "stdout",
          "text": [
            "x3값: tensor(25)\n"
          ]
        }
      ]
    },
    {
      "cell_type": "code",
      "source": [
        "# 벡터의 곱\n",
        "v2=torch.mv(x1,x2)\n",
        "print('v2값:',v2)"
      ],
      "metadata": {
        "colab": {
          "base_uri": "https://localhost:8080/"
        },
        "id": "pkQFXjvO11Sw",
        "outputId": "e9c68538-7deb-463f-b43e-98d786e9e3bd"
      },
      "execution_count": 26,
      "outputs": [
        {
          "output_type": "stream",
          "name": "stdout",
          "text": [
            "v2값: tensor([11, 25])\n"
          ]
        }
      ]
    },
    {
      "cell_type": "code",
      "source": [
        "# 행렬곱\n",
        "x3=torch.mm(x1.t(),x1)\n",
        "print('x3값:',x3)"
      ],
      "metadata": {
        "colab": {
          "base_uri": "https://localhost:8080/"
        },
        "id": "aq0ouBMW11VD",
        "outputId": "a5158913-426b-459e-fdec-2012ba48f8ad"
      },
      "execution_count": 28,
      "outputs": [
        {
          "output_type": "stream",
          "name": "stdout",
          "text": [
            "x3값: tensor([[10, 14],\n",
            "        [14, 20]])\n"
          ]
        }
      ]
    },
    {
      "cell_type": "markdown",
      "source": [
        "**텐서와 자동 미분**"
      ],
      "metadata": {
        "id": "WM64g7yW4JDq"
      }
    },
    {
      "cell_type": "code",
      "source": [
        "import torch\n",
        "x=torch.randn(100,3)\n",
        "a=torch.tensor([1,2,3.],requires_grad=True) # 미분의 변수로 사용하는 경우\n",
        "\n",
        "y=torch.mv(x,a)\n",
        "o=y.sum()\n",
        "\n",
        "# 미분을 실행\n",
        "o.backward()\n",
        "\n",
        "# 분석 답과 비교\n",
        "a.grad !=x.sum(0)\n",
        "\n",
        "print('a.grad값:',a.grad)\n",
        "print('x.sum(0)값:',x.sum(0))"
      ],
      "metadata": {
        "colab": {
          "base_uri": "https://localhost:8080/"
        },
        "id": "OtOoesPp4JND",
        "outputId": "ad946dd8-7c7c-4ec4-f1a6-aebc0b6a7fbd"
      },
      "execution_count": 31,
      "outputs": [
        {
          "output_type": "stream",
          "name": "stdout",
          "text": [
            "a.grad값: tensor([ 0.9876,  1.8254, -8.3118])\n",
            "x.sum(0)값: tensor([ 0.9876,  1.8254, -8.3118])\n"
          ]
        }
      ]
    },
    {
      "cell_type": "code",
      "source": [
        "a.grad !=x.sum(0)"
      ],
      "metadata": {
        "colab": {
          "base_uri": "https://localhost:8080/"
        },
        "id": "nimB8r234JPv",
        "outputId": "28dc402d-2424-4f89-ad4a-c013f6c6c37c"
      },
      "execution_count": 32,
      "outputs": [
        {
          "output_type": "execute_result",
          "data": {
            "text/plain": [
              "tensor([True, True, True])"
            ]
          },
          "metadata": {},
          "execution_count": 32
        }
      ]
    },
    {
      "cell_type": "code",
      "source": [
        "import torch\n",
        "x=torch.randn([3,3])\n",
        "print('x값:',x)\n",
        "a=torch.tensor([1,2,3.],requires_grad=True) # 미분의 변수로 사용하는 경우\n",
        "\n",
        "y=torch.mv(x,a)\n",
        "print('y값:',y)\n",
        "o=y.sum()\n",
        "print('o값:',o)\n",
        "\n",
        "# 미분을 실행\n",
        "o.backward()\n",
        "\n",
        "# 분석 답과 비교\n",
        "a.grad !=x.sum(0)\n",
        "\n",
        "print('a.grad값:',a.grad)\n",
        "print('x.sum(0)값:',x.sum(0))"
      ],
      "metadata": {
        "colab": {
          "base_uri": "https://localhost:8080/"
        },
        "id": "q4nZfVka4JSU",
        "outputId": "0d45921b-2618-4cb1-87f8-7891c43ed14c"
      },
      "execution_count": 35,
      "outputs": [
        {
          "output_type": "stream",
          "name": "stdout",
          "text": [
            "x값: tensor([[ 0.9517,  0.8344, -0.3484],\n",
            "        [-0.4439, -0.5219,  0.9792],\n",
            "        [-1.6205, -0.1255,  0.4270]])\n",
            "y값: tensor([ 1.5752,  1.4499, -0.5903], grad_fn=<MvBackward0>)\n",
            "o값: tensor(2.4348, grad_fn=<SumBackward0>)\n",
            "a.grad값: tensor([-1.1127,  0.1870,  1.0578])\n",
            "x.sum(0)값: tensor([-1.1127,  0.1870,  1.0578])\n"
          ]
        }
      ]
    },
    {
      "cell_type": "markdown",
      "source": [
        "![스크린샷 2024-08-12 094402.png](data:image/png;base64,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)"
      ],
      "metadata": {
        "id": "UdCk2d5JCwWA"
      }
    },
    {
      "cell_type": "code",
      "source": [
        "# 간단한 예에서는 자동 미분의 장점을 느끼기 어려울 수도 있지만,\n",
        "# 신경망처럼 복잡한 함수에서 미분의 체인 규칙이 연속되는 경우에는 매우 중요한 역할을 한다."
      ],
      "metadata": {
        "id": "ohFjvZTW4JXE"
      },
      "execution_count": 37,
      "outputs": []
    },
    {
      "cell_type": "code",
      "source": [
        "# 텐서는 Numpy의 ndarray와 똑같은 방식으로 사용할 수 있는 다차원 배열로\n",
        "# GPU를 사용한 계산도 지원하고 있어서 규모가 큰 행렬의 연산 등에 그 위력을 발휘한다.\n",
        "\n",
        "# 텐서는 자동으로 미분을 계산할 수 있어서 신경망 최적화에 중요한 역할을 한다."
      ],
      "metadata": {
        "id": "AsnxVm_44JZm"
      },
      "execution_count": null,
      "outputs": []
    }
  ]
}
